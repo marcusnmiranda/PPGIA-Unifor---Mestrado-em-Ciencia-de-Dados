{
 "cells": [
  {
   "cell_type": "code",
   "execution_count": null,
   "metadata": {},
   "outputs": [],
   "source": [
    "import cv2\n",
    "import numpy as np "
   ]
  },
  {
   "cell_type": "code",
   "execution_count": null,
   "metadata": {},
   "outputs": [],
   "source": [
    "#path to classifiers\n",
    "path = 'cascades/'"
   ]
  },
  {
   "cell_type": "code",
   "execution_count": null,
   "metadata": {},
   "outputs": [],
   "source": [
    "#get image classifiers\n",
    "face_cascade = cv2.CascadeClassifier(path +'haarcascade_frontalface_default.xml')\n",
    "eye_cascade = cv2.CascadeClassifier(path +'haarcascade_eye.xml')"
   ]
  },
  {
   "cell_type": "code",
   "execution_count": null,
   "metadata": {},
   "outputs": [],
   "source": [
    "#read image\n",
    "img = cv2.imread('marcus.png')"
   ]
  },
  {
   "cell_type": "code",
   "execution_count": null,
   "metadata": {},
   "outputs": [],
   "source": [
    "#convert to gray\n",
    "gray = cv2.cvtColor(img, cv2.COLOR_BGR2GRAY)"
   ]
  },
  {
   "cell_type": "code",
   "execution_count": null,
   "metadata": {},
   "outputs": [],
   "source": [
    "#detect faces\n",
    "faces = face_cascade.detectMultiScale(gray, 1.3, 5)"
   ]
  },
  {
   "cell_type": "code",
   "execution_count": null,
   "metadata": {},
   "outputs": [],
   "source": [
    "#for each face\n",
    "for (x,y,w,h) in faces:\n",
    "    #draw rectangle around face\n",
    "    img = cv2.rectangle(img,(x,y),(x+w,y+h),(255,0,0),2)\n",
    "    #select face as region of interest \n",
    "    roi_gray = gray[y:y+h,x:x+h]\n",
    "    roi_color = img[y:y+h,x:x+h]\n",
    "    #within region of interest find eyes\n",
    "    eyes = eye_cascade.detectMultiScale(roi_gray)\n",
    "    #for each eye\n",
    "    for (ex,ey,ew,eh) in eyes:\n",
    "        #draw retangle around eye\n",
    "        cv2.rectangle(roi_color, (ex,ey),(ex+ew,ey+eh),(0,255,0),2)"
   ]
  },
  {
   "cell_type": "code",
   "execution_count": null,
   "metadata": {},
   "outputs": [],
   "source": [
    "cv2.imshow('img',img) #shows image\n",
    "cv2.waitKey(0) #waits until a key is pressed to progress\n",
    "cv2.destroyAllWindows() #closes windows"
   ]
  },
  {
   "cell_type": "code",
   "execution_count": null,
   "metadata": {},
   "outputs": [],
   "source": [
    "#read images\n",
    "img = cv2.imread('marcus.png')\n",
    "witch = cv2.imread('witch1.png')"
   ]
  },
  {
   "cell_type": "code",
   "execution_count": null,
   "metadata": {},
   "outputs": [],
   "source": [
    "#get shape of witch\n",
    "original_witch_h,original_witch_w,witch_channels = witch.shape"
   ]
  },
  {
   "cell_type": "code",
   "execution_count": null,
   "metadata": {},
   "outputs": [],
   "source": [
    "#get shape of img\n",
    "img_h,img_w,img_channels = img.shape"
   ]
  },
  {
   "cell_type": "code",
   "execution_count": null,
   "metadata": {},
   "outputs": [],
   "source": [
    "#convert to gray\n",
    "img_gray = cv2.cvtColor(img, cv2.COLOR_BGR2GRAY)\n",
    "witch_gray = cv2.cvtColor(witch, cv2.COLOR_BGR2GRAY)"
   ]
  },
  {
   "cell_type": "code",
   "execution_count": null,
   "metadata": {},
   "outputs": [],
   "source": [
    "#create mask and inverse mask of witch\n",
    "#Note: I used THRESH_BINARY_INV because my image was already on \n",
    "#transparent background, try cv2.THRESH_BINARY if you are using a white background\n",
    "ret, original_mask = cv2.threshold(witch_gray, 10, 255, cv2.THRESH_BINARY_INV)\n",
    "original_mask_inv = cv2.bitwise_not(original_mask)\n",
    "\n",
    "#find faces in image using classifier\n",
    "faces = face_cascade.detectMultiScale(img_gray, 1.3, 5)"
   ]
  },
  {
   "cell_type": "code",
   "execution_count": null,
   "metadata": {},
   "outputs": [],
   "source": [
    "for (x,y,w,h) in faces:\n",
    "    #retangle for testing purposes\n",
    "    #img = cv2.rectangle(img,(x,y),(x+w,y+h),(255,0,0),2)\n",
    "\n",
    "    #coordinates of face region\n",
    "    face_w = w\n",
    "    face_h = h\n",
    "    face_x1 = x\n",
    "    face_x2 = face_x1 + face_w\n",
    "    face_y1 = y\n",
    "    face_y2 = face_y1 + face_h\n",
    "\n",
    "    #witch size in relation to face by scaling\n",
    "    witch_width = int(1.5 * face_w)\n",
    "    witch_height = int(witch_width * original_witch_h / original_witch_w)\n",
    "    \n",
    "    #setting location of coordinates of witch\n",
    "    witch_x1 = face_x2 - int(face_w/2) - int(witch_width/2)\n",
    "    witch_x2 = witch_x1 + witch_width\n",
    "    witch_y1 = face_y1 - int(face_h*1.25)\n",
    "    witch_y2 = witch_y1 + witch_height \n",
    "\n",
    "    #check to see if out of frame\n",
    "    if witch_x1 < 0:\n",
    "        witch_x1 = 0\n",
    "    if witch_y1 < 0:\n",
    "        witch_y1 = 0\n",
    "    if witch_x2 > img_w:\n",
    "        witch_x2 = img_w\n",
    "    if witch_y2 > img_h:\n",
    "        witch_y2 = img_h\n",
    "\n",
    "    #Account for any out of frame changes\n",
    "    witch_width = witch_x2 - witch_x1\n",
    "    witch_height = witch_y2 - witch_y1\n",
    "\n",
    "    #resize witch to fit on face\n",
    "    witch = cv2.resize(witch, (witch_width,witch_height), interpolation = cv2.INTER_AREA)\n",
    "    mask = cv2.resize(original_mask, (witch_width,witch_height), interpolation = cv2.INTER_AREA)\n",
    "    mask_inv = cv2.resize(original_mask_inv, (witch_width,witch_height), interpolation = cv2.INTER_AREA)\n",
    "\n",
    "    #take ROI for witch from background that is equal to size of witch image\n",
    "    roi = img[witch_y1:witch_y2, witch_x1:witch_x2]\n",
    "\n",
    "    #original image in background (bg) where witch is not present\n",
    "    roi_bg = cv2.bitwise_and(roi,roi,mask = mask)\n",
    "    roi_fg = cv2.bitwise_and(witch,witch,mask=mask_inv)\n",
    "    dst = cv2.add(roi_bg,roi_fg)\n",
    "\n",
    "    #put back in original image\n",
    "    img[witch_y1:witch_y2, witch_x1:witch_x2] = dst"
   ]
  },
  {
   "cell_type": "code",
   "execution_count": null,
   "metadata": {},
   "outputs": [],
   "source": [
    "cv2.imshow('img',img)\n",
    "cv2.waitKey(0)\n",
    "cv2.destroyAllWindows()"
   ]
  },
  {
   "cell_type": "code",
   "execution_count": null,
   "metadata": {},
   "outputs": [],
   "source": [
    "#read images\n",
    "witch = cv2.imread('witch1.png')\n",
    "\n",
    "#get shape of witch\n",
    "original_witch_h,original_witch_w,witch_channels = witch.shape\n",
    "\n",
    "#get shape of img\n",
    "#img_h,img_w,img_channels = img.shape\n",
    "\n",
    "#convert to gray\n",
    "#img_gray = cv2.cvtColor(img, cv2.COLOR_BGR2GRAY)\n",
    "witch_gray = cv2.cvtColor(witch, cv2.COLOR_BGR2GRAY)\n",
    "\n",
    "#create mask and inverse mask of witch\n",
    "ret, original_mask = cv2.threshold(witch_gray, 10, 255, cv2.THRESH_BINARY_INV)\n",
    "original_mask_inv = cv2.bitwise_not(original_mask)\n",
    "\n",
    "#read video\n",
    "cap = cv2.VideoCapture(0)\n",
    "ret, img = cap.read()\n",
    "img_h, img_w = img.shape[:2]\n",
    "\n",
    "while True:   #continue to run until user breaks loop\n",
    "    \n",
    "    #read each frame of video and convert to gray\n",
    "    ret, img = cap.read()\n",
    "    gray = cv2.cvtColor(img,cv2.COLOR_BGR2GRAY)\n",
    "\n",
    "    #find faces in image using classifier\n",
    "    faces = face_cascade.detectMultiScale(gray, 1.3, 5)\n",
    "\n",
    "    #for every face found:\n",
    "    for (x,y,w,h) in faces:\n",
    "        #retangle for testing purposes\n",
    "        #img = cv2.rectangle(img,(x,y),(x+w,y+h),(255,0,0),2)\n",
    "\n",
    "        #coordinates of face region\n",
    "        face_w = w\n",
    "        face_h = h\n",
    "        face_x1 = x\n",
    "        face_x2 = face_x1 + face_w\n",
    "        face_y1 = y\n",
    "        face_y2 = face_y1 + face_h\n",
    "\n",
    "        #witch size in relation to face by scaling\n",
    "        witch_width = int(1.5 * face_w)\n",
    "        witch_height = int(witch_width * original_witch_h / original_witch_w)\n",
    "        \n",
    "        #setting location of coordinates of witch\n",
    "        witch_x1 = face_x2 - int(face_w/2) - int(witch_width/2)\n",
    "        witch_x2 = witch_x1 + witch_width\n",
    "        witch_y1 = face_y1 - int(face_h*1.25)\n",
    "        witch_y2 = witch_y1 + witch_height \n",
    "\n",
    "        #check to see if out of frame\n",
    "        if witch_x1 < 0:\n",
    "            witch_x1 = 0\n",
    "        if witch_y1 < 0:\n",
    "            witch_y1 = 0\n",
    "        if witch_x2 > img_w:\n",
    "            witch_x2 = img_w\n",
    "        if witch_y2 > img_h:\n",
    "            witch_y2 = img_h\n",
    "\n",
    "        #Account for any out of frame changes\n",
    "        witch_width = witch_x2 - witch_x1\n",
    "        witch_height = witch_y2 - witch_y1\n",
    "\n",
    "        #resize witch to fit on face\n",
    "        witch = cv2.resize(witch, (witch_width,witch_height), interpolation = cv2.INTER_AREA)\n",
    "        mask = cv2.resize(original_mask, (witch_width,witch_height), interpolation = cv2.INTER_AREA)\n",
    "        mask_inv = cv2.resize(original_mask_inv, (witch_width,witch_height), interpolation = cv2.INTER_AREA)\n",
    "\n",
    "        #take ROI for witch from background that is equal to size of witch image\n",
    "        roi = img[witch_y1:witch_y2, witch_x1:witch_x2]\n",
    "\n",
    "        #original image in background (bg) where witch is not\n",
    "        roi_bg = cv2.bitwise_and(roi,roi,mask = mask)\n",
    "        roi_fg = cv2.bitwise_and(witch,witch,mask=mask_inv)\n",
    "        dst = cv2.add(roi_bg,roi_fg)\n",
    "\n",
    "        #put back in original image\n",
    "        img[witch_y1:witch_y2, witch_x1:witch_x2] = dst\n",
    "\n",
    "\n",
    "        break\n",
    "    #display image\n",
    "    cv2.imshow('img',img) \n",
    "\n",
    "    #if user pressed 'q' break\n",
    "    if cv2.waitKey(1) == ord('q'): # \n",
    "        break;\n",
    "\n",
    "cap.release() #turn off camera \n",
    "cv2.destroyAllWindows() #close all windows\n",
    "\n"
   ]
  },
  {
   "cell_type": "code",
   "execution_count": null,
   "metadata": {},
   "outputs": [],
   "source": [
    "cap.release() #turn off camera \n",
    "cv2.destroyAllWindows() #close all windows"
   ]
  },
  {
   "cell_type": "code",
   "execution_count": null,
   "metadata": {},
   "outputs": [],
   "source": []
  }
 ],
 "metadata": {
  "kernelspec": {
   "display_name": "Python 3",
   "language": "python",
   "name": "python3"
  },
  "language_info": {
   "codemirror_mode": {
    "name": "ipython",
    "version": 3
   },
   "file_extension": ".py",
   "mimetype": "text/x-python",
   "name": "python",
   "nbconvert_exporter": "python",
   "pygments_lexer": "ipython3",
   "version": "3.7.0"
  }
 },
 "nbformat": 4,
 "nbformat_minor": 2
}
