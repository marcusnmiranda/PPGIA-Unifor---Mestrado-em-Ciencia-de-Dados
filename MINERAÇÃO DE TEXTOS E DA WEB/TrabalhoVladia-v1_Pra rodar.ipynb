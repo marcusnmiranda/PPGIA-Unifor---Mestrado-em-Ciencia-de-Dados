{
 "cells": [
  {
   "cell_type": "markdown",
   "metadata": {},
   "source": [
    "# Extração Geral de Features\n",
    "    Carregamento do Arquivo\n",
    "    Contar Palavras\n",
    "    Contar caracteres\n",
    "    Media de Caracteres por palavras\n",
    "    Quantidade de Stop Words\n",
    "    Quantidade de #hashTags e @Mençoes\n",
    "    Se existem numeros nos Tweets\n",
    "    Contagem de Palavras maiusculas"
   ]
  },
  {
   "cell_type": "markdown",
   "metadata": {},
   "source": [
    "# Processamento e Limpeza\n",
    "    Transformando em minusculo\n",
    "    Contrações\n",
    "    remoção e contagem de e-mails\n",
    "    remoção e contagem de URL\n",
    "    remoção de RT\n",
    "    Remoção de caracteres especiais\n",
    "    Remoção de multiplos espaços\n",
    "    Remoção de tags HTML\n",
    "    Remoção de caracteres acentuados\n",
    "    Remoção de Stop Words\n",
    "    Converter em base ou raiz da palavra\n",
    "    Remoção de palavras comuns\n",
    "    Remoção de palavras raras\n",
    "    Word Cloud\n",
    "    Correção Ortografica\n",
    "    Tokenização\n",
    "    Lematização\n",
    "    Deteção de Entidades Nomeadas (NER)\n",
    "    Detecção de substantivo\n",
    "    detecção de idioma\n",
    "    Tradução de frases\n",
    "    Usando um classificado de Sentimento   "
   ]
  },
  {
   "cell_type": "markdown",
   "metadata": {},
   "source": [
    "# Processamento de texto avançado e extração de recursos\n",
    "    N Gram, Bi Gram\n",
    "    Bag of Words(Bow)\n",
    "    Termo de Frequencia das Palavras(TF)\n",
    "    Frequencia inversa dos documentos (IDF)\n",
    "    TF IDF\n",
    "    Word Emmbedding Word2Vec usando SpaCy\n",
    "    "
   ]
  },
  {
   "cell_type": "markdown",
   "metadata": {},
   "source": [
    "# Modelos de Aprendizado de Máquina e Classificação de Textos\n",
    "    SGDClassifier\n",
    "    LogisticRegression\n",
    "    LogisticRegressionCV\n",
    "    LinearSVC\n",
    "    RandomForestClassifier"
   ]
  },
  {
   "cell_type": "code",
   "execution_count": 1,
   "metadata": {},
   "outputs": [],
   "source": [
    "import pandas as pd\n",
    "import numpy as np"
   ]
  },
  {
   "cell_type": "code",
   "execution_count": 2,
   "metadata": {},
   "outputs": [],
   "source": [
    "import spacy\n",
    "from spacy.lang.en.stop_words import STOP_WORDS"
   ]
  },
  {
   "cell_type": "code",
   "execution_count": 3,
   "metadata": {},
   "outputs": [],
   "source": [
    "#df = pd.read_csv('training.1600000.processed.noemoticon.csv', encoding='latin1', header=None)\n",
    "df = pd.read_csv('olid-training-v1.0.tsv', sep='\\t', usecols=('tweet','subtask_a'))"
   ]
  },
  {
   "cell_type": "code",
   "execution_count": 4,
   "metadata": {},
   "outputs": [
    {
     "data": {
      "text/html": [
       "<div>\n",
       "<style scoped>\n",
       "    .dataframe tbody tr th:only-of-type {\n",
       "        vertical-align: middle;\n",
       "    }\n",
       "\n",
       "    .dataframe tbody tr th {\n",
       "        vertical-align: top;\n",
       "    }\n",
       "\n",
       "    .dataframe thead th {\n",
       "        text-align: right;\n",
       "    }\n",
       "</style>\n",
       "<table border=\"1\" class=\"dataframe\">\n",
       "  <thead>\n",
       "    <tr style=\"text-align: right;\">\n",
       "      <th></th>\n",
       "      <th>tweet</th>\n",
       "      <th>subtask_a</th>\n",
       "    </tr>\n",
       "  </thead>\n",
       "  <tbody>\n",
       "    <tr>\n",
       "      <th>0</th>\n",
       "      <td>@USER She should ask a few native Americans wh...</td>\n",
       "      <td>OFF</td>\n",
       "    </tr>\n",
       "    <tr>\n",
       "      <th>1</th>\n",
       "      <td>@USER @USER Go home you’re drunk!!! @USER #MAG...</td>\n",
       "      <td>OFF</td>\n",
       "    </tr>\n",
       "    <tr>\n",
       "      <th>2</th>\n",
       "      <td>Amazon is investigating Chinese employees who ...</td>\n",
       "      <td>NOT</td>\n",
       "    </tr>\n",
       "    <tr>\n",
       "      <th>3</th>\n",
       "      <td>@USER Someone should'veTaken\" this piece of sh...</td>\n",
       "      <td>OFF</td>\n",
       "    </tr>\n",
       "    <tr>\n",
       "      <th>4</th>\n",
       "      <td>@USER @USER Obama wanted liberals &amp;amp; illega...</td>\n",
       "      <td>NOT</td>\n",
       "    </tr>\n",
       "  </tbody>\n",
       "</table>\n",
       "</div>"
      ],
      "text/plain": [
       "                                               tweet subtask_a\n",
       "0  @USER She should ask a few native Americans wh...       OFF\n",
       "1  @USER @USER Go home you’re drunk!!! @USER #MAG...       OFF\n",
       "2  Amazon is investigating Chinese employees who ...       NOT\n",
       "3  @USER Someone should'veTaken\" this piece of sh...       OFF\n",
       "4  @USER @USER Obama wanted liberals &amp; illega...       NOT"
      ]
     },
     "execution_count": 4,
     "metadata": {},
     "output_type": "execute_result"
    }
   ],
   "source": [
    "df.head()"
   ]
  },
  {
   "cell_type": "code",
   "execution_count": 5,
   "metadata": {},
   "outputs": [
    {
     "data": {
      "text/html": [
       "<div>\n",
       "<style scoped>\n",
       "    .dataframe tbody tr th:only-of-type {\n",
       "        vertical-align: middle;\n",
       "    }\n",
       "\n",
       "    .dataframe tbody tr th {\n",
       "        vertical-align: top;\n",
       "    }\n",
       "\n",
       "    .dataframe thead th {\n",
       "        text-align: right;\n",
       "    }\n",
       "</style>\n",
       "<table border=\"1\" class=\"dataframe\">\n",
       "  <thead>\n",
       "    <tr style=\"text-align: right;\">\n",
       "      <th></th>\n",
       "      <th>tweet</th>\n",
       "      <th>subtask_a</th>\n",
       "    </tr>\n",
       "  </thead>\n",
       "  <tbody>\n",
       "    <tr>\n",
       "      <th>0</th>\n",
       "      <td>@USER She should ask a few native Americans wh...</td>\n",
       "      <td>OFF</td>\n",
       "    </tr>\n",
       "    <tr>\n",
       "      <th>1</th>\n",
       "      <td>@USER @USER Go home you’re drunk!!! @USER #MAG...</td>\n",
       "      <td>OFF</td>\n",
       "    </tr>\n",
       "    <tr>\n",
       "      <th>2</th>\n",
       "      <td>Amazon is investigating Chinese employees who ...</td>\n",
       "      <td>NOT</td>\n",
       "    </tr>\n",
       "    <tr>\n",
       "      <th>3</th>\n",
       "      <td>@USER Someone should'veTaken\" this piece of sh...</td>\n",
       "      <td>OFF</td>\n",
       "    </tr>\n",
       "    <tr>\n",
       "      <th>4</th>\n",
       "      <td>@USER @USER Obama wanted liberals &amp;amp; illega...</td>\n",
       "      <td>NOT</td>\n",
       "    </tr>\n",
       "    <tr>\n",
       "      <th>...</th>\n",
       "      <td>...</td>\n",
       "      <td>...</td>\n",
       "    </tr>\n",
       "    <tr>\n",
       "      <th>13235</th>\n",
       "      <td>@USER Sometimes I get strong vibes from people...</td>\n",
       "      <td>OFF</td>\n",
       "    </tr>\n",
       "    <tr>\n",
       "      <th>13236</th>\n",
       "      <td>Benidorm ✅  Creamfields ✅  Maga ✅   Not too sh...</td>\n",
       "      <td>NOT</td>\n",
       "    </tr>\n",
       "    <tr>\n",
       "      <th>13237</th>\n",
       "      <td>@USER And why report this garbage.  We don't g...</td>\n",
       "      <td>OFF</td>\n",
       "    </tr>\n",
       "    <tr>\n",
       "      <th>13238</th>\n",
       "      <td>@USER Pussy</td>\n",
       "      <td>OFF</td>\n",
       "    </tr>\n",
       "    <tr>\n",
       "      <th>13239</th>\n",
       "      <td>#Spanishrevenge vs. #justice #HumanRights and ...</td>\n",
       "      <td>NOT</td>\n",
       "    </tr>\n",
       "  </tbody>\n",
       "</table>\n",
       "<p>13240 rows × 2 columns</p>\n",
       "</div>"
      ],
      "text/plain": [
       "                                                   tweet subtask_a\n",
       "0      @USER She should ask a few native Americans wh...       OFF\n",
       "1      @USER @USER Go home you’re drunk!!! @USER #MAG...       OFF\n",
       "2      Amazon is investigating Chinese employees who ...       NOT\n",
       "3      @USER Someone should'veTaken\" this piece of sh...       OFF\n",
       "4      @USER @USER Obama wanted liberals &amp; illega...       NOT\n",
       "...                                                  ...       ...\n",
       "13235  @USER Sometimes I get strong vibes from people...       OFF\n",
       "13236  Benidorm ✅  Creamfields ✅  Maga ✅   Not too sh...       NOT\n",
       "13237  @USER And why report this garbage.  We don't g...       OFF\n",
       "13238                                        @USER Pussy       OFF\n",
       "13239  #Spanishrevenge vs. #justice #HumanRights and ...       NOT\n",
       "\n",
       "[13240 rows x 2 columns]"
      ]
     },
     "execution_count": 5,
     "metadata": {},
     "output_type": "execute_result"
    }
   ],
   "source": [
    "#df = df[[5,0]]\n",
    "df"
   ]
  },
  {
   "cell_type": "code",
   "execution_count": 6,
   "metadata": {},
   "outputs": [
    {
     "data": {
      "text/html": [
       "<div>\n",
       "<style scoped>\n",
       "    .dataframe tbody tr th:only-of-type {\n",
       "        vertical-align: middle;\n",
       "    }\n",
       "\n",
       "    .dataframe tbody tr th {\n",
       "        vertical-align: top;\n",
       "    }\n",
       "\n",
       "    .dataframe thead th {\n",
       "        text-align: right;\n",
       "    }\n",
       "</style>\n",
       "<table border=\"1\" class=\"dataframe\">\n",
       "  <thead>\n",
       "    <tr style=\"text-align: right;\">\n",
       "      <th></th>\n",
       "      <th>twitts</th>\n",
       "      <th>sentiment</th>\n",
       "    </tr>\n",
       "  </thead>\n",
       "  <tbody>\n",
       "    <tr>\n",
       "      <th>0</th>\n",
       "      <td>@USER She should ask a few native Americans wh...</td>\n",
       "      <td>OFF</td>\n",
       "    </tr>\n",
       "    <tr>\n",
       "      <th>1</th>\n",
       "      <td>@USER @USER Go home you’re drunk!!! @USER #MAG...</td>\n",
       "      <td>OFF</td>\n",
       "    </tr>\n",
       "    <tr>\n",
       "      <th>2</th>\n",
       "      <td>Amazon is investigating Chinese employees who ...</td>\n",
       "      <td>NOT</td>\n",
       "    </tr>\n",
       "    <tr>\n",
       "      <th>3</th>\n",
       "      <td>@USER Someone should'veTaken\" this piece of sh...</td>\n",
       "      <td>OFF</td>\n",
       "    </tr>\n",
       "    <tr>\n",
       "      <th>4</th>\n",
       "      <td>@USER @USER Obama wanted liberals &amp;amp; illega...</td>\n",
       "      <td>NOT</td>\n",
       "    </tr>\n",
       "  </tbody>\n",
       "</table>\n",
       "</div>"
      ],
      "text/plain": [
       "                                              twitts sentiment\n",
       "0  @USER She should ask a few native Americans wh...       OFF\n",
       "1  @USER @USER Go home you’re drunk!!! @USER #MAG...       OFF\n",
       "2  Amazon is investigating Chinese employees who ...       NOT\n",
       "3  @USER Someone should'veTaken\" this piece of sh...       OFF\n",
       "4  @USER @USER Obama wanted liberals &amp; illega...       NOT"
      ]
     },
     "execution_count": 6,
     "metadata": {},
     "output_type": "execute_result"
    }
   ],
   "source": [
    "df.columns = ['twitts', 'sentiment']\n",
    "df.head()"
   ]
  },
  {
   "cell_type": "code",
   "execution_count": 7,
   "metadata": {},
   "outputs": [
    {
     "data": {
      "text/plain": [
       "NOT    8840\n",
       "OFF    4400\n",
       "Name: sentiment, dtype: int64"
      ]
     },
     "execution_count": 7,
     "metadata": {},
     "output_type": "execute_result"
    }
   ],
   "source": [
    "df['sentiment'].value_counts()"
   ]
  },
  {
   "cell_type": "code",
   "execution_count": 8,
   "metadata": {},
   "outputs": [],
   "source": [
    "import re\n",
    "sent_map = {0: 'Não Ofensivo', 1: 'Ofensivo'}"
   ]
  },
  {
   "cell_type": "markdown",
   "metadata": {},
   "source": [
    "### Contando Palavras"
   ]
  },
  {
   "cell_type": "code",
   "execution_count": 9,
   "metadata": {},
   "outputs": [],
   "source": [
    "df['word_counts']= df['twitts'].apply(lambda x: len(str(x).split()))"
   ]
  },
  {
   "cell_type": "code",
   "execution_count": 10,
   "metadata": {},
   "outputs": [
    {
     "data": {
      "text/html": [
       "<div>\n",
       "<style scoped>\n",
       "    .dataframe tbody tr th:only-of-type {\n",
       "        vertical-align: middle;\n",
       "    }\n",
       "\n",
       "    .dataframe tbody tr th {\n",
       "        vertical-align: top;\n",
       "    }\n",
       "\n",
       "    .dataframe thead th {\n",
       "        text-align: right;\n",
       "    }\n",
       "</style>\n",
       "<table border=\"1\" class=\"dataframe\">\n",
       "  <thead>\n",
       "    <tr style=\"text-align: right;\">\n",
       "      <th></th>\n",
       "      <th>twitts</th>\n",
       "      <th>sentiment</th>\n",
       "      <th>word_counts</th>\n",
       "    </tr>\n",
       "  </thead>\n",
       "  <tbody>\n",
       "    <tr>\n",
       "      <th>0</th>\n",
       "      <td>@USER She should ask a few native Americans wh...</td>\n",
       "      <td>OFF</td>\n",
       "      <td>14</td>\n",
       "    </tr>\n",
       "    <tr>\n",
       "      <th>1</th>\n",
       "      <td>@USER @USER Go home you’re drunk!!! @USER #MAG...</td>\n",
       "      <td>OFF</td>\n",
       "      <td>11</td>\n",
       "    </tr>\n",
       "    <tr>\n",
       "      <th>2</th>\n",
       "      <td>Amazon is investigating Chinese employees who ...</td>\n",
       "      <td>NOT</td>\n",
       "      <td>27</td>\n",
       "    </tr>\n",
       "    <tr>\n",
       "      <th>3</th>\n",
       "      <td>@USER Someone should'veTaken\" this piece of sh...</td>\n",
       "      <td>OFF</td>\n",
       "      <td>11</td>\n",
       "    </tr>\n",
       "    <tr>\n",
       "      <th>4</th>\n",
       "      <td>@USER @USER Obama wanted liberals &amp;amp; illega...</td>\n",
       "      <td>NOT</td>\n",
       "      <td>12</td>\n",
       "    </tr>\n",
       "  </tbody>\n",
       "</table>\n",
       "</div>"
      ],
      "text/plain": [
       "                                              twitts sentiment  word_counts\n",
       "0  @USER She should ask a few native Americans wh...       OFF           14\n",
       "1  @USER @USER Go home you’re drunk!!! @USER #MAG...       OFF           11\n",
       "2  Amazon is investigating Chinese employees who ...       NOT           27\n",
       "3  @USER Someone should'veTaken\" this piece of sh...       OFF           11\n",
       "4  @USER @USER Obama wanted liberals &amp; illega...       NOT           12"
      ]
     },
     "execution_count": 10,
     "metadata": {},
     "output_type": "execute_result"
    }
   ],
   "source": [
    "df.head()"
   ]
  },
  {
   "cell_type": "markdown",
   "metadata": {},
   "source": [
    "### Contando Caracteres"
   ]
  },
  {
   "cell_type": "code",
   "execution_count": 11,
   "metadata": {},
   "outputs": [],
   "source": [
    "df['char_counts']= df['twitts'].apply(lambda x: len(str(x)))"
   ]
  },
  {
   "cell_type": "code",
   "execution_count": 12,
   "metadata": {},
   "outputs": [
    {
     "data": {
      "text/html": [
       "<div>\n",
       "<style scoped>\n",
       "    .dataframe tbody tr th:only-of-type {\n",
       "        vertical-align: middle;\n",
       "    }\n",
       "\n",
       "    .dataframe tbody tr th {\n",
       "        vertical-align: top;\n",
       "    }\n",
       "\n",
       "    .dataframe thead th {\n",
       "        text-align: right;\n",
       "    }\n",
       "</style>\n",
       "<table border=\"1\" class=\"dataframe\">\n",
       "  <thead>\n",
       "    <tr style=\"text-align: right;\">\n",
       "      <th></th>\n",
       "      <th>twitts</th>\n",
       "      <th>sentiment</th>\n",
       "      <th>word_counts</th>\n",
       "      <th>char_counts</th>\n",
       "    </tr>\n",
       "  </thead>\n",
       "  <tbody>\n",
       "    <tr>\n",
       "      <th>0</th>\n",
       "      <td>@USER She should ask a few native Americans wh...</td>\n",
       "      <td>OFF</td>\n",
       "      <td>14</td>\n",
       "      <td>71</td>\n",
       "    </tr>\n",
       "    <tr>\n",
       "      <th>1</th>\n",
       "      <td>@USER @USER Go home you’re drunk!!! @USER #MAG...</td>\n",
       "      <td>OFF</td>\n",
       "      <td>11</td>\n",
       "      <td>67</td>\n",
       "    </tr>\n",
       "    <tr>\n",
       "      <th>2</th>\n",
       "      <td>Amazon is investigating Chinese employees who ...</td>\n",
       "      <td>NOT</td>\n",
       "      <td>27</td>\n",
       "      <td>182</td>\n",
       "    </tr>\n",
       "    <tr>\n",
       "      <th>3</th>\n",
       "      <td>@USER Someone should'veTaken\" this piece of sh...</td>\n",
       "      <td>OFF</td>\n",
       "      <td>11</td>\n",
       "      <td>65</td>\n",
       "    </tr>\n",
       "    <tr>\n",
       "      <th>4</th>\n",
       "      <td>@USER @USER Obama wanted liberals &amp;amp; illega...</td>\n",
       "      <td>NOT</td>\n",
       "      <td>12</td>\n",
       "      <td>72</td>\n",
       "    </tr>\n",
       "  </tbody>\n",
       "</table>\n",
       "</div>"
      ],
      "text/plain": [
       "                                              twitts sentiment  word_counts  \\\n",
       "0  @USER She should ask a few native Americans wh...       OFF           14   \n",
       "1  @USER @USER Go home you’re drunk!!! @USER #MAG...       OFF           11   \n",
       "2  Amazon is investigating Chinese employees who ...       NOT           27   \n",
       "3  @USER Someone should'veTaken\" this piece of sh...       OFF           11   \n",
       "4  @USER @USER Obama wanted liberals &amp; illega...       NOT           12   \n",
       "\n",
       "   char_counts  \n",
       "0           71  \n",
       "1           67  \n",
       "2          182  \n",
       "3           65  \n",
       "4           72  "
      ]
     },
     "execution_count": 12,
     "metadata": {},
     "output_type": "execute_result"
    }
   ],
   "source": [
    "df.head()"
   ]
  },
  {
   "cell_type": "markdown",
   "metadata": {},
   "source": [
    "### Comprimento médio das palavras"
   ]
  },
  {
   "cell_type": "code",
   "execution_count": 13,
   "metadata": {},
   "outputs": [],
   "source": [
    "#criando uma função\n",
    "def get_avg_word_len(x):\n",
    "    words = x.split()\n",
    "    word_len = 0\n",
    "    for word in words:\n",
    "        word_len = word_len + len(word)\n",
    "    return word_len/len(words)"
   ]
  },
  {
   "cell_type": "code",
   "execution_count": 14,
   "metadata": {},
   "outputs": [],
   "source": [
    "df['avg_word_len']= df['twitts'].apply(lambda x: get_avg_word_len(x))"
   ]
  },
  {
   "cell_type": "code",
   "execution_count": 15,
   "metadata": {},
   "outputs": [
    {
     "data": {
      "text/html": [
       "<div>\n",
       "<style scoped>\n",
       "    .dataframe tbody tr th:only-of-type {\n",
       "        vertical-align: middle;\n",
       "    }\n",
       "\n",
       "    .dataframe tbody tr th {\n",
       "        vertical-align: top;\n",
       "    }\n",
       "\n",
       "    .dataframe thead th {\n",
       "        text-align: right;\n",
       "    }\n",
       "</style>\n",
       "<table border=\"1\" class=\"dataframe\">\n",
       "  <thead>\n",
       "    <tr style=\"text-align: right;\">\n",
       "      <th></th>\n",
       "      <th>twitts</th>\n",
       "      <th>sentiment</th>\n",
       "      <th>word_counts</th>\n",
       "      <th>char_counts</th>\n",
       "      <th>avg_word_len</th>\n",
       "    </tr>\n",
       "  </thead>\n",
       "  <tbody>\n",
       "    <tr>\n",
       "      <th>0</th>\n",
       "      <td>@USER She should ask a few native Americans wh...</td>\n",
       "      <td>OFF</td>\n",
       "      <td>14</td>\n",
       "      <td>71</td>\n",
       "      <td>4.142857</td>\n",
       "    </tr>\n",
       "    <tr>\n",
       "      <th>1</th>\n",
       "      <td>@USER @USER Go home you’re drunk!!! @USER #MAG...</td>\n",
       "      <td>OFF</td>\n",
       "      <td>11</td>\n",
       "      <td>67</td>\n",
       "      <td>5.181818</td>\n",
       "    </tr>\n",
       "    <tr>\n",
       "      <th>2</th>\n",
       "      <td>Amazon is investigating Chinese employees who ...</td>\n",
       "      <td>NOT</td>\n",
       "      <td>27</td>\n",
       "      <td>182</td>\n",
       "      <td>5.777778</td>\n",
       "    </tr>\n",
       "    <tr>\n",
       "      <th>3</th>\n",
       "      <td>@USER Someone should'veTaken\" this piece of sh...</td>\n",
       "      <td>OFF</td>\n",
       "      <td>11</td>\n",
       "      <td>65</td>\n",
       "      <td>5.000000</td>\n",
       "    </tr>\n",
       "    <tr>\n",
       "      <th>4</th>\n",
       "      <td>@USER @USER Obama wanted liberals &amp;amp; illega...</td>\n",
       "      <td>NOT</td>\n",
       "      <td>12</td>\n",
       "      <td>72</td>\n",
       "      <td>5.083333</td>\n",
       "    </tr>\n",
       "  </tbody>\n",
       "</table>\n",
       "</div>"
      ],
      "text/plain": [
       "                                              twitts sentiment  word_counts  \\\n",
       "0  @USER She should ask a few native Americans wh...       OFF           14   \n",
       "1  @USER @USER Go home you’re drunk!!! @USER #MAG...       OFF           11   \n",
       "2  Amazon is investigating Chinese employees who ...       NOT           27   \n",
       "3  @USER Someone should'veTaken\" this piece of sh...       OFF           11   \n",
       "4  @USER @USER Obama wanted liberals &amp; illega...       NOT           12   \n",
       "\n",
       "   char_counts  avg_word_len  \n",
       "0           71      4.142857  \n",
       "1           67      5.181818  \n",
       "2          182      5.777778  \n",
       "3           65      5.000000  \n",
       "4           72      5.083333  "
      ]
     },
     "execution_count": 15,
     "metadata": {},
     "output_type": "execute_result"
    }
   ],
   "source": [
    "df.head()"
   ]
  },
  {
   "cell_type": "code",
   "execution_count": 16,
   "metadata": {},
   "outputs": [
    {
     "data": {
      "text/plain": [
       "6.052631578947368"
      ]
     },
     "execution_count": 16,
     "metadata": {},
     "output_type": "execute_result"
    }
   ],
   "source": [
    "115/19"
   ]
  },
  {
   "cell_type": "markdown",
   "metadata": {},
   "source": [
    "### Quantidade de Stop Words"
   ]
  },
  {
   "cell_type": "code",
   "execution_count": 17,
   "metadata": {},
   "outputs": [
    {
     "name": "stdout",
     "output_type": "stream",
     "text": [
      "{'namely', 'others', 'nor', 'several', 'into', 'there', 'quite', 'sometime', 'every', 'around', 'six', 'this', 'herself', 'otherwise', 'did', 'sixty', 'who', 'some', 'hers', 'doing', 'up', 'empty', 'upon', 'nevertheless', 'one', 'while', \"n't\", 'cannot', 'forty', 'such', 'mine', 'regarding', 'during', 'ourselves', 'its', 'n‘t', '‘s', 'take', 'fifteen', 'moreover', 'or', 'about', 'even', '‘d', 'seemed', 'thru', 'beside', 'me', 'last', 'sometimes', 'everything', 'seeming', 'various', 'whom', 'next', 'beyond', 'everywhere', 'latter', 'yourself', 'my', 'is', 'except', 'another', \"'s\", '’ll', 'do', 'you', \"'ve\", 'afterwards', 'anywhere', 'being', 'perhaps', 'put', 'already', 'off', 'see', 'per', 'really', 'whole', 'amongst', 'noone', \"'d\", 'move', 'further', 'hence', 'beforehand', 'together', 'thence', 'always', 'i', 'anything', 'between', 'yet', 'these', 'although', 'front', 'hundred', 'and', 'be', 'get', 'else', 'anyhow', 'all', 'never', 'only', 'whatever', 'nothing', 'then', 'too', 'back', 'him', 'once', 'down', 'he', 'whereafter', 'other', 'few', 'somehow', 'five', 'of', 'give', 'the', 'enough', 'no', 'because', 'someone', 'became', 'among', '’m', 'meanwhile', 'but', 'what', 'full', 'whenever', 'four', 'out', 'herein', 'whose', 'therefore', 'might', 'to', 'become', 'third', 'had', 'whence', 'still', 'has', 'though', 'would', 'bottom', '’re', 'which', 'whereupon', 'yours', 'throughout', 'yourselves', 'she', '‘ll', 'their', 'also', '‘m', 'as', 'over', 'show', 'name', 'at', 'twelve', 'within', 'just', 'his', 'through', 'they', 'than', 'after', 'been', 'due', 'we', 'made', 'own', 'please', 'hereby', 'using', 'nobody', 'must', 'n’t', '’s', 'without', 'against', 'us', \"'re\", 'towards', 'becomes', 'whereby', 'more', 'unless', 'an', 'done', 'first', 'thereupon', 'part', 'well', 'hereupon', 'not', 'ours', 'were', 'may', 'onto', 'when', 'across', 'ever', 'latterly', 'a', 'same', 'via', 'top', '‘re', 'amount', 'anyone', 'seems', 'indeed', 'serious', 'before', 'can', 'therein', 'again', \"'ll\", 'her', 'whoever', 'here', 'your', 'from', 'everyone', 'rather', 'whether', 'thereafter', 'will', 'less', '’d', 'thus', 'alone', 'so', 'since', 'side', 'nine', 'eleven', 'wherein', 'with', 'neither', 'nowhere', 'anyway', 'below', 'hereafter', 'until', 'many', 'myself', 'behind', 'mostly', 'something', 'for', 'am', 'go', 'by', 'our', 'itself', 'two', 'almost', 'now', 'was', 'both', 'whither', 'in', 'elsewhere', 'somewhere', 'besides', 'under', 'along', 'say', 'does', 'most', 'have', 'ca', 're', 'becoming', 'whereas', 'if', 'often', 'make', 'are', 'it', 'none', 'why', 'either', 'former', 'very', 'fifty', 'how', 'wherever', 'ten', 'any', 'three', 'toward', \"'m\", 'call', 'themselves', 'should', 'on', 'them', 'formerly', 'used', 'could', 'seem', 'least', 'much', 'that', 'twenty', 'where', 'himself', 'thereby', '’ve', '‘ve', 'above', 'those', 'each', 'however', 'keep', 'eight'}\n"
     ]
    }
   ],
   "source": [
    "print(STOP_WORDS)"
   ]
  },
  {
   "cell_type": "code",
   "execution_count": 18,
   "metadata": {},
   "outputs": [],
   "source": [
    "x = 'this is text data'"
   ]
  },
  {
   "cell_type": "code",
   "execution_count": 19,
   "metadata": {},
   "outputs": [
    {
     "data": {
      "text/plain": [
       "['this', 'is', 'text', 'data']"
      ]
     },
     "execution_count": 19,
     "metadata": {},
     "output_type": "execute_result"
    }
   ],
   "source": [
    "x.split()"
   ]
  },
  {
   "cell_type": "code",
   "execution_count": 20,
   "metadata": {},
   "outputs": [
    {
     "data": {
      "text/plain": [
       "2"
      ]
     },
     "execution_count": 20,
     "metadata": {},
     "output_type": "execute_result"
    }
   ],
   "source": [
    "len([t for t in x.split() if t in STOP_WORDS])"
   ]
  },
  {
   "cell_type": "code",
   "execution_count": 21,
   "metadata": {},
   "outputs": [],
   "source": [
    "df['stop_words_len'] = df['twitts'].apply(lambda x: len([t for t in x.split() if t in STOP_WORDS]) )"
   ]
  },
  {
   "cell_type": "code",
   "execution_count": 22,
   "metadata": {},
   "outputs": [
    {
     "data": {
      "text/html": [
       "<div>\n",
       "<style scoped>\n",
       "    .dataframe tbody tr th:only-of-type {\n",
       "        vertical-align: middle;\n",
       "    }\n",
       "\n",
       "    .dataframe tbody tr th {\n",
       "        vertical-align: top;\n",
       "    }\n",
       "\n",
       "    .dataframe thead th {\n",
       "        text-align: right;\n",
       "    }\n",
       "</style>\n",
       "<table border=\"1\" class=\"dataframe\">\n",
       "  <thead>\n",
       "    <tr style=\"text-align: right;\">\n",
       "      <th></th>\n",
       "      <th>twitts</th>\n",
       "      <th>sentiment</th>\n",
       "      <th>word_counts</th>\n",
       "      <th>char_counts</th>\n",
       "      <th>avg_word_len</th>\n",
       "      <th>stop_words_len</th>\n",
       "    </tr>\n",
       "  </thead>\n",
       "  <tbody>\n",
       "    <tr>\n",
       "      <th>0</th>\n",
       "      <td>@USER She should ask a few native Americans wh...</td>\n",
       "      <td>OFF</td>\n",
       "      <td>14</td>\n",
       "      <td>71</td>\n",
       "      <td>4.142857</td>\n",
       "      <td>8</td>\n",
       "    </tr>\n",
       "    <tr>\n",
       "      <th>1</th>\n",
       "      <td>@USER @USER Go home you’re drunk!!! @USER #MAG...</td>\n",
       "      <td>OFF</td>\n",
       "      <td>11</td>\n",
       "      <td>67</td>\n",
       "      <td>5.181818</td>\n",
       "      <td>0</td>\n",
       "    </tr>\n",
       "    <tr>\n",
       "      <th>2</th>\n",
       "      <td>Amazon is investigating Chinese employees who ...</td>\n",
       "      <td>NOT</td>\n",
       "      <td>27</td>\n",
       "      <td>182</td>\n",
       "      <td>5.777778</td>\n",
       "      <td>8</td>\n",
       "    </tr>\n",
       "    <tr>\n",
       "      <th>3</th>\n",
       "      <td>@USER Someone should'veTaken\" this piece of sh...</td>\n",
       "      <td>OFF</td>\n",
       "      <td>11</td>\n",
       "      <td>65</td>\n",
       "      <td>5.000000</td>\n",
       "      <td>4</td>\n",
       "    </tr>\n",
       "    <tr>\n",
       "      <th>4</th>\n",
       "      <td>@USER @USER Obama wanted liberals &amp;amp; illega...</td>\n",
       "      <td>NOT</td>\n",
       "      <td>12</td>\n",
       "      <td>72</td>\n",
       "      <td>5.083333</td>\n",
       "      <td>3</td>\n",
       "    </tr>\n",
       "  </tbody>\n",
       "</table>\n",
       "</div>"
      ],
      "text/plain": [
       "                                              twitts sentiment  word_counts  \\\n",
       "0  @USER She should ask a few native Americans wh...       OFF           14   \n",
       "1  @USER @USER Go home you’re drunk!!! @USER #MAG...       OFF           11   \n",
       "2  Amazon is investigating Chinese employees who ...       NOT           27   \n",
       "3  @USER Someone should'veTaken\" this piece of sh...       OFF           11   \n",
       "4  @USER @USER Obama wanted liberals &amp; illega...       NOT           12   \n",
       "\n",
       "   char_counts  avg_word_len  stop_words_len  \n",
       "0           71      4.142857               8  \n",
       "1           67      5.181818               0  \n",
       "2          182      5.777778               8  \n",
       "3           65      5.000000               4  \n",
       "4           72      5.083333               3  "
      ]
     },
     "execution_count": 22,
     "metadata": {},
     "output_type": "execute_result"
    }
   ],
   "source": [
    "df.head()"
   ]
  },
  {
   "cell_type": "markdown",
   "metadata": {},
   "source": [
    "### Quantidade de #HashTag e @Mençoes"
   ]
  },
  {
   "cell_type": "code",
   "execution_count": 23,
   "metadata": {},
   "outputs": [],
   "source": [
    "x = 'this #hashtag and this is @mention'"
   ]
  },
  {
   "cell_type": "code",
   "execution_count": 24,
   "metadata": {},
   "outputs": [
    {
     "data": {
      "text/plain": [
       "['this', '#hashtag', 'and', 'this', 'is', '@mention']"
      ]
     },
     "execution_count": 24,
     "metadata": {},
     "output_type": "execute_result"
    }
   ],
   "source": [
    "x.split()"
   ]
  },
  {
   "cell_type": "code",
   "execution_count": 25,
   "metadata": {},
   "outputs": [
    {
     "data": {
      "text/plain": [
       "['@mention']"
      ]
     },
     "execution_count": 25,
     "metadata": {},
     "output_type": "execute_result"
    }
   ],
   "source": [
    "[t for t in x.split() if t.startswith('@')]"
   ]
  },
  {
   "cell_type": "code",
   "execution_count": 26,
   "metadata": {},
   "outputs": [],
   "source": [
    "df['hashtags_count']=df['twitts'].apply(lambda x: len([t for t in x.split() if t.startswith('#')]))\n",
    "df['mentions_count']=df['twitts'].apply(lambda x: len([t for t in x.split() if t.startswith('@')]))"
   ]
  },
  {
   "cell_type": "code",
   "execution_count": 27,
   "metadata": {},
   "outputs": [
    {
     "data": {
      "text/html": [
       "<div>\n",
       "<style scoped>\n",
       "    .dataframe tbody tr th:only-of-type {\n",
       "        vertical-align: middle;\n",
       "    }\n",
       "\n",
       "    .dataframe tbody tr th {\n",
       "        vertical-align: top;\n",
       "    }\n",
       "\n",
       "    .dataframe thead th {\n",
       "        text-align: right;\n",
       "    }\n",
       "</style>\n",
       "<table border=\"1\" class=\"dataframe\">\n",
       "  <thead>\n",
       "    <tr style=\"text-align: right;\">\n",
       "      <th></th>\n",
       "      <th>twitts</th>\n",
       "      <th>sentiment</th>\n",
       "      <th>word_counts</th>\n",
       "      <th>char_counts</th>\n",
       "      <th>avg_word_len</th>\n",
       "      <th>stop_words_len</th>\n",
       "      <th>hashtags_count</th>\n",
       "      <th>mentions_count</th>\n",
       "    </tr>\n",
       "  </thead>\n",
       "  <tbody>\n",
       "    <tr>\n",
       "      <th>0</th>\n",
       "      <td>@USER She should ask a few native Americans wh...</td>\n",
       "      <td>OFF</td>\n",
       "      <td>14</td>\n",
       "      <td>71</td>\n",
       "      <td>4.142857</td>\n",
       "      <td>8</td>\n",
       "      <td>0</td>\n",
       "      <td>1</td>\n",
       "    </tr>\n",
       "    <tr>\n",
       "      <th>1</th>\n",
       "      <td>@USER @USER Go home you’re drunk!!! @USER #MAG...</td>\n",
       "      <td>OFF</td>\n",
       "      <td>11</td>\n",
       "      <td>67</td>\n",
       "      <td>5.181818</td>\n",
       "      <td>0</td>\n",
       "      <td>2</td>\n",
       "      <td>3</td>\n",
       "    </tr>\n",
       "    <tr>\n",
       "      <th>2</th>\n",
       "      <td>Amazon is investigating Chinese employees who ...</td>\n",
       "      <td>NOT</td>\n",
       "      <td>27</td>\n",
       "      <td>182</td>\n",
       "      <td>5.777778</td>\n",
       "      <td>8</td>\n",
       "      <td>5</td>\n",
       "      <td>0</td>\n",
       "    </tr>\n",
       "    <tr>\n",
       "      <th>3</th>\n",
       "      <td>@USER Someone should'veTaken\" this piece of sh...</td>\n",
       "      <td>OFF</td>\n",
       "      <td>11</td>\n",
       "      <td>65</td>\n",
       "      <td>5.000000</td>\n",
       "      <td>4</td>\n",
       "      <td>0</td>\n",
       "      <td>1</td>\n",
       "    </tr>\n",
       "    <tr>\n",
       "      <th>4</th>\n",
       "      <td>@USER @USER Obama wanted liberals &amp;amp; illega...</td>\n",
       "      <td>NOT</td>\n",
       "      <td>12</td>\n",
       "      <td>72</td>\n",
       "      <td>5.083333</td>\n",
       "      <td>3</td>\n",
       "      <td>0</td>\n",
       "      <td>2</td>\n",
       "    </tr>\n",
       "  </tbody>\n",
       "</table>\n",
       "</div>"
      ],
      "text/plain": [
       "                                              twitts sentiment  word_counts  \\\n",
       "0  @USER She should ask a few native Americans wh...       OFF           14   \n",
       "1  @USER @USER Go home you’re drunk!!! @USER #MAG...       OFF           11   \n",
       "2  Amazon is investigating Chinese employees who ...       NOT           27   \n",
       "3  @USER Someone should'veTaken\" this piece of sh...       OFF           11   \n",
       "4  @USER @USER Obama wanted liberals &amp; illega...       NOT           12   \n",
       "\n",
       "   char_counts  avg_word_len  stop_words_len  hashtags_count  mentions_count  \n",
       "0           71      4.142857               8               0               1  \n",
       "1           67      5.181818               0               2               3  \n",
       "2          182      5.777778               8               5               0  \n",
       "3           65      5.000000               4               0               1  \n",
       "4           72      5.083333               3               0               2  "
      ]
     },
     "execution_count": 27,
     "metadata": {},
     "output_type": "execute_result"
    }
   ],
   "source": [
    "df.head()"
   ]
  },
  {
   "cell_type": "markdown",
   "metadata": {},
   "source": [
    "### Digitos Numericos presentes no Twitts"
   ]
  },
  {
   "cell_type": "code",
   "execution_count": 28,
   "metadata": {},
   "outputs": [],
   "source": [
    "df['numeric_count'] = df['twitts'].apply(lambda x: len([t for t in x.split() if t.isdigit() ]))"
   ]
  },
  {
   "cell_type": "code",
   "execution_count": 29,
   "metadata": {},
   "outputs": [
    {
     "data": {
      "text/html": [
       "<div>\n",
       "<style scoped>\n",
       "    .dataframe tbody tr th:only-of-type {\n",
       "        vertical-align: middle;\n",
       "    }\n",
       "\n",
       "    .dataframe tbody tr th {\n",
       "        vertical-align: top;\n",
       "    }\n",
       "\n",
       "    .dataframe thead th {\n",
       "        text-align: right;\n",
       "    }\n",
       "</style>\n",
       "<table border=\"1\" class=\"dataframe\">\n",
       "  <thead>\n",
       "    <tr style=\"text-align: right;\">\n",
       "      <th></th>\n",
       "      <th>twitts</th>\n",
       "      <th>sentiment</th>\n",
       "      <th>word_counts</th>\n",
       "      <th>char_counts</th>\n",
       "      <th>avg_word_len</th>\n",
       "      <th>stop_words_len</th>\n",
       "      <th>hashtags_count</th>\n",
       "      <th>mentions_count</th>\n",
       "      <th>numeric_count</th>\n",
       "    </tr>\n",
       "  </thead>\n",
       "  <tbody>\n",
       "    <tr>\n",
       "      <th>0</th>\n",
       "      <td>@USER She should ask a few native Americans wh...</td>\n",
       "      <td>OFF</td>\n",
       "      <td>14</td>\n",
       "      <td>71</td>\n",
       "      <td>4.142857</td>\n",
       "      <td>8</td>\n",
       "      <td>0</td>\n",
       "      <td>1</td>\n",
       "      <td>0</td>\n",
       "    </tr>\n",
       "    <tr>\n",
       "      <th>1</th>\n",
       "      <td>@USER @USER Go home you’re drunk!!! @USER #MAG...</td>\n",
       "      <td>OFF</td>\n",
       "      <td>11</td>\n",
       "      <td>67</td>\n",
       "      <td>5.181818</td>\n",
       "      <td>0</td>\n",
       "      <td>2</td>\n",
       "      <td>3</td>\n",
       "      <td>0</td>\n",
       "    </tr>\n",
       "    <tr>\n",
       "      <th>2</th>\n",
       "      <td>Amazon is investigating Chinese employees who ...</td>\n",
       "      <td>NOT</td>\n",
       "      <td>27</td>\n",
       "      <td>182</td>\n",
       "      <td>5.777778</td>\n",
       "      <td>8</td>\n",
       "      <td>5</td>\n",
       "      <td>0</td>\n",
       "      <td>0</td>\n",
       "    </tr>\n",
       "    <tr>\n",
       "      <th>3</th>\n",
       "      <td>@USER Someone should'veTaken\" this piece of sh...</td>\n",
       "      <td>OFF</td>\n",
       "      <td>11</td>\n",
       "      <td>65</td>\n",
       "      <td>5.000000</td>\n",
       "      <td>4</td>\n",
       "      <td>0</td>\n",
       "      <td>1</td>\n",
       "      <td>0</td>\n",
       "    </tr>\n",
       "    <tr>\n",
       "      <th>4</th>\n",
       "      <td>@USER @USER Obama wanted liberals &amp;amp; illega...</td>\n",
       "      <td>NOT</td>\n",
       "      <td>12</td>\n",
       "      <td>72</td>\n",
       "      <td>5.083333</td>\n",
       "      <td>3</td>\n",
       "      <td>0</td>\n",
       "      <td>2</td>\n",
       "      <td>0</td>\n",
       "    </tr>\n",
       "  </tbody>\n",
       "</table>\n",
       "</div>"
      ],
      "text/plain": [
       "                                              twitts sentiment  word_counts  \\\n",
       "0  @USER She should ask a few native Americans wh...       OFF           14   \n",
       "1  @USER @USER Go home you’re drunk!!! @USER #MAG...       OFF           11   \n",
       "2  Amazon is investigating Chinese employees who ...       NOT           27   \n",
       "3  @USER Someone should'veTaken\" this piece of sh...       OFF           11   \n",
       "4  @USER @USER Obama wanted liberals &amp; illega...       NOT           12   \n",
       "\n",
       "   char_counts  avg_word_len  stop_words_len  hashtags_count  mentions_count  \\\n",
       "0           71      4.142857               8               0               1   \n",
       "1           67      5.181818               0               2               3   \n",
       "2          182      5.777778               8               5               0   \n",
       "3           65      5.000000               4               0               1   \n",
       "4           72      5.083333               3               0               2   \n",
       "\n",
       "   numeric_count  \n",
       "0              0  \n",
       "1              0  \n",
       "2              0  \n",
       "3              0  \n",
       "4              0  "
      ]
     },
     "execution_count": 29,
     "metadata": {},
     "output_type": "execute_result"
    }
   ],
   "source": [
    "df.head()"
   ]
  },
  {
   "cell_type": "markdown",
   "metadata": {},
   "source": [
    "### Contado letras maiusculas"
   ]
  },
  {
   "cell_type": "code",
   "execution_count": 30,
   "metadata": {},
   "outputs": [],
   "source": [
    "df['upper_counts'] = df['twitts'].apply(lambda x: len([t for t in x.split() if t.isupper() and len(x)>3]))"
   ]
  },
  {
   "cell_type": "code",
   "execution_count": 31,
   "metadata": {},
   "outputs": [
    {
     "data": {
      "text/plain": [
       "'@USER It\\'s easily digestible content.   There\\'s no need for nuance or to even understand the story.  They can show a picture of an ANTIFA\" and get the base level emotional response their content requires in order to be profitable.\"'"
      ]
     },
     "execution_count": 31,
     "metadata": {},
     "output_type": "execute_result"
    }
   ],
   "source": [
    "df.loc[90]['twitts']"
   ]
  },
  {
   "cell_type": "markdown",
   "metadata": {},
   "source": [
    "# Pré-processamento e limpeza"
   ]
  },
  {
   "cell_type": "markdown",
   "metadata": {},
   "source": [
    "### Conversão para minusculo"
   ]
  },
  {
   "cell_type": "code",
   "execution_count": 32,
   "metadata": {},
   "outputs": [],
   "source": [
    "df['twitts'] = df['twitts'].apply(lambda x: x.lower())"
   ]
  },
  {
   "cell_type": "code",
   "execution_count": 33,
   "metadata": {},
   "outputs": [
    {
     "data": {
      "text/html": [
       "<div>\n",
       "<style scoped>\n",
       "    .dataframe tbody tr th:only-of-type {\n",
       "        vertical-align: middle;\n",
       "    }\n",
       "\n",
       "    .dataframe tbody tr th {\n",
       "        vertical-align: top;\n",
       "    }\n",
       "\n",
       "    .dataframe thead th {\n",
       "        text-align: right;\n",
       "    }\n",
       "</style>\n",
       "<table border=\"1\" class=\"dataframe\">\n",
       "  <thead>\n",
       "    <tr style=\"text-align: right;\">\n",
       "      <th></th>\n",
       "      <th>twitts</th>\n",
       "      <th>sentiment</th>\n",
       "      <th>word_counts</th>\n",
       "      <th>char_counts</th>\n",
       "      <th>avg_word_len</th>\n",
       "      <th>stop_words_len</th>\n",
       "      <th>hashtags_count</th>\n",
       "      <th>mentions_count</th>\n",
       "      <th>numeric_count</th>\n",
       "      <th>upper_counts</th>\n",
       "    </tr>\n",
       "  </thead>\n",
       "  <tbody>\n",
       "    <tr>\n",
       "      <th>0</th>\n",
       "      <td>@user she should ask a few native americans wh...</td>\n",
       "      <td>OFF</td>\n",
       "      <td>14</td>\n",
       "      <td>71</td>\n",
       "      <td>4.142857</td>\n",
       "      <td>8</td>\n",
       "      <td>0</td>\n",
       "      <td>1</td>\n",
       "      <td>0</td>\n",
       "      <td>1</td>\n",
       "    </tr>\n",
       "    <tr>\n",
       "      <th>1</th>\n",
       "      <td>@user @user go home you’re drunk!!! @user #mag...</td>\n",
       "      <td>OFF</td>\n",
       "      <td>11</td>\n",
       "      <td>67</td>\n",
       "      <td>5.181818</td>\n",
       "      <td>0</td>\n",
       "      <td>2</td>\n",
       "      <td>3</td>\n",
       "      <td>0</td>\n",
       "      <td>5</td>\n",
       "    </tr>\n",
       "    <tr>\n",
       "      <th>2</th>\n",
       "      <td>amazon is investigating chinese employees who ...</td>\n",
       "      <td>NOT</td>\n",
       "      <td>27</td>\n",
       "      <td>182</td>\n",
       "      <td>5.777778</td>\n",
       "      <td>8</td>\n",
       "      <td>5</td>\n",
       "      <td>0</td>\n",
       "      <td>0</td>\n",
       "      <td>5</td>\n",
       "    </tr>\n",
       "    <tr>\n",
       "      <th>3</th>\n",
       "      <td>@user someone should'vetaken\" this piece of sh...</td>\n",
       "      <td>OFF</td>\n",
       "      <td>11</td>\n",
       "      <td>65</td>\n",
       "      <td>5.000000</td>\n",
       "      <td>4</td>\n",
       "      <td>0</td>\n",
       "      <td>1</td>\n",
       "      <td>0</td>\n",
       "      <td>1</td>\n",
       "    </tr>\n",
       "    <tr>\n",
       "      <th>4</th>\n",
       "      <td>@user @user obama wanted liberals &amp;amp; illega...</td>\n",
       "      <td>NOT</td>\n",
       "      <td>12</td>\n",
       "      <td>72</td>\n",
       "      <td>5.083333</td>\n",
       "      <td>3</td>\n",
       "      <td>0</td>\n",
       "      <td>2</td>\n",
       "      <td>0</td>\n",
       "      <td>2</td>\n",
       "    </tr>\n",
       "  </tbody>\n",
       "</table>\n",
       "</div>"
      ],
      "text/plain": [
       "                                              twitts sentiment  word_counts  \\\n",
       "0  @user she should ask a few native americans wh...       OFF           14   \n",
       "1  @user @user go home you’re drunk!!! @user #mag...       OFF           11   \n",
       "2  amazon is investigating chinese employees who ...       NOT           27   \n",
       "3  @user someone should'vetaken\" this piece of sh...       OFF           11   \n",
       "4  @user @user obama wanted liberals &amp; illega...       NOT           12   \n",
       "\n",
       "   char_counts  avg_word_len  stop_words_len  hashtags_count  mentions_count  \\\n",
       "0           71      4.142857               8               0               1   \n",
       "1           67      5.181818               0               2               3   \n",
       "2          182      5.777778               8               5               0   \n",
       "3           65      5.000000               4               0               1   \n",
       "4           72      5.083333               3               0               2   \n",
       "\n",
       "   numeric_count  upper_counts  \n",
       "0              0             1  \n",
       "1              0             5  \n",
       "2              0             5  \n",
       "3              0             1  \n",
       "4              0             2  "
      ]
     },
     "execution_count": 33,
     "metadata": {},
     "output_type": "execute_result"
    }
   ],
   "source": [
    "df.head()"
   ]
  },
  {
   "cell_type": "markdown",
   "metadata": {},
   "source": [
    "### Contrações"
   ]
  },
  {
   "cell_type": "code",
   "execution_count": 34,
   "metadata": {},
   "outputs": [],
   "source": [
    "contractions = {\n",
    "\"ain't\": \"am not\",\n",
    "\"aren't\": \"are not\",\n",
    "\"can't\": \"cannot\",\n",
    "\"can't've\": \"cannot have\",\n",
    "\"cause\": \"because\",\n",
    "\"could've\": \"could have\",\n",
    "\"couldn't\": \"could not\",\n",
    "\"couldn1t've\": \"could not have\", \n",
    "\"didn1t\": \"did not\",\n",
    "\"doesn't\": \"does not\",\n",
    "\"don’t\": \"do not\",\n",
    "\"hadn't\": \"had not\",\n",
    "\"hadn't've\": \"had not have\", \n",
    "\"hasn't\": \"has not\",\n",
    "\"haven't\": \"have not\",\n",
    "\"he'd\": \"he would\",\n",
    "\"he'd've\": \"he would have\",\n",
    "\"he'll\": \"he will\",\n",
    "\"he'111ve\": \"he will have\",\n",
    "\"he1s\": \"he is\",\n",
    "\"how'd\": \"how did\",\n",
    "\"howd'y\": \"how do you\",\n",
    "\"i'll've\":\"I will have\",\n",
    "\"i'd\":\"i Would\",\n",
    "\"i'm\":\"i am\",\n",
    "\"i've\":\"i have\",\n",
    "\"isn't\": \"is not\",\n",
    "\"it'd\": \"it would\",\n",
    "\"it'd,ve\": \"it would have\",\n",
    "\"let's\":\"let us\",\n",
    "\"ma'am\": \"madam\",\n",
    "\"mayrTt\": \"may not\",\n",
    "\"mighfve\": \"might have\",\n",
    "\"mightn1t\": \"might not\",\n",
    "\"mightn't've\": \"might not have\", \n",
    "\"musfve\": \"must have\",\n",
    "\"mustn't\": \"must not\",\n",
    "\"mustn't’ve\": \"must not have\",\n",
    "\"needn't\": \"need not\",\n",
    "\"needn't’ve\": \"need not have\",\n",
    "\"o'clock\": \"of ^he clock\", \n",
    "\"oughtn't\": \"ought not\",\n",
    "\"oughtn1t've\": \"ought not have\",\n",
    "\"shan't\": \"shall not\",\n",
    "\"sha'n't\": \"shall not\",\n",
    "\"shan't've\": \"shall not have\",\n",
    "\"she'd\": \"she would\",\n",
    "\"she'd've\": \"she would have\",\n",
    "\"she'll\": \"she will\",\n",
    "\"she'll've\": \"she will have\",\n",
    "\"she's\": \"she is\",\n",
    "\"should've\": \"should have\",\n",
    "\"shouldn't\": \"should not\"\n",
    "}"
   ]
  },
  {
   "cell_type": "code",
   "execution_count": 35,
   "metadata": {},
   "outputs": [],
   "source": [
    "def cont_to_exp(x):\n",
    "    if type(x) is str:\n",
    "        for key in contractions:\n",
    "            value = contractions[key]\n",
    "            x = x.replace(key, value)\n",
    "        return x\n",
    "    else:\n",
    "        return x"
   ]
  },
  {
   "cell_type": "code",
   "execution_count": 36,
   "metadata": {},
   "outputs": [],
   "source": [
    "x = \"hi, i'd be happy\""
   ]
  },
  {
   "cell_type": "code",
   "execution_count": 37,
   "metadata": {},
   "outputs": [
    {
     "data": {
      "text/plain": [
       "'hi, i Would be happy'"
      ]
     },
     "execution_count": 37,
     "metadata": {},
     "output_type": "execute_result"
    }
   ],
   "source": [
    "cont_to_exp(x)"
   ]
  },
  {
   "cell_type": "code",
   "execution_count": 38,
   "metadata": {},
   "outputs": [
    {
     "name": "stdout",
     "output_type": "stream",
     "text": [
      "Wall time: 167 ms\n"
     ]
    }
   ],
   "source": [
    "%%time\n",
    "df['twitts']=df['twitts'].apply(lambda x: cont_to_exp(x))"
   ]
  },
  {
   "cell_type": "code",
   "execution_count": 39,
   "metadata": {},
   "outputs": [
    {
     "data": {
      "text/html": [
       "<div>\n",
       "<style scoped>\n",
       "    .dataframe tbody tr th:only-of-type {\n",
       "        vertical-align: middle;\n",
       "    }\n",
       "\n",
       "    .dataframe tbody tr th {\n",
       "        vertical-align: top;\n",
       "    }\n",
       "\n",
       "    .dataframe thead th {\n",
       "        text-align: right;\n",
       "    }\n",
       "</style>\n",
       "<table border=\"1\" class=\"dataframe\">\n",
       "  <thead>\n",
       "    <tr style=\"text-align: right;\">\n",
       "      <th></th>\n",
       "      <th>twitts</th>\n",
       "      <th>sentiment</th>\n",
       "      <th>word_counts</th>\n",
       "      <th>char_counts</th>\n",
       "      <th>avg_word_len</th>\n",
       "      <th>stop_words_len</th>\n",
       "      <th>hashtags_count</th>\n",
       "      <th>mentions_count</th>\n",
       "      <th>numeric_count</th>\n",
       "      <th>upper_counts</th>\n",
       "    </tr>\n",
       "  </thead>\n",
       "  <tbody>\n",
       "    <tr>\n",
       "      <th>0</th>\n",
       "      <td>@user she should ask a few native americans wh...</td>\n",
       "      <td>OFF</td>\n",
       "      <td>14</td>\n",
       "      <td>71</td>\n",
       "      <td>4.142857</td>\n",
       "      <td>8</td>\n",
       "      <td>0</td>\n",
       "      <td>1</td>\n",
       "      <td>0</td>\n",
       "      <td>1</td>\n",
       "    </tr>\n",
       "    <tr>\n",
       "      <th>1</th>\n",
       "      <td>@user @user go home you’re drunk!!! @user #mag...</td>\n",
       "      <td>OFF</td>\n",
       "      <td>11</td>\n",
       "      <td>67</td>\n",
       "      <td>5.181818</td>\n",
       "      <td>0</td>\n",
       "      <td>2</td>\n",
       "      <td>3</td>\n",
       "      <td>0</td>\n",
       "      <td>5</td>\n",
       "    </tr>\n",
       "    <tr>\n",
       "      <th>2</th>\n",
       "      <td>amazon is investigating chinese employees who ...</td>\n",
       "      <td>NOT</td>\n",
       "      <td>27</td>\n",
       "      <td>182</td>\n",
       "      <td>5.777778</td>\n",
       "      <td>8</td>\n",
       "      <td>5</td>\n",
       "      <td>0</td>\n",
       "      <td>0</td>\n",
       "      <td>5</td>\n",
       "    </tr>\n",
       "    <tr>\n",
       "      <th>3</th>\n",
       "      <td>@user someone should havetaken\" this piece of ...</td>\n",
       "      <td>OFF</td>\n",
       "      <td>11</td>\n",
       "      <td>65</td>\n",
       "      <td>5.000000</td>\n",
       "      <td>4</td>\n",
       "      <td>0</td>\n",
       "      <td>1</td>\n",
       "      <td>0</td>\n",
       "      <td>1</td>\n",
       "    </tr>\n",
       "    <tr>\n",
       "      <th>4</th>\n",
       "      <td>@user @user obama wanted liberals &amp;amp; illega...</td>\n",
       "      <td>NOT</td>\n",
       "      <td>12</td>\n",
       "      <td>72</td>\n",
       "      <td>5.083333</td>\n",
       "      <td>3</td>\n",
       "      <td>0</td>\n",
       "      <td>2</td>\n",
       "      <td>0</td>\n",
       "      <td>2</td>\n",
       "    </tr>\n",
       "  </tbody>\n",
       "</table>\n",
       "</div>"
      ],
      "text/plain": [
       "                                              twitts sentiment  word_counts  \\\n",
       "0  @user she should ask a few native americans wh...       OFF           14   \n",
       "1  @user @user go home you’re drunk!!! @user #mag...       OFF           11   \n",
       "2  amazon is investigating chinese employees who ...       NOT           27   \n",
       "3  @user someone should havetaken\" this piece of ...       OFF           11   \n",
       "4  @user @user obama wanted liberals &amp; illega...       NOT           12   \n",
       "\n",
       "   char_counts  avg_word_len  stop_words_len  hashtags_count  mentions_count  \\\n",
       "0           71      4.142857               8               0               1   \n",
       "1           67      5.181818               0               2               3   \n",
       "2          182      5.777778               8               5               0   \n",
       "3           65      5.000000               4               0               1   \n",
       "4           72      5.083333               3               0               2   \n",
       "\n",
       "   numeric_count  upper_counts  \n",
       "0              0             1  \n",
       "1              0             5  \n",
       "2              0             5  \n",
       "3              0             1  \n",
       "4              0             2  "
      ]
     },
     "execution_count": 39,
     "metadata": {},
     "output_type": "execute_result"
    }
   ],
   "source": [
    "df.head()"
   ]
  },
  {
   "cell_type": "markdown",
   "metadata": {},
   "source": [
    "### Quantidade de E-mail e remoção deles"
   ]
  },
  {
   "cell_type": "code",
   "execution_count": 40,
   "metadata": {},
   "outputs": [],
   "source": [
    "import re"
   ]
  },
  {
   "cell_type": "code",
   "execution_count": 41,
   "metadata": {},
   "outputs": [],
   "source": [
    "x = 'hi my email me at email@email.com, outro@gmail.com'"
   ]
  },
  {
   "cell_type": "code",
   "execution_count": 42,
   "metadata": {},
   "outputs": [
    {
     "data": {
      "text/plain": [
       "['email@email.com', 'outro@gmail.com']"
      ]
     },
     "execution_count": 42,
     "metadata": {},
     "output_type": "execute_result"
    }
   ],
   "source": [
    "re.findall(r'([a-zA-Z0-9+._-]+@[a-zA-Z0-9]+\\.[a-zA-Z0-9_-]+)',x)"
   ]
  },
  {
   "cell_type": "code",
   "execution_count": 43,
   "metadata": {},
   "outputs": [],
   "source": [
    "df['emails']=df['twitts'].apply(lambda x: re.findall(r'([a-zA-Z0-9+._-]+@[a-zA-Z0-9]+\\.[a-zA-Z0-9_-]+)',x))"
   ]
  },
  {
   "cell_type": "code",
   "execution_count": 44,
   "metadata": {},
   "outputs": [],
   "source": [
    "df['emails_count']=df['emails'].apply(lambda x: len(x))"
   ]
  },
  {
   "cell_type": "code",
   "execution_count": 45,
   "metadata": {},
   "outputs": [
    {
     "data": {
      "text/html": [
       "<div>\n",
       "<style scoped>\n",
       "    .dataframe tbody tr th:only-of-type {\n",
       "        vertical-align: middle;\n",
       "    }\n",
       "\n",
       "    .dataframe tbody tr th {\n",
       "        vertical-align: top;\n",
       "    }\n",
       "\n",
       "    .dataframe thead th {\n",
       "        text-align: right;\n",
       "    }\n",
       "</style>\n",
       "<table border=\"1\" class=\"dataframe\">\n",
       "  <thead>\n",
       "    <tr style=\"text-align: right;\">\n",
       "      <th></th>\n",
       "      <th>twitts</th>\n",
       "      <th>sentiment</th>\n",
       "      <th>word_counts</th>\n",
       "      <th>char_counts</th>\n",
       "      <th>avg_word_len</th>\n",
       "      <th>stop_words_len</th>\n",
       "      <th>hashtags_count</th>\n",
       "      <th>mentions_count</th>\n",
       "      <th>numeric_count</th>\n",
       "      <th>upper_counts</th>\n",
       "      <th>emails</th>\n",
       "      <th>emails_count</th>\n",
       "    </tr>\n",
       "  </thead>\n",
       "  <tbody>\n",
       "  </tbody>\n",
       "</table>\n",
       "</div>"
      ],
      "text/plain": [
       "Empty DataFrame\n",
       "Columns: [twitts, sentiment, word_counts, char_counts, avg_word_len, stop_words_len, hashtags_count, mentions_count, numeric_count, upper_counts, emails, emails_count]\n",
       "Index: []"
      ]
     },
     "execution_count": 45,
     "metadata": {},
     "output_type": "execute_result"
    }
   ],
   "source": [
    "df[df['emails_count']>0].head()"
   ]
  },
  {
   "cell_type": "code",
   "execution_count": 46,
   "metadata": {},
   "outputs": [
    {
     "data": {
      "text/plain": [
       "'hi my email me at , '"
      ]
     },
     "execution_count": 46,
     "metadata": {},
     "output_type": "execute_result"
    }
   ],
   "source": [
    "re.sub(r'([a-zA-Z0-9+._-]+@[a-zA-Z0-9]+\\.[a-zA-Z0-9_-]+)','', x)"
   ]
  },
  {
   "cell_type": "code",
   "execution_count": 47,
   "metadata": {},
   "outputs": [],
   "source": [
    "df['twitts']=df['twitts'].apply(lambda x: re.sub(r'([a-zA-Z0-9+._-]+@[a-zA-Z0-9]+\\.[a-zA-Z0-9_-]+)','', x))"
   ]
  },
  {
   "cell_type": "code",
   "execution_count": 48,
   "metadata": {},
   "outputs": [
    {
     "data": {
      "text/html": [
       "<div>\n",
       "<style scoped>\n",
       "    .dataframe tbody tr th:only-of-type {\n",
       "        vertical-align: middle;\n",
       "    }\n",
       "\n",
       "    .dataframe tbody tr th {\n",
       "        vertical-align: top;\n",
       "    }\n",
       "\n",
       "    .dataframe thead th {\n",
       "        text-align: right;\n",
       "    }\n",
       "</style>\n",
       "<table border=\"1\" class=\"dataframe\">\n",
       "  <thead>\n",
       "    <tr style=\"text-align: right;\">\n",
       "      <th></th>\n",
       "      <th>twitts</th>\n",
       "      <th>sentiment</th>\n",
       "      <th>word_counts</th>\n",
       "      <th>char_counts</th>\n",
       "      <th>avg_word_len</th>\n",
       "      <th>stop_words_len</th>\n",
       "      <th>hashtags_count</th>\n",
       "      <th>mentions_count</th>\n",
       "      <th>numeric_count</th>\n",
       "      <th>upper_counts</th>\n",
       "      <th>emails</th>\n",
       "      <th>emails_count</th>\n",
       "    </tr>\n",
       "  </thead>\n",
       "  <tbody>\n",
       "  </tbody>\n",
       "</table>\n",
       "</div>"
      ],
      "text/plain": [
       "Empty DataFrame\n",
       "Columns: [twitts, sentiment, word_counts, char_counts, avg_word_len, stop_words_len, hashtags_count, mentions_count, numeric_count, upper_counts, emails, emails_count]\n",
       "Index: []"
      ]
     },
     "execution_count": 48,
     "metadata": {},
     "output_type": "execute_result"
    }
   ],
   "source": [
    "df[df['emails_count']>0].head()"
   ]
  },
  {
   "cell_type": "markdown",
   "metadata": {},
   "source": [
    "### Quantidade de URL e remoção delas"
   ]
  },
  {
   "cell_type": "code",
   "execution_count": 49,
   "metadata": {},
   "outputs": [],
   "source": [
    "x = 'hi, to watch more visit https://youtube.com/kgptalkie'"
   ]
  },
  {
   "cell_type": "code",
   "execution_count": 50,
   "metadata": {},
   "outputs": [
    {
     "data": {
      "text/plain": [
       "[('https', 'youtube.com', '/kgptalkie')]"
      ]
     },
     "execution_count": 50,
     "metadata": {},
     "output_type": "execute_result"
    }
   ],
   "source": [
    "re.findall(r'(http|ftp|https)://([\\w_-]+(?:(?:\\.[\\w_-]+)+))([\\w.,@?^=%&:/~+#-]*[\\w@?^=%&/~+#-])?', x)"
   ]
  },
  {
   "cell_type": "code",
   "execution_count": 51,
   "metadata": {},
   "outputs": [],
   "source": [
    "df['urls_flag']=df['twitts'].apply(lambda x: len(re.findall(r'(http|ftp|https)://([\\w_-]+(?:(?:\\.[\\w_-]+)+))([\\w.,@?^=%&:/~+#-]*[\\w@?^=%&/~+#-])?', x)))"
   ]
  },
  {
   "cell_type": "code",
   "execution_count": 52,
   "metadata": {},
   "outputs": [
    {
     "data": {
      "text/plain": [
       "'hi, to watch more visit '"
      ]
     },
     "execution_count": 52,
     "metadata": {},
     "output_type": "execute_result"
    }
   ],
   "source": [
    "re.sub(r'(http|ftp|https)://([\\w_-]+(?:(?:\\.[\\w_-]+)+))([\\w.,@?^=%&:/~+#-]*[\\w@?^=%&/~+#-])?','', x)"
   ]
  },
  {
   "cell_type": "code",
   "execution_count": 53,
   "metadata": {},
   "outputs": [],
   "source": [
    "df['twitts']=df['twitts'].apply(lambda x:re.sub(r'(http|ftp|https)://([\\w_-]+(?:(?:\\.[\\w_-]+)+))([\\w.,@?^=%&:/~+#-]*[\\w@?^=%&/~+#-])?','', x))"
   ]
  },
  {
   "cell_type": "code",
   "execution_count": 54,
   "metadata": {},
   "outputs": [
    {
     "data": {
      "text/html": [
       "<div>\n",
       "<style scoped>\n",
       "    .dataframe tbody tr th:only-of-type {\n",
       "        vertical-align: middle;\n",
       "    }\n",
       "\n",
       "    .dataframe tbody tr th {\n",
       "        vertical-align: top;\n",
       "    }\n",
       "\n",
       "    .dataframe thead th {\n",
       "        text-align: right;\n",
       "    }\n",
       "</style>\n",
       "<table border=\"1\" class=\"dataframe\">\n",
       "  <thead>\n",
       "    <tr style=\"text-align: right;\">\n",
       "      <th></th>\n",
       "      <th>twitts</th>\n",
       "      <th>sentiment</th>\n",
       "      <th>word_counts</th>\n",
       "      <th>char_counts</th>\n",
       "      <th>avg_word_len</th>\n",
       "      <th>stop_words_len</th>\n",
       "      <th>hashtags_count</th>\n",
       "      <th>mentions_count</th>\n",
       "      <th>numeric_count</th>\n",
       "      <th>upper_counts</th>\n",
       "      <th>emails</th>\n",
       "      <th>emails_count</th>\n",
       "      <th>urls_flag</th>\n",
       "    </tr>\n",
       "  </thead>\n",
       "  <tbody>\n",
       "    <tr>\n",
       "      <th>0</th>\n",
       "      <td>@user she should ask a few native americans wh...</td>\n",
       "      <td>OFF</td>\n",
       "      <td>14</td>\n",
       "      <td>71</td>\n",
       "      <td>4.142857</td>\n",
       "      <td>8</td>\n",
       "      <td>0</td>\n",
       "      <td>1</td>\n",
       "      <td>0</td>\n",
       "      <td>1</td>\n",
       "      <td>[]</td>\n",
       "      <td>0</td>\n",
       "      <td>0</td>\n",
       "    </tr>\n",
       "    <tr>\n",
       "      <th>1</th>\n",
       "      <td>@user @user go home you’re drunk!!! @user #mag...</td>\n",
       "      <td>OFF</td>\n",
       "      <td>11</td>\n",
       "      <td>67</td>\n",
       "      <td>5.181818</td>\n",
       "      <td>0</td>\n",
       "      <td>2</td>\n",
       "      <td>3</td>\n",
       "      <td>0</td>\n",
       "      <td>5</td>\n",
       "      <td>[]</td>\n",
       "      <td>0</td>\n",
       "      <td>0</td>\n",
       "    </tr>\n",
       "    <tr>\n",
       "      <th>2</th>\n",
       "      <td>amazon is investigating chinese employees who ...</td>\n",
       "      <td>NOT</td>\n",
       "      <td>27</td>\n",
       "      <td>182</td>\n",
       "      <td>5.777778</td>\n",
       "      <td>8</td>\n",
       "      <td>5</td>\n",
       "      <td>0</td>\n",
       "      <td>0</td>\n",
       "      <td>5</td>\n",
       "      <td>[]</td>\n",
       "      <td>0</td>\n",
       "      <td>0</td>\n",
       "    </tr>\n",
       "    <tr>\n",
       "      <th>3</th>\n",
       "      <td>@user someone should havetaken\" this piece of ...</td>\n",
       "      <td>OFF</td>\n",
       "      <td>11</td>\n",
       "      <td>65</td>\n",
       "      <td>5.000000</td>\n",
       "      <td>4</td>\n",
       "      <td>0</td>\n",
       "      <td>1</td>\n",
       "      <td>0</td>\n",
       "      <td>1</td>\n",
       "      <td>[]</td>\n",
       "      <td>0</td>\n",
       "      <td>0</td>\n",
       "    </tr>\n",
       "    <tr>\n",
       "      <th>4</th>\n",
       "      <td>@user @user obama wanted liberals &amp;amp; illega...</td>\n",
       "      <td>NOT</td>\n",
       "      <td>12</td>\n",
       "      <td>72</td>\n",
       "      <td>5.083333</td>\n",
       "      <td>3</td>\n",
       "      <td>0</td>\n",
       "      <td>2</td>\n",
       "      <td>0</td>\n",
       "      <td>2</td>\n",
       "      <td>[]</td>\n",
       "      <td>0</td>\n",
       "      <td>0</td>\n",
       "    </tr>\n",
       "  </tbody>\n",
       "</table>\n",
       "</div>"
      ],
      "text/plain": [
       "                                              twitts sentiment  word_counts  \\\n",
       "0  @user she should ask a few native americans wh...       OFF           14   \n",
       "1  @user @user go home you’re drunk!!! @user #mag...       OFF           11   \n",
       "2  amazon is investigating chinese employees who ...       NOT           27   \n",
       "3  @user someone should havetaken\" this piece of ...       OFF           11   \n",
       "4  @user @user obama wanted liberals &amp; illega...       NOT           12   \n",
       "\n",
       "   char_counts  avg_word_len  stop_words_len  hashtags_count  mentions_count  \\\n",
       "0           71      4.142857               8               0               1   \n",
       "1           67      5.181818               0               2               3   \n",
       "2          182      5.777778               8               5               0   \n",
       "3           65      5.000000               4               0               1   \n",
       "4           72      5.083333               3               0               2   \n",
       "\n",
       "   numeric_count  upper_counts emails  emails_count  urls_flag  \n",
       "0              0             1     []             0          0  \n",
       "1              0             5     []             0          0  \n",
       "2              0             5     []             0          0  \n",
       "3              0             1     []             0          0  \n",
       "4              0             2     []             0          0  "
      ]
     },
     "execution_count": 54,
     "metadata": {},
     "output_type": "execute_result"
    }
   ],
   "source": [
    "df.head()"
   ]
  },
  {
   "cell_type": "code",
   "execution_count": 55,
   "metadata": {},
   "outputs": [
    {
     "data": {
      "text/plain": [
       "'@user she should ask a few native americans what their take on this is.'"
      ]
     },
     "execution_count": 55,
     "metadata": {},
     "output_type": "execute_result"
    }
   ],
   "source": [
    "df.loc[0]['twitts']"
   ]
  },
  {
   "cell_type": "markdown",
   "metadata": {},
   "source": [
    "### Remove RT"
   ]
  },
  {
   "cell_type": "code",
   "execution_count": 56,
   "metadata": {},
   "outputs": [],
   "source": [
    "df['twitts'] = df['twitts'].apply(lambda x: re.sub('RT', \"\", x))"
   ]
  },
  {
   "cell_type": "code",
   "execution_count": 57,
   "metadata": {},
   "outputs": [
    {
     "data": {
      "text/html": [
       "<div>\n",
       "<style scoped>\n",
       "    .dataframe tbody tr th:only-of-type {\n",
       "        vertical-align: middle;\n",
       "    }\n",
       "\n",
       "    .dataframe tbody tr th {\n",
       "        vertical-align: top;\n",
       "    }\n",
       "\n",
       "    .dataframe thead th {\n",
       "        text-align: right;\n",
       "    }\n",
       "</style>\n",
       "<table border=\"1\" class=\"dataframe\">\n",
       "  <thead>\n",
       "    <tr style=\"text-align: right;\">\n",
       "      <th></th>\n",
       "      <th>twitts</th>\n",
       "      <th>sentiment</th>\n",
       "      <th>word_counts</th>\n",
       "      <th>char_counts</th>\n",
       "      <th>avg_word_len</th>\n",
       "      <th>stop_words_len</th>\n",
       "      <th>hashtags_count</th>\n",
       "      <th>mentions_count</th>\n",
       "      <th>numeric_count</th>\n",
       "      <th>upper_counts</th>\n",
       "      <th>emails</th>\n",
       "      <th>emails_count</th>\n",
       "      <th>urls_flag</th>\n",
       "    </tr>\n",
       "  </thead>\n",
       "  <tbody>\n",
       "    <tr>\n",
       "      <th>0</th>\n",
       "      <td>@user she should ask a few native americans wh...</td>\n",
       "      <td>OFF</td>\n",
       "      <td>14</td>\n",
       "      <td>71</td>\n",
       "      <td>4.142857</td>\n",
       "      <td>8</td>\n",
       "      <td>0</td>\n",
       "      <td>1</td>\n",
       "      <td>0</td>\n",
       "      <td>1</td>\n",
       "      <td>[]</td>\n",
       "      <td>0</td>\n",
       "      <td>0</td>\n",
       "    </tr>\n",
       "    <tr>\n",
       "      <th>1</th>\n",
       "      <td>@user @user go home you’re drunk!!! @user #mag...</td>\n",
       "      <td>OFF</td>\n",
       "      <td>11</td>\n",
       "      <td>67</td>\n",
       "      <td>5.181818</td>\n",
       "      <td>0</td>\n",
       "      <td>2</td>\n",
       "      <td>3</td>\n",
       "      <td>0</td>\n",
       "      <td>5</td>\n",
       "      <td>[]</td>\n",
       "      <td>0</td>\n",
       "      <td>0</td>\n",
       "    </tr>\n",
       "    <tr>\n",
       "      <th>2</th>\n",
       "      <td>amazon is investigating chinese employees who ...</td>\n",
       "      <td>NOT</td>\n",
       "      <td>27</td>\n",
       "      <td>182</td>\n",
       "      <td>5.777778</td>\n",
       "      <td>8</td>\n",
       "      <td>5</td>\n",
       "      <td>0</td>\n",
       "      <td>0</td>\n",
       "      <td>5</td>\n",
       "      <td>[]</td>\n",
       "      <td>0</td>\n",
       "      <td>0</td>\n",
       "    </tr>\n",
       "    <tr>\n",
       "      <th>3</th>\n",
       "      <td>@user someone should havetaken\" this piece of ...</td>\n",
       "      <td>OFF</td>\n",
       "      <td>11</td>\n",
       "      <td>65</td>\n",
       "      <td>5.000000</td>\n",
       "      <td>4</td>\n",
       "      <td>0</td>\n",
       "      <td>1</td>\n",
       "      <td>0</td>\n",
       "      <td>1</td>\n",
       "      <td>[]</td>\n",
       "      <td>0</td>\n",
       "      <td>0</td>\n",
       "    </tr>\n",
       "    <tr>\n",
       "      <th>4</th>\n",
       "      <td>@user @user obama wanted liberals &amp;amp; illega...</td>\n",
       "      <td>NOT</td>\n",
       "      <td>12</td>\n",
       "      <td>72</td>\n",
       "      <td>5.083333</td>\n",
       "      <td>3</td>\n",
       "      <td>0</td>\n",
       "      <td>2</td>\n",
       "      <td>0</td>\n",
       "      <td>2</td>\n",
       "      <td>[]</td>\n",
       "      <td>0</td>\n",
       "      <td>0</td>\n",
       "    </tr>\n",
       "  </tbody>\n",
       "</table>\n",
       "</div>"
      ],
      "text/plain": [
       "                                              twitts sentiment  word_counts  \\\n",
       "0  @user she should ask a few native americans wh...       OFF           14   \n",
       "1  @user @user go home you’re drunk!!! @user #mag...       OFF           11   \n",
       "2  amazon is investigating chinese employees who ...       NOT           27   \n",
       "3  @user someone should havetaken\" this piece of ...       OFF           11   \n",
       "4  @user @user obama wanted liberals &amp; illega...       NOT           12   \n",
       "\n",
       "   char_counts  avg_word_len  stop_words_len  hashtags_count  mentions_count  \\\n",
       "0           71      4.142857               8               0               1   \n",
       "1           67      5.181818               0               2               3   \n",
       "2          182      5.777778               8               5               0   \n",
       "3           65      5.000000               4               0               1   \n",
       "4           72      5.083333               3               0               2   \n",
       "\n",
       "   numeric_count  upper_counts emails  emails_count  urls_flag  \n",
       "0              0             1     []             0          0  \n",
       "1              0             5     []             0          0  \n",
       "2              0             5     []             0          0  \n",
       "3              0             1     []             0          0  \n",
       "4              0             2     []             0          0  "
      ]
     },
     "execution_count": 57,
     "metadata": {},
     "output_type": "execute_result"
    }
   ],
   "source": [
    "df.head()"
   ]
  },
  {
   "cell_type": "markdown",
   "metadata": {},
   "source": [
    "### Removendo caracteres especiais"
   ]
  },
  {
   "cell_type": "code",
   "execution_count": 58,
   "metadata": {},
   "outputs": [],
   "source": [
    "df['twitts'] = df['twitts'].apply(lambda x: re.sub('[^A-Z a-z 0-9-]+','', x))"
   ]
  },
  {
   "cell_type": "code",
   "execution_count": 59,
   "metadata": {},
   "outputs": [
    {
     "data": {
      "text/html": [
       "<div>\n",
       "<style scoped>\n",
       "    .dataframe tbody tr th:only-of-type {\n",
       "        vertical-align: middle;\n",
       "    }\n",
       "\n",
       "    .dataframe tbody tr th {\n",
       "        vertical-align: top;\n",
       "    }\n",
       "\n",
       "    .dataframe thead th {\n",
       "        text-align: right;\n",
       "    }\n",
       "</style>\n",
       "<table border=\"1\" class=\"dataframe\">\n",
       "  <thead>\n",
       "    <tr style=\"text-align: right;\">\n",
       "      <th></th>\n",
       "      <th>twitts</th>\n",
       "      <th>sentiment</th>\n",
       "      <th>word_counts</th>\n",
       "      <th>char_counts</th>\n",
       "      <th>avg_word_len</th>\n",
       "      <th>stop_words_len</th>\n",
       "      <th>hashtags_count</th>\n",
       "      <th>mentions_count</th>\n",
       "      <th>numeric_count</th>\n",
       "      <th>upper_counts</th>\n",
       "      <th>emails</th>\n",
       "      <th>emails_count</th>\n",
       "      <th>urls_flag</th>\n",
       "    </tr>\n",
       "  </thead>\n",
       "  <tbody>\n",
       "    <tr>\n",
       "      <th>0</th>\n",
       "      <td>user she should ask a few native americans wha...</td>\n",
       "      <td>OFF</td>\n",
       "      <td>14</td>\n",
       "      <td>71</td>\n",
       "      <td>4.142857</td>\n",
       "      <td>8</td>\n",
       "      <td>0</td>\n",
       "      <td>1</td>\n",
       "      <td>0</td>\n",
       "      <td>1</td>\n",
       "      <td>[]</td>\n",
       "      <td>0</td>\n",
       "      <td>0</td>\n",
       "    </tr>\n",
       "    <tr>\n",
       "      <th>1</th>\n",
       "      <td>user user go home youre drunk user maga trump2...</td>\n",
       "      <td>OFF</td>\n",
       "      <td>11</td>\n",
       "      <td>67</td>\n",
       "      <td>5.181818</td>\n",
       "      <td>0</td>\n",
       "      <td>2</td>\n",
       "      <td>3</td>\n",
       "      <td>0</td>\n",
       "      <td>5</td>\n",
       "      <td>[]</td>\n",
       "      <td>0</td>\n",
       "      <td>0</td>\n",
       "    </tr>\n",
       "    <tr>\n",
       "      <th>2</th>\n",
       "      <td>amazon is investigating chinese employees who ...</td>\n",
       "      <td>NOT</td>\n",
       "      <td>27</td>\n",
       "      <td>182</td>\n",
       "      <td>5.777778</td>\n",
       "      <td>8</td>\n",
       "      <td>5</td>\n",
       "      <td>0</td>\n",
       "      <td>0</td>\n",
       "      <td>5</td>\n",
       "      <td>[]</td>\n",
       "      <td>0</td>\n",
       "      <td>0</td>\n",
       "    </tr>\n",
       "    <tr>\n",
       "      <th>3</th>\n",
       "      <td>user someone should havetaken this piece of sh...</td>\n",
       "      <td>OFF</td>\n",
       "      <td>11</td>\n",
       "      <td>65</td>\n",
       "      <td>5.000000</td>\n",
       "      <td>4</td>\n",
       "      <td>0</td>\n",
       "      <td>1</td>\n",
       "      <td>0</td>\n",
       "      <td>1</td>\n",
       "      <td>[]</td>\n",
       "      <td>0</td>\n",
       "      <td>0</td>\n",
       "    </tr>\n",
       "    <tr>\n",
       "      <th>4</th>\n",
       "      <td>user user obama wanted liberals amp illegals t...</td>\n",
       "      <td>NOT</td>\n",
       "      <td>12</td>\n",
       "      <td>72</td>\n",
       "      <td>5.083333</td>\n",
       "      <td>3</td>\n",
       "      <td>0</td>\n",
       "      <td>2</td>\n",
       "      <td>0</td>\n",
       "      <td>2</td>\n",
       "      <td>[]</td>\n",
       "      <td>0</td>\n",
       "      <td>0</td>\n",
       "    </tr>\n",
       "  </tbody>\n",
       "</table>\n",
       "</div>"
      ],
      "text/plain": [
       "                                              twitts sentiment  word_counts  \\\n",
       "0  user she should ask a few native americans wha...       OFF           14   \n",
       "1  user user go home youre drunk user maga trump2...       OFF           11   \n",
       "2  amazon is investigating chinese employees who ...       NOT           27   \n",
       "3  user someone should havetaken this piece of sh...       OFF           11   \n",
       "4  user user obama wanted liberals amp illegals t...       NOT           12   \n",
       "\n",
       "   char_counts  avg_word_len  stop_words_len  hashtags_count  mentions_count  \\\n",
       "0           71      4.142857               8               0               1   \n",
       "1           67      5.181818               0               2               3   \n",
       "2          182      5.777778               8               5               0   \n",
       "3           65      5.000000               4               0               1   \n",
       "4           72      5.083333               3               0               2   \n",
       "\n",
       "   numeric_count  upper_counts emails  emails_count  urls_flag  \n",
       "0              0             1     []             0          0  \n",
       "1              0             5     []             0          0  \n",
       "2              0             5     []             0          0  \n",
       "3              0             1     []             0          0  \n",
       "4              0             2     []             0          0  "
      ]
     },
     "execution_count": 59,
     "metadata": {},
     "output_type": "execute_result"
    }
   ],
   "source": [
    "df.head()"
   ]
  },
  {
   "cell_type": "markdown",
   "metadata": {},
   "source": [
    "### Removendo multiplos espaços   \n",
    "    \"hi         hello        \""
   ]
  },
  {
   "cell_type": "code",
   "execution_count": 60,
   "metadata": {},
   "outputs": [],
   "source": [
    "x = 'Thanks     for    watching      and please     like this     video'"
   ]
  },
  {
   "cell_type": "code",
   "execution_count": 61,
   "metadata": {},
   "outputs": [
    {
     "data": {
      "text/plain": [
       "'Thanks for watching and please like this video'"
      ]
     },
     "execution_count": 61,
     "metadata": {},
     "output_type": "execute_result"
    }
   ],
   "source": [
    "\" \".join(x.split())"
   ]
  },
  {
   "cell_type": "code",
   "execution_count": 62,
   "metadata": {},
   "outputs": [],
   "source": [
    "df['twitts'] = df['twitts'].apply(lambda x:\" \".join(x.split()))"
   ]
  },
  {
   "cell_type": "code",
   "execution_count": 63,
   "metadata": {},
   "outputs": [
    {
     "data": {
      "text/html": [
       "<div>\n",
       "<style scoped>\n",
       "    .dataframe tbody tr th:only-of-type {\n",
       "        vertical-align: middle;\n",
       "    }\n",
       "\n",
       "    .dataframe tbody tr th {\n",
       "        vertical-align: top;\n",
       "    }\n",
       "\n",
       "    .dataframe thead th {\n",
       "        text-align: right;\n",
       "    }\n",
       "</style>\n",
       "<table border=\"1\" class=\"dataframe\">\n",
       "  <thead>\n",
       "    <tr style=\"text-align: right;\">\n",
       "      <th></th>\n",
       "      <th>twitts</th>\n",
       "      <th>sentiment</th>\n",
       "      <th>word_counts</th>\n",
       "      <th>char_counts</th>\n",
       "      <th>avg_word_len</th>\n",
       "      <th>stop_words_len</th>\n",
       "      <th>hashtags_count</th>\n",
       "      <th>mentions_count</th>\n",
       "      <th>numeric_count</th>\n",
       "      <th>upper_counts</th>\n",
       "      <th>emails</th>\n",
       "      <th>emails_count</th>\n",
       "      <th>urls_flag</th>\n",
       "    </tr>\n",
       "  </thead>\n",
       "  <tbody>\n",
       "    <tr>\n",
       "      <th>0</th>\n",
       "      <td>user she should ask a few native americans wha...</td>\n",
       "      <td>OFF</td>\n",
       "      <td>14</td>\n",
       "      <td>71</td>\n",
       "      <td>4.142857</td>\n",
       "      <td>8</td>\n",
       "      <td>0</td>\n",
       "      <td>1</td>\n",
       "      <td>0</td>\n",
       "      <td>1</td>\n",
       "      <td>[]</td>\n",
       "      <td>0</td>\n",
       "      <td>0</td>\n",
       "    </tr>\n",
       "    <tr>\n",
       "      <th>1</th>\n",
       "      <td>user user go home youre drunk user maga trump2...</td>\n",
       "      <td>OFF</td>\n",
       "      <td>11</td>\n",
       "      <td>67</td>\n",
       "      <td>5.181818</td>\n",
       "      <td>0</td>\n",
       "      <td>2</td>\n",
       "      <td>3</td>\n",
       "      <td>0</td>\n",
       "      <td>5</td>\n",
       "      <td>[]</td>\n",
       "      <td>0</td>\n",
       "      <td>0</td>\n",
       "    </tr>\n",
       "    <tr>\n",
       "      <th>2</th>\n",
       "      <td>amazon is investigating chinese employees who ...</td>\n",
       "      <td>NOT</td>\n",
       "      <td>27</td>\n",
       "      <td>182</td>\n",
       "      <td>5.777778</td>\n",
       "      <td>8</td>\n",
       "      <td>5</td>\n",
       "      <td>0</td>\n",
       "      <td>0</td>\n",
       "      <td>5</td>\n",
       "      <td>[]</td>\n",
       "      <td>0</td>\n",
       "      <td>0</td>\n",
       "    </tr>\n",
       "    <tr>\n",
       "      <th>3</th>\n",
       "      <td>user someone should havetaken this piece of sh...</td>\n",
       "      <td>OFF</td>\n",
       "      <td>11</td>\n",
       "      <td>65</td>\n",
       "      <td>5.000000</td>\n",
       "      <td>4</td>\n",
       "      <td>0</td>\n",
       "      <td>1</td>\n",
       "      <td>0</td>\n",
       "      <td>1</td>\n",
       "      <td>[]</td>\n",
       "      <td>0</td>\n",
       "      <td>0</td>\n",
       "    </tr>\n",
       "    <tr>\n",
       "      <th>4</th>\n",
       "      <td>user user obama wanted liberals amp illegals t...</td>\n",
       "      <td>NOT</td>\n",
       "      <td>12</td>\n",
       "      <td>72</td>\n",
       "      <td>5.083333</td>\n",
       "      <td>3</td>\n",
       "      <td>0</td>\n",
       "      <td>2</td>\n",
       "      <td>0</td>\n",
       "      <td>2</td>\n",
       "      <td>[]</td>\n",
       "      <td>0</td>\n",
       "      <td>0</td>\n",
       "    </tr>\n",
       "  </tbody>\n",
       "</table>\n",
       "</div>"
      ],
      "text/plain": [
       "                                              twitts sentiment  word_counts  \\\n",
       "0  user she should ask a few native americans wha...       OFF           14   \n",
       "1  user user go home youre drunk user maga trump2...       OFF           11   \n",
       "2  amazon is investigating chinese employees who ...       NOT           27   \n",
       "3  user someone should havetaken this piece of sh...       OFF           11   \n",
       "4  user user obama wanted liberals amp illegals t...       NOT           12   \n",
       "\n",
       "   char_counts  avg_word_len  stop_words_len  hashtags_count  mentions_count  \\\n",
       "0           71      4.142857               8               0               1   \n",
       "1           67      5.181818               0               2               3   \n",
       "2          182      5.777778               8               5               0   \n",
       "3           65      5.000000               4               0               1   \n",
       "4           72      5.083333               3               0               2   \n",
       "\n",
       "   numeric_count  upper_counts emails  emails_count  urls_flag  \n",
       "0              0             1     []             0          0  \n",
       "1              0             5     []             0          0  \n",
       "2              0             5     []             0          0  \n",
       "3              0             1     []             0          0  \n",
       "4              0             2     []             0          0  "
      ]
     },
     "execution_count": 63,
     "metadata": {},
     "output_type": "execute_result"
    }
   ],
   "source": [
    "df.head()"
   ]
  },
  {
   "cell_type": "markdown",
   "metadata": {},
   "source": [
    "### Removendo tags HTML"
   ]
  },
  {
   "cell_type": "code",
   "execution_count": 64,
   "metadata": {},
   "outputs": [],
   "source": [
    "from bs4 import BeautifulSoup"
   ]
  },
  {
   "cell_type": "code",
   "execution_count": 65,
   "metadata": {},
   "outputs": [],
   "source": [
    "x = '<html><h2> Thanks for watching</h2></html>'"
   ]
  },
  {
   "cell_type": "code",
   "execution_count": 66,
   "metadata": {},
   "outputs": [
    {
     "data": {
      "text/plain": [
       "' Thanks for watching'"
      ]
     },
     "execution_count": 66,
     "metadata": {},
     "output_type": "execute_result"
    }
   ],
   "source": [
    "BeautifulSoup(x,'lxml').get_text()"
   ]
  },
  {
   "cell_type": "code",
   "execution_count": 67,
   "metadata": {},
   "outputs": [
    {
     "name": "stdout",
     "output_type": "stream",
     "text": [
      "Wall time: 1.98 s\n"
     ]
    }
   ],
   "source": [
    "%%time\n",
    "df['twitts']=df['twitts'].apply(lambda x: BeautifulSoup(x,'lxml').get_text())"
   ]
  },
  {
   "cell_type": "markdown",
   "metadata": {},
   "source": [
    "### Removendo acentos"
   ]
  },
  {
   "cell_type": "code",
   "execution_count": 68,
   "metadata": {},
   "outputs": [],
   "source": [
    "import unicodedata\n",
    "from unicodedata import normalize"
   ]
  },
  {
   "cell_type": "code",
   "execution_count": 69,
   "metadata": {},
   "outputs": [],
   "source": [
    "x = 'Áccentêd text'"
   ]
  },
  {
   "cell_type": "code",
   "execution_count": 70,
   "metadata": {},
   "outputs": [],
   "source": [
    "#Voltar a forma normal formulário para a seqüência de caracteres Unicode UNISTR .\n",
    "#Os valores válidos para o formulário são 'NFC', 'NFKC', 'NFD' e 'NFKD'.\n",
    "\n",
    "def remove_accented_chars(x):\n",
    "   # x = unicodedata.normalize('NFKC', x).encode('ascii', 'ignore').decode('utf-8', 'ignore')\n",
    "    x = unicodedata.normalize('NFKD', x).encode('ASCII', 'ignore').decode('ASCII')\n",
    "    return x"
   ]
  },
  {
   "cell_type": "code",
   "execution_count": 71,
   "metadata": {},
   "outputs": [
    {
     "data": {
      "text/plain": [
       "'Accented text'"
      ]
     },
     "execution_count": 71,
     "metadata": {},
     "output_type": "execute_result"
    }
   ],
   "source": [
    "remove_accented_chars(x)\n",
    "#print(x)"
   ]
  },
  {
   "cell_type": "markdown",
   "metadata": {},
   "source": [
    "### SpaCy e NLP"
   ]
  },
  {
   "cell_type": "markdown",
   "metadata": {},
   "source": [
    "## Remome Stop Words"
   ]
  },
  {
   "cell_type": "code",
   "execution_count": 72,
   "metadata": {},
   "outputs": [],
   "source": [
    "import spacy"
   ]
  },
  {
   "cell_type": "code",
   "execution_count": 73,
   "metadata": {},
   "outputs": [],
   "source": [
    "x = 'this is stop words removal code is a the an how what'"
   ]
  },
  {
   "cell_type": "code",
   "execution_count": 74,
   "metadata": {},
   "outputs": [
    {
     "data": {
      "text/plain": [
       "'stop words removal code'"
      ]
     },
     "execution_count": 74,
     "metadata": {},
     "output_type": "execute_result"
    }
   ],
   "source": [
    "\" \".join([t for t in x.split() if t not in STOP_WORDS])"
   ]
  },
  {
   "cell_type": "code",
   "execution_count": 75,
   "metadata": {},
   "outputs": [],
   "source": [
    "df['twitts'] = df['twitts'].apply(lambda x: \" \".join([t for t in x.split() if t not in STOP_WORDS]))"
   ]
  },
  {
   "cell_type": "code",
   "execution_count": 76,
   "metadata": {},
   "outputs": [
    {
     "data": {
      "text/html": [
       "<div>\n",
       "<style scoped>\n",
       "    .dataframe tbody tr th:only-of-type {\n",
       "        vertical-align: middle;\n",
       "    }\n",
       "\n",
       "    .dataframe tbody tr th {\n",
       "        vertical-align: top;\n",
       "    }\n",
       "\n",
       "    .dataframe thead th {\n",
       "        text-align: right;\n",
       "    }\n",
       "</style>\n",
       "<table border=\"1\" class=\"dataframe\">\n",
       "  <thead>\n",
       "    <tr style=\"text-align: right;\">\n",
       "      <th></th>\n",
       "      <th>twitts</th>\n",
       "      <th>sentiment</th>\n",
       "      <th>word_counts</th>\n",
       "      <th>char_counts</th>\n",
       "      <th>avg_word_len</th>\n",
       "      <th>stop_words_len</th>\n",
       "      <th>hashtags_count</th>\n",
       "      <th>mentions_count</th>\n",
       "      <th>numeric_count</th>\n",
       "      <th>upper_counts</th>\n",
       "      <th>emails</th>\n",
       "      <th>emails_count</th>\n",
       "      <th>urls_flag</th>\n",
       "    </tr>\n",
       "  </thead>\n",
       "  <tbody>\n",
       "    <tr>\n",
       "      <th>0</th>\n",
       "      <td>user ask native americans</td>\n",
       "      <td>OFF</td>\n",
       "      <td>14</td>\n",
       "      <td>71</td>\n",
       "      <td>4.142857</td>\n",
       "      <td>8</td>\n",
       "      <td>0</td>\n",
       "      <td>1</td>\n",
       "      <td>0</td>\n",
       "      <td>1</td>\n",
       "      <td>[]</td>\n",
       "      <td>0</td>\n",
       "      <td>0</td>\n",
       "    </tr>\n",
       "    <tr>\n",
       "      <th>1</th>\n",
       "      <td>user user home youre drunk user maga trump2020...</td>\n",
       "      <td>OFF</td>\n",
       "      <td>11</td>\n",
       "      <td>67</td>\n",
       "      <td>5.181818</td>\n",
       "      <td>0</td>\n",
       "      <td>2</td>\n",
       "      <td>3</td>\n",
       "      <td>0</td>\n",
       "      <td>5</td>\n",
       "      <td>[]</td>\n",
       "      <td>0</td>\n",
       "      <td>0</td>\n",
       "    </tr>\n",
       "    <tr>\n",
       "      <th>2</th>\n",
       "      <td>amazon investigating chinese employees selling...</td>\n",
       "      <td>NOT</td>\n",
       "      <td>27</td>\n",
       "      <td>182</td>\n",
       "      <td>5.777778</td>\n",
       "      <td>8</td>\n",
       "      <td>5</td>\n",
       "      <td>0</td>\n",
       "      <td>0</td>\n",
       "      <td>5</td>\n",
       "      <td>[]</td>\n",
       "      <td>0</td>\n",
       "      <td>0</td>\n",
       "    </tr>\n",
       "    <tr>\n",
       "      <th>3</th>\n",
       "      <td>user havetaken piece shit volcano</td>\n",
       "      <td>OFF</td>\n",
       "      <td>11</td>\n",
       "      <td>65</td>\n",
       "      <td>5.000000</td>\n",
       "      <td>4</td>\n",
       "      <td>0</td>\n",
       "      <td>1</td>\n",
       "      <td>0</td>\n",
       "      <td>1</td>\n",
       "      <td>[]</td>\n",
       "      <td>0</td>\n",
       "      <td>0</td>\n",
       "    </tr>\n",
       "    <tr>\n",
       "      <th>4</th>\n",
       "      <td>user user obama wanted liberals amp illegals r...</td>\n",
       "      <td>NOT</td>\n",
       "      <td>12</td>\n",
       "      <td>72</td>\n",
       "      <td>5.083333</td>\n",
       "      <td>3</td>\n",
       "      <td>0</td>\n",
       "      <td>2</td>\n",
       "      <td>0</td>\n",
       "      <td>2</td>\n",
       "      <td>[]</td>\n",
       "      <td>0</td>\n",
       "      <td>0</td>\n",
       "    </tr>\n",
       "  </tbody>\n",
       "</table>\n",
       "</div>"
      ],
      "text/plain": [
       "                                              twitts sentiment  word_counts  \\\n",
       "0                          user ask native americans       OFF           14   \n",
       "1  user user home youre drunk user maga trump2020...       OFF           11   \n",
       "2  amazon investigating chinese employees selling...       NOT           27   \n",
       "3                  user havetaken piece shit volcano       OFF           11   \n",
       "4  user user obama wanted liberals amp illegals r...       NOT           12   \n",
       "\n",
       "   char_counts  avg_word_len  stop_words_len  hashtags_count  mentions_count  \\\n",
       "0           71      4.142857               8               0               1   \n",
       "1           67      5.181818               0               2               3   \n",
       "2          182      5.777778               8               5               0   \n",
       "3           65      5.000000               4               0               1   \n",
       "4           72      5.083333               3               0               2   \n",
       "\n",
       "   numeric_count  upper_counts emails  emails_count  urls_flag  \n",
       "0              0             1     []             0          0  \n",
       "1              0             5     []             0          0  \n",
       "2              0             5     []             0          0  \n",
       "3              0             1     []             0          0  \n",
       "4              0             2     []             0          0  "
      ]
     },
     "execution_count": 76,
     "metadata": {},
     "output_type": "execute_result"
    }
   ],
   "source": [
    "df.head()"
   ]
  },
  {
   "cell_type": "markdown",
   "metadata": {},
   "source": [
    "### Converter em base ou raiz da palavra"
   ]
  },
  {
   "cell_type": "code",
   "execution_count": 77,
   "metadata": {},
   "outputs": [
    {
     "name": "stderr",
     "output_type": "stream",
     "text": [
      "C:\\ProgramData\\Anaconda3\\lib\\site-packages\\spacy\\util.py:275: UserWarning: [W031] Model 'en_core_web_sm' (2.2.5) requires spaCy v2.2 and is incompatible with the current spaCy version (2.3.2). This may lead to unexpected results or runtime errors. To resolve this, download a newer compatible model or retrain your custom model with the current spaCy version. For more details and available updates, run: python -m spacy validate\n",
      "  warnings.warn(warn_msg)\n"
     ]
    }
   ],
   "source": [
    "nlp = spacy.load('en_core_web_sm')"
   ]
  },
  {
   "cell_type": "code",
   "execution_count": 78,
   "metadata": {},
   "outputs": [],
   "source": [
    "x = 'Kenichan dived times ball managed save 50 rest'"
   ]
  },
  {
   "cell_type": "code",
   "execution_count": 79,
   "metadata": {},
   "outputs": [],
   "source": [
    "# dive = dived, time = times, manage = managed"
   ]
  },
  {
   "cell_type": "code",
   "execution_count": 80,
   "metadata": {},
   "outputs": [],
   "source": [
    "def make_to_base(x):\n",
    "    x_list = []\n",
    "    doc = nlp(x)\n",
    "    \n",
    "    for token in doc:\n",
    "        lemma = str(token.lemma_)\n",
    "        if lemma == '-PRON-' or lemma == 'be':\n",
    "            lemma = token.text\n",
    "        x_list.append(lemma)\n",
    "    print(\" \".join(x_list))"
   ]
  },
  {
   "cell_type": "code",
   "execution_count": 81,
   "metadata": {},
   "outputs": [
    {
     "name": "stdout",
     "output_type": "stream",
     "text": [
      "Kenichan dive time ball manage save 50 rest\n"
     ]
    }
   ],
   "source": [
    "make_to_base(x)"
   ]
  },
  {
   "cell_type": "markdown",
   "metadata": {},
   "source": [
    "### Removendo Palavras comuns"
   ]
  },
  {
   "cell_type": "code",
   "execution_count": 82,
   "metadata": {},
   "outputs": [
    {
     "data": {
      "text/plain": [
       "'user ask native americans user user home youre drunk user maga trump2020 url amazon investigating chinese employees selling internal data third-party sellers looking edge competitive marketplace url amazon maga kag china tcot user havetaken piece shit volcano user user obama wanted liberals amp illegals red states'"
      ]
     },
     "execution_count": 82,
     "metadata": {},
     "output_type": "execute_result"
    }
   ],
   "source": [
    "' '.join(df.head()['twitts'])"
   ]
  },
  {
   "cell_type": "code",
   "execution_count": 83,
   "metadata": {},
   "outputs": [],
   "source": [
    "text = ' '.join(df['twitts'])"
   ]
  },
  {
   "cell_type": "code",
   "execution_count": 84,
   "metadata": {},
   "outputs": [],
   "source": [
    "text = text.split()"
   ]
  },
  {
   "cell_type": "code",
   "execution_count": 85,
   "metadata": {},
   "outputs": [],
   "source": [
    "freq_comm = pd.Series(text).value_counts()"
   ]
  },
  {
   "cell_type": "code",
   "execution_count": 86,
   "metadata": {},
   "outputs": [],
   "source": [
    "f20 = freq_comm[:20]"
   ]
  },
  {
   "cell_type": "code",
   "execution_count": 87,
   "metadata": {},
   "outputs": [
    {
     "data": {
      "text/plain": [
       "user             33391\n",
       "url               2056\n",
       "liberals          1396\n",
       "gun               1363\n",
       "control           1213\n",
       "antifa            1149\n",
       "like              1100\n",
       "maga              1004\n",
       "conservatives      947\n",
       "people             897\n",
       "amp                636\n",
       "know               634\n",
       "dont               599\n",
       "trump              597\n",
       "bebecause          588\n",
       "think              554\n",
       "good               459\n",
       "right              452\n",
       "thats              402\n",
       "time               388\n",
       "dtype: int64"
      ]
     },
     "execution_count": 87,
     "metadata": {},
     "output_type": "execute_result"
    }
   ],
   "source": [
    "f20"
   ]
  },
  {
   "cell_type": "code",
   "execution_count": 88,
   "metadata": {},
   "outputs": [],
   "source": [
    "df['twitts'] = df['twitts'].apply(lambda x: \" \".join([t for t in x.split() if t not in f20]))"
   ]
  },
  {
   "cell_type": "markdown",
   "metadata": {},
   "source": [
    "### Removendo Palavras raras"
   ]
  },
  {
   "cell_type": "code",
   "execution_count": 89,
   "metadata": {},
   "outputs": [],
   "source": [
    "rare20 = freq_comm[-20:]"
   ]
  },
  {
   "cell_type": "code",
   "execution_count": 90,
   "metadata": {},
   "outputs": [
    {
     "data": {
      "text/plain": [
       "sooooooooo               1\n",
       "bampb                    1\n",
       "retconned                1\n",
       "swedes                   1\n",
       "refund                   1\n",
       "coherent                 1\n",
       "mannerisms               1\n",
       "shootings-must           1\n",
       "tanks                    1\n",
       "spitting                 1\n",
       "groveled                 1\n",
       "fascisme                 1\n",
       "fat-shame                1\n",
       "amendmentcampus          1\n",
       "cumm                     1\n",
       "courtmondaymotivation    1\n",
       "progress                 1\n",
       "nellie                   1\n",
       "placate                  1\n",
       "unto                     1\n",
       "dtype: int64"
      ]
     },
     "execution_count": 90,
     "metadata": {},
     "output_type": "execute_result"
    }
   ],
   "source": [
    "rare20"
   ]
  },
  {
   "cell_type": "code",
   "execution_count": 91,
   "metadata": {},
   "outputs": [],
   "source": [
    "rare = freq_comm[freq_comm.values ==1]"
   ]
  },
  {
   "cell_type": "code",
   "execution_count": 92,
   "metadata": {},
   "outputs": [
    {
     "data": {
      "text/plain": [
       "radicalized              1\n",
       "influx                   1\n",
       "stakes                   1\n",
       "guaranteed               1\n",
       "blairite                 1\n",
       "                        ..\n",
       "courtmondaymotivation    1\n",
       "progress                 1\n",
       "nellie                   1\n",
       "placate                  1\n",
       "unto                     1\n",
       "Length: 11945, dtype: int64"
      ]
     },
     "execution_count": 92,
     "metadata": {},
     "output_type": "execute_result"
    }
   ],
   "source": [
    "rare"
   ]
  },
  {
   "cell_type": "code",
   "execution_count": 93,
   "metadata": {},
   "outputs": [],
   "source": [
    "df['twitts'] = df['twitts'].apply(lambda x: \" \".join([t for t in x.split() if t not in rare]))"
   ]
  },
  {
   "cell_type": "code",
   "execution_count": 94,
   "metadata": {},
   "outputs": [
    {
     "data": {
      "text/html": [
       "<div>\n",
       "<style scoped>\n",
       "    .dataframe tbody tr th:only-of-type {\n",
       "        vertical-align: middle;\n",
       "    }\n",
       "\n",
       "    .dataframe tbody tr th {\n",
       "        vertical-align: top;\n",
       "    }\n",
       "\n",
       "    .dataframe thead th {\n",
       "        text-align: right;\n",
       "    }\n",
       "</style>\n",
       "<table border=\"1\" class=\"dataframe\">\n",
       "  <thead>\n",
       "    <tr style=\"text-align: right;\">\n",
       "      <th></th>\n",
       "      <th>twitts</th>\n",
       "      <th>sentiment</th>\n",
       "      <th>word_counts</th>\n",
       "      <th>char_counts</th>\n",
       "      <th>avg_word_len</th>\n",
       "      <th>stop_words_len</th>\n",
       "      <th>hashtags_count</th>\n",
       "      <th>mentions_count</th>\n",
       "      <th>numeric_count</th>\n",
       "      <th>upper_counts</th>\n",
       "      <th>emails</th>\n",
       "      <th>emails_count</th>\n",
       "      <th>urls_flag</th>\n",
       "    </tr>\n",
       "  </thead>\n",
       "  <tbody>\n",
       "    <tr>\n",
       "      <th>0</th>\n",
       "      <td>ask native americans</td>\n",
       "      <td>OFF</td>\n",
       "      <td>14</td>\n",
       "      <td>71</td>\n",
       "      <td>4.142857</td>\n",
       "      <td>8</td>\n",
       "      <td>0</td>\n",
       "      <td>1</td>\n",
       "      <td>0</td>\n",
       "      <td>1</td>\n",
       "      <td>[]</td>\n",
       "      <td>0</td>\n",
       "      <td>0</td>\n",
       "    </tr>\n",
       "    <tr>\n",
       "      <th>1</th>\n",
       "      <td>home youre drunk trump2020</td>\n",
       "      <td>OFF</td>\n",
       "      <td>11</td>\n",
       "      <td>67</td>\n",
       "      <td>5.181818</td>\n",
       "      <td>0</td>\n",
       "      <td>2</td>\n",
       "      <td>3</td>\n",
       "      <td>0</td>\n",
       "      <td>5</td>\n",
       "      <td>[]</td>\n",
       "      <td>0</td>\n",
       "      <td>0</td>\n",
       "    </tr>\n",
       "    <tr>\n",
       "      <th>2</th>\n",
       "      <td>amazon investigating chinese employees selling...</td>\n",
       "      <td>NOT</td>\n",
       "      <td>27</td>\n",
       "      <td>182</td>\n",
       "      <td>5.777778</td>\n",
       "      <td>8</td>\n",
       "      <td>5</td>\n",
       "      <td>0</td>\n",
       "      <td>0</td>\n",
       "      <td>5</td>\n",
       "      <td>[]</td>\n",
       "      <td>0</td>\n",
       "      <td>0</td>\n",
       "    </tr>\n",
       "    <tr>\n",
       "      <th>3</th>\n",
       "      <td>piece shit</td>\n",
       "      <td>OFF</td>\n",
       "      <td>11</td>\n",
       "      <td>65</td>\n",
       "      <td>5.000000</td>\n",
       "      <td>4</td>\n",
       "      <td>0</td>\n",
       "      <td>1</td>\n",
       "      <td>0</td>\n",
       "      <td>1</td>\n",
       "      <td>[]</td>\n",
       "      <td>0</td>\n",
       "      <td>0</td>\n",
       "    </tr>\n",
       "    <tr>\n",
       "      <th>4</th>\n",
       "      <td>obama wanted illegals red states</td>\n",
       "      <td>NOT</td>\n",
       "      <td>12</td>\n",
       "      <td>72</td>\n",
       "      <td>5.083333</td>\n",
       "      <td>3</td>\n",
       "      <td>0</td>\n",
       "      <td>2</td>\n",
       "      <td>0</td>\n",
       "      <td>2</td>\n",
       "      <td>[]</td>\n",
       "      <td>0</td>\n",
       "      <td>0</td>\n",
       "    </tr>\n",
       "  </tbody>\n",
       "</table>\n",
       "</div>"
      ],
      "text/plain": [
       "                                              twitts sentiment  word_counts  \\\n",
       "0                               ask native americans       OFF           14   \n",
       "1                         home youre drunk trump2020       OFF           11   \n",
       "2  amazon investigating chinese employees selling...       NOT           27   \n",
       "3                                         piece shit       OFF           11   \n",
       "4                   obama wanted illegals red states       NOT           12   \n",
       "\n",
       "   char_counts  avg_word_len  stop_words_len  hashtags_count  mentions_count  \\\n",
       "0           71      4.142857               8               0               1   \n",
       "1           67      5.181818               0               2               3   \n",
       "2          182      5.777778               8               5               0   \n",
       "3           65      5.000000               4               0               1   \n",
       "4           72      5.083333               3               0               2   \n",
       "\n",
       "   numeric_count  upper_counts emails  emails_count  urls_flag  \n",
       "0              0             1     []             0          0  \n",
       "1              0             5     []             0          0  \n",
       "2              0             5     []             0          0  \n",
       "3              0             1     []             0          0  \n",
       "4              0             2     []             0          0  "
      ]
     },
     "execution_count": 94,
     "metadata": {},
     "output_type": "execute_result"
    }
   ],
   "source": [
    "df.head()"
   ]
  },
  {
   "cell_type": "markdown",
   "metadata": {},
   "source": [
    "### Word Cloud Visualization"
   ]
  },
  {
   "cell_type": "code",
   "execution_count": 95,
   "metadata": {},
   "outputs": [],
   "source": [
    "import wordcloud"
   ]
  },
  {
   "cell_type": "code",
   "execution_count": 96,
   "metadata": {},
   "outputs": [],
   "source": [
    "from wordcloud import WordCloud\n",
    "import matplotlib.pyplot as plt\n",
    "%matplotlib inline"
   ]
  },
  {
   "cell_type": "code",
   "execution_count": 97,
   "metadata": {},
   "outputs": [
    {
     "data": {
      "text/plain": [
       "['user',\n",
       " 'ask',\n",
       " 'native',\n",
       " 'americans',\n",
       " 'user',\n",
       " 'user',\n",
       " 'home',\n",
       " 'youre',\n",
       " 'drunk',\n",
       " 'user',\n",
       " 'maga',\n",
       " 'trump2020',\n",
       " 'url',\n",
       " 'amazon',\n",
       " 'investigating',\n",
       " 'chinese',\n",
       " 'employees',\n",
       " 'selling',\n",
       " 'internal',\n",
       " 'data',\n",
       " 'third-party',\n",
       " 'sellers',\n",
       " 'looking',\n",
       " 'edge',\n",
       " 'competitive',\n",
       " 'marketplace',\n",
       " 'url',\n",
       " 'amazon',\n",
       " 'maga',\n",
       " 'kag',\n",
       " 'china',\n",
       " 'tcot',\n",
       " 'user',\n",
       " 'havetaken',\n",
       " 'piece',\n",
       " 'shit',\n",
       " 'volcano',\n",
       " 'user',\n",
       " 'user',\n",
       " 'obama',\n",
       " 'wanted',\n",
       " 'liberals',\n",
       " 'amp',\n",
       " 'illegals',\n",
       " 'red',\n",
       " 'states',\n",
       " 'user',\n",
       " 'liberals',\n",
       " 'kookoo',\n",
       " 'user',\n",
       " 'user',\n",
       " 'oh',\n",
       " 'noes',\n",
       " 'tough',\n",
       " 'shit',\n",
       " 'user',\n",
       " 'literally',\n",
       " 'talking',\n",
       " 'lol',\n",
       " 'mass',\n",
       " 'shootings',\n",
       " 'like',\n",
       " 'set',\n",
       " 'ups',\n",
       " 'propaganda',\n",
       " 'divide',\n",
       " 'major',\n",
       " 'issues',\n",
       " 'like',\n",
       " 'gun',\n",
       " 'control',\n",
       " 'terrorism',\n",
       " 'user',\n",
       " 'buy',\n",
       " 'icecream',\n",
       " 'user',\n",
       " 'canada',\n",
       " 'doesnt',\n",
       " 'need',\n",
       " 'cuck',\n",
       " 'looneyleft',\n",
       " 'liberals',\n",
       " 'fking',\n",
       " 'great',\n",
       " 'country',\n",
       " 'qproofs',\n",
       " 'trudeaumustgo',\n",
       " 'user',\n",
       " 'user',\n",
       " 'user',\n",
       " 'fault',\n",
       " 'support',\n",
       " 'gun',\n",
       " 'control',\n",
       " 'user',\n",
       " 'whats',\n",
       " 'difference',\n",
       " 'kavanaugh',\n",
       " 'user',\n",
       " 'men',\n",
       " 'admitted',\n",
       " 'groping',\n",
       " '15',\n",
       " 'year',\n",
       " 'old',\n",
       " 'girl',\n",
       " 'years',\n",
       " 'ago',\n",
       " 'going',\n",
       " 'confirmed',\n",
       " 'scj',\n",
       " 'demsarefrauds',\n",
       " 'demsaredone',\n",
       " 'walkawaydemocrats2018',\n",
       " 'redwave',\n",
       " 'voteredsaveamerica',\n",
       " 'trumptrain',\n",
       " 'maga',\n",
       " 'url',\n",
       " 'user',\n",
       " 'lying',\n",
       " 'corrupt',\n",
       " 'traitor',\n",
       " 'wants',\n",
       " 'hear',\n",
       " 'anymore',\n",
       " 'lies',\n",
       " 'deepstatecorruption',\n",
       " 'url',\n",
       " 'user',\n",
       " 'user',\n",
       " 'user',\n",
       " 'scare',\n",
       " 'american',\n",
       " 'playing',\n",
       " 'hockey',\n",
       " 'warped',\n",
       " 'puck',\n",
       " 'user',\n",
       " 'user',\n",
       " 'user',\n",
       " 'user',\n",
       " 'user',\n",
       " 'user',\n",
       " 'user',\n",
       " 'user',\n",
       " 'user',\n",
       " 'user',\n",
       " 'user',\n",
       " 'user',\n",
       " 'user',\n",
       " 'user',\n",
       " 'user',\n",
       " 'user',\n",
       " 'user',\n",
       " 'user',\n",
       " 'user',\n",
       " 'user',\n",
       " 'user',\n",
       " 'user',\n",
       " 'user',\n",
       " 'user',\n",
       " 'user',\n",
       " 'user',\n",
       " 'user',\n",
       " 'user',\n",
       " 'user',\n",
       " 'user',\n",
       " 'user',\n",
       " 'user',\n",
       " 'user',\n",
       " 'user',\n",
       " 'user',\n",
       " 'user',\n",
       " 'user',\n",
       " 'user',\n",
       " 'user',\n",
       " 'user',\n",
       " 'user',\n",
       " 'user',\n",
       " 'user',\n",
       " 'user',\n",
       " 'user',\n",
       " 'user',\n",
       " 'user',\n",
       " 'user',\n",
       " 'user',\n",
       " 'user',\n",
       " 'like',\n",
       " 'soda',\n",
       " 'like',\n",
       " 'like',\n",
       " 'boarders',\n",
       " 'lot',\n",
       " 'ice',\n",
       " 'user',\n",
       " 'king',\n",
       " 'taste',\n",
       " 'maga',\n",
       " 'user',\n",
       " 'sing',\n",
       " 'like',\n",
       " 'listening',\n",
       " 'love',\n",
       " 'like',\n",
       " 'youve',\n",
       " 'hurt',\n",
       " 'vote',\n",
       " 'gop',\n",
       " 'watching',\n",
       " 'dont',\n",
       " 'listen',\n",
       " 'liberals',\n",
       " 'dirt',\n",
       " 'url',\n",
       " '55',\n",
       " 'user',\n",
       " 'time',\n",
       " 'right',\n",
       " 'house',\n",
       " 'respond',\n",
       " 'concerns',\n",
       " 'canadians',\n",
       " 'canadians',\n",
       " 'support',\n",
       " 'stronger',\n",
       " 'gun',\n",
       " 'control',\n",
       " 'good',\n",
       " 'reason',\n",
       " 'guncontrol',\n",
       " 'cdnpoli',\n",
       " 'cdnhist',\n",
       " 'user',\n",
       " 'jaxs',\n",
       " 'mom',\n",
       " 'maybe',\n",
       " 'ope',\n",
       " 'hands',\n",
       " 'favorite',\n",
       " 'hes',\n",
       " 'like',\n",
       " 'good',\n",
       " 'person',\n",
       " 'user',\n",
       " 'user',\n",
       " 'user',\n",
       " 'gun',\n",
       " 'control',\n",
       " 'kids',\n",
       " 'asking',\n",
       " 'user',\n",
       " 'user',\n",
       " 'user',\n",
       " 'user',\n",
       " 'lol',\n",
       " 'throwing',\n",
       " 'bullshit',\n",
       " 'flag',\n",
       " 'nonsense',\n",
       " 'putuporshutup',\n",
       " 'kavanaugh',\n",
       " 'maga',\n",
       " 'callthevotealready',\n",
       " 'url',\n",
       " 'user',\n",
       " 'user',\n",
       " 'correct',\n",
       " 'user',\n",
       " 'user',\n",
       " 'kind',\n",
       " 'like',\n",
       " 'conservatives',\n",
       " 'wanna',\n",
       " 'associate',\n",
       " 'left',\n",
       " 'communist',\n",
       " 'antifa',\n",
       " 'members',\n",
       " 'user',\n",
       " 'user',\n",
       " 'da',\n",
       " 'fuck',\n",
       " 'going',\n",
       " 'people',\n",
       " 'theres',\n",
       " 'mens',\n",
       " 'room',\n",
       " 'womens',\n",
       " 'room',\n",
       " 'pick',\n",
       " 'stick',\n",
       " 'w',\n",
       " 'user',\n",
       " 'willie',\n",
       " 'fan',\n",
       " 'bornlove',\n",
       " 'holding',\n",
       " 'rally',\n",
       " 'beto',\n",
       " 'exactly',\n",
       " 'fans',\n",
       " 'furious',\n",
       " 'specifics',\n",
       " 'url',\n",
       " 'user',\n",
       " 'tbh',\n",
       " 'days',\n",
       " 'dont',\n",
       " 'like',\n",
       " 'people',\n",
       " 'general',\n",
       " 'dont',\n",
       " 'connect',\n",
       " 'people',\n",
       " 'days',\n",
       " 'annoyance',\n",
       " 'south',\n",
       " 'korean',\n",
       " 'official',\n",
       " 'leaders',\n",
       " 'discuss',\n",
       " 'specific',\n",
       " 'denuke',\n",
       " 'measures',\n",
       " 'pyongyang',\n",
       " 'url',\n",
       " 'tcot',\n",
       " 'maga',\n",
       " 'rednationrising',\n",
       " 'user',\n",
       " 'user',\n",
       " 'tell',\n",
       " 'hooper',\n",
       " 'user',\n",
       " 'feel',\n",
       " 'like',\n",
       " 'better',\n",
       " 'chasing',\n",
       " 'title',\n",
       " 'user',\n",
       " 'user',\n",
       " 'user',\n",
       " 'referring',\n",
       " 'hillary',\n",
       " 'know',\n",
       " 'tiresome',\n",
       " 'bernie',\n",
       " 'supporters',\n",
       " 'bashing',\n",
       " 'hillary',\n",
       " 'clinton',\n",
       " 'actual',\n",
       " 'democrat',\n",
       " 'raises',\n",
       " 'money',\n",
       " 'democratic',\n",
       " 'party',\n",
       " 'doesnt',\n",
       " 'bash',\n",
       " 'positive',\n",
       " 'message',\n",
       " 'dividing',\n",
       " 'left',\n",
       " 'user',\n",
       " 'glad',\n",
       " 'friends',\n",
       " 'supporting',\n",
       " 'metis',\n",
       " 'rights',\n",
       " 'supporting',\n",
       " 'zionists',\n",
       " 'url',\n",
       " 'user',\n",
       " 'yes',\n",
       " 'asking',\n",
       " 'movie',\n",
       " 'thing',\n",
       " 'democrats',\n",
       " 'lying',\n",
       " 'stalling',\n",
       " 'stop',\n",
       " 'trump',\n",
       " 'president',\n",
       " 'lately',\n",
       " 'trump',\n",
       " 'kavanaugh',\n",
       " 'maga',\n",
       " 'demsuck',\n",
       " 'user',\n",
       " 'wonder',\n",
       " 'apologetic',\n",
       " 'social',\n",
       " 'day',\n",
       " 'user',\n",
       " 'user',\n",
       " 'user',\n",
       " 'updates',\n",
       " 'ending',\n",
       " 'blatant',\n",
       " 'racism',\n",
       " 'windrush',\n",
       " 'amp',\n",
       " 'grenfell',\n",
       " 'proves',\n",
       " 'user',\n",
       " 'user',\n",
       " 'alloutpolitics',\n",
       " 'politicslive',\n",
       " 'pmqs',\n",
       " 'user',\n",
       " 'url',\n",
       " 'user',\n",
       " 'user',\n",
       " 'user',\n",
       " 'user',\n",
       " 'user',\n",
       " 'user',\n",
       " 'user',\n",
       " 'user',\n",
       " 'user',\n",
       " 'user',\n",
       " 'user',\n",
       " 'know',\n",
       " 'whats',\n",
       " 'going',\n",
       " 'happen',\n",
       " 'im',\n",
       " 'going',\n",
       " 'lay',\n",
       " 'bed',\n",
       " 'cry',\n",
       " 'listen',\n",
       " 'kelly',\n",
       " 'clarkson',\n",
       " 'thanks',\n",
       " 'free',\n",
       " 'speech',\n",
       " 'antifa',\n",
       " 'user',\n",
       " 'user',\n",
       " 'user',\n",
       " 'user',\n",
       " 'user',\n",
       " 'user',\n",
       " 'user',\n",
       " 'user',\n",
       " 'user',\n",
       " 'user',\n",
       " 'user',\n",
       " 'user',\n",
       " 'user',\n",
       " 'user',\n",
       " 'user',\n",
       " 'user',\n",
       " 'user',\n",
       " 'user',\n",
       " 'user',\n",
       " 'user',\n",
       " 'user',\n",
       " 'user',\n",
       " 'user',\n",
       " 'user',\n",
       " 'user',\n",
       " 'user',\n",
       " 'user',\n",
       " 'user',\n",
       " 'user',\n",
       " 'user',\n",
       " 'user',\n",
       " 'user',\n",
       " 'user',\n",
       " 'user',\n",
       " 'user',\n",
       " 'user',\n",
       " 'user',\n",
       " 'user',\n",
       " 'user',\n",
       " 'user',\n",
       " 'user',\n",
       " 'user',\n",
       " 'user',\n",
       " 'user',\n",
       " 'user',\n",
       " 'user',\n",
       " 'user',\n",
       " 'user',\n",
       " 'user',\n",
       " 'user',\n",
       " 'smart',\n",
       " 'think',\n",
       " 'gen',\n",
       " 'flynns',\n",
       " 'sentencing',\n",
       " 'keeps',\n",
       " 'rescheduled',\n",
       " 'url',\n",
       " 'user',\n",
       " 'user',\n",
       " 'user',\n",
       " 'thats',\n",
       " 'expected',\n",
       " 'placate',\n",
       " 'violent',\n",
       " 'leftiststerrorists',\n",
       " 'kavanaughconfirmation',\n",
       " 'woke',\n",
       " 'user',\n",
       " 'blow',\n",
       " 'hard',\n",
       " 'user',\n",
       " 'user',\n",
       " 'user',\n",
       " 'means',\n",
       " 'max',\n",
       " 'lvl',\n",
       " 'twitter',\n",
       " 'user',\n",
       " 'maybe',\n",
       " 'try',\n",
       " 'new',\n",
       " 'game',\n",
       " 'user',\n",
       " 'user',\n",
       " 'explain',\n",
       " 'controlled',\n",
       " 'opposition',\n",
       " 'means',\n",
       " 'bernier',\n",
       " 'escaping',\n",
       " 'split',\n",
       " 'rest',\n",
       " 'conservatives',\n",
       " 'bebecause',\n",
       " 'hes',\n",
       " 'racist',\n",
       " 'exclusionary',\n",
       " 'want',\n",
       " 'user',\n",
       " 'user',\n",
       " 'user',\n",
       " 'user',\n",
       " 'user',\n",
       " 'socialists',\n",
       " 'politics',\n",
       " 'stand',\n",
       " 'downtrodden',\n",
       " 'conflating',\n",
       " 'criticism',\n",
       " 'israel',\n",
       " 'anti',\n",
       " 'semitism',\n",
       " 'problem',\n",
       " '3',\n",
       " 'nina',\n",
       " 'reasons',\n",
       " 'didnt',\n",
       " 'read',\n",
       " 'book',\n",
       " 'long',\n",
       " 'bebecause',\n",
       " 'worried',\n",
       " 'character',\n",
       " 'trusted',\n",
       " 'nina',\n",
       " 'goddamn',\n",
       " 'goddess',\n",
       " 'die',\n",
       " 'thousand',\n",
       " 'times',\n",
       " 'big',\n",
       " 'bold',\n",
       " 'lovely',\n",
       " 'perfect',\n",
       " 'arc',\n",
       " 'perfect',\n",
       " 'user',\n",
       " 'user',\n",
       " 'user',\n",
       " 'user',\n",
       " 'user',\n",
       " 'vote',\n",
       " 'kavanaugh',\n",
       " 'fit',\n",
       " 'scotus',\n",
       " 'allegations',\n",
       " 'women',\n",
       " 'shady',\n",
       " 'financials',\n",
       " 'disqualify',\n",
       " 'ruleoflaw',\n",
       " 'matters',\n",
       " 'metoo',\n",
       " 'countryoverparty',\n",
       " 'withdrawkavanaugh',\n",
       " 'stopkavanaugh',\n",
       " 'user',\n",
       " 'user',\n",
       " 'ppl',\n",
       " 'racist',\n",
       " 'racist',\n",
       " 'racist',\n",
       " 'repeat',\n",
       " 'user',\n",
       " 'kathy',\n",
       " 'patriot',\n",
       " 'love',\n",
       " 'great',\n",
       " 'president',\n",
       " 'trump',\n",
       " 'spine',\n",
       " 'steel',\n",
       " 'changing',\n",
       " 'trade',\n",
       " 'amp',\n",
       " 'americans',\n",
       " 'americafirst',\n",
       " 'usa',\n",
       " 'maga',\n",
       " 'leadership',\n",
       " 'amp',\n",
       " 'respect',\n",
       " 'economy',\n",
       " 'jobs',\n",
       " 'peacethrustrength',\n",
       " 'god',\n",
       " 'bless',\n",
       " 'trump',\n",
       " 'amp',\n",
       " 'theusa',\n",
       " 'user',\n",
       " 'wow',\n",
       " 'liberals',\n",
       " 'sense',\n",
       " 'humor',\n",
       " 'user',\n",
       " 'fucking',\n",
       " 'ready',\n",
       " 'user',\n",
       " 'holy',\n",
       " 'moly',\n",
       " 'catholic',\n",
       " 'people',\n",
       " 'awakened',\n",
       " 'falseprophet',\n",
       " 'lunatic',\n",
       " 'user',\n",
       " 'lol',\n",
       " 'yeah',\n",
       " 'dina',\n",
       " 'everyday',\n",
       " 'claudia',\n",
       " 'horse',\n",
       " 'got',\n",
       " 'vet',\n",
       " 'care',\n",
       " 'donation',\n",
       " 'example',\n",
       " 'limping',\n",
       " 'etc',\n",
       " 'user',\n",
       " 'user',\n",
       " 'user',\n",
       " 'surprise',\n",
       " 'antifa',\n",
       " 'blm',\n",
       " 'soros',\n",
       " 'americas',\n",
       " 'worst',\n",
       " 'enemy',\n",
       " 'history',\n",
       " 'believes',\n",
       " 'way',\n",
       " 'usa',\n",
       " 'withing',\n",
       " 'hes',\n",
       " 'right',\n",
       " 'gunna',\n",
       " 'happen',\n",
       " 'user',\n",
       " 'wedding',\n",
       " 'best',\n",
       " 'pretty',\n",
       " 'user',\n",
       " 'user',\n",
       " 'conflict',\n",
       " 'heredo',\n",
       " 'look',\n",
       " 'soros',\n",
       " 'involved',\n",
       " 'violent',\n",
       " 'left',\n",
       " 'agenda',\n",
       " 'antifa',\n",
       " 'user',\n",
       " 'user',\n",
       " 'user',\n",
       " 'url',\n",
       " 'announcements',\n",
       " 'come',\n",
       " 'fruition',\n",
       " 'basically',\n",
       " 'stealing',\n",
       " 'labours',\n",
       " 'ideas',\n",
       " 'votes',\n",
       " '4',\n",
       " '10',\n",
       " 'british',\n",
       " 'people',\n",
       " 'basically',\n",
       " 'full-on',\n",
       " 'racists',\n",
       " '4',\n",
       " '10',\n",
       " 'voters',\n",
       " 'vote',\n",
       " 'conservatives',\n",
       " 'coincidence',\n",
       " 'guncontrol',\n",
       " 'advocates',\n",
       " 'stop',\n",
       " 'falling',\n",
       " 'assure',\n",
       " 'electorate',\n",
       " 'love',\n",
       " 'horrific',\n",
       " '2a',\n",
       " 'url',\n",
       " 'user',\n",
       " 'user',\n",
       " 'hi',\n",
       " 'love',\n",
       " 'huge',\n",
       " 'fan',\n",
       " 'camila',\n",
       " 'mendes',\n",
       " 'alright',\n",
       " 'tweet',\n",
       " 'promotional',\n",
       " 'material',\n",
       " 'user',\n",
       " 'fuck',\n",
       " 'user',\n",
       " 'certainly',\n",
       " 'weird',\n",
       " 'view',\n",
       " 'margaret',\n",
       " 'sanger',\n",
       " 'geonicidal',\n",
       " 'philosophy',\n",
       " 'aborting',\n",
       " 'minorities',\n",
       " 'id',\n",
       " 'like',\n",
       " 'know',\n",
       " 'black',\n",
       " 'population',\n",
       " 'suffers',\n",
       " 'shares',\n",
       " 'opinion',\n",
       " 'user',\n",
       " 'user',\n",
       " 'prison',\n",
       " 'system',\n",
       " 'fucked',\n",
       " 'getting',\n",
       " 'away',\n",
       " 'potentially',\n",
       " 'murder',\n",
       " 'intent',\n",
       " 'prisoners',\n",
       " 'die',\n",
       " 'hurricane',\n",
       " 'louisiana',\n",
       " 'like',\n",
       " '500',\n",
       " 'inmates',\n",
       " 'went',\n",
       " 'missing',\n",
       " 'user',\n",
       " 'user',\n",
       " 'useless',\n",
       " 'attempts',\n",
       " 'right',\n",
       " 'thing',\n",
       " 'follows',\n",
       " 'walkaway',\n",
       " 'liberalsyour',\n",
       " 'party',\n",
       " 'poison',\n",
       " 'url',\n",
       " 'user',\n",
       " 'grateful',\n",
       " 'trump',\n",
       " 'doesnt',\n",
       " 'dog',\n",
       " 'white',\n",
       " 'house',\n",
       " 'cruel',\n",
       " 'man',\n",
       " 'user',\n",
       " 'lying',\n",
       " 'stick',\n",
       " 'facts',\n",
       " 'pay',\n",
       " 'user',\n",
       " 'trump',\n",
       " 'kicks',\n",
       " 'dem',\n",
       " 'butt',\n",
       " '-',\n",
       " 'fun',\n",
       " 'user',\n",
       " 'user',\n",
       " 'user',\n",
       " 'dumb',\n",
       " 'dumber',\n",
       " 'president',\n",
       " 'toxictory',\n",
       " 'minister',\n",
       " 'user',\n",
       " 'attempted',\n",
       " 'expense',\n",
       " '50',\n",
       " 'charity',\n",
       " 'donation',\n",
       " 'user',\n",
       " 'user',\n",
       " 'toriesmustgo',\n",
       " 'dissolvetheunion',\n",
       " 'url',\n",
       " 'user',\n",
       " 'ur',\n",
       " 'straight',\n",
       " 'forword',\n",
       " 'man',\n",
       " 'saw',\n",
       " 'u',\n",
       " 'dance',\n",
       " 'dewwane',\n",
       " 'ur',\n",
       " 'talk',\n",
       " 'free',\n",
       " 'ky',\n",
       " 'ap',\n",
       " 'kitnay',\n",
       " 'porrany',\n",
       " 'ho',\n",
       " 'industry',\n",
       " 'mein',\n",
       " 'like',\n",
       " 'ur',\n",
       " 'quality',\n",
       " 'u',\n",
       " 'gather',\n",
       " 'ur',\n",
       " 'senior',\n",
       " 'artist',\n",
       " 'love',\n",
       " 'manmarziyaan',\n",
       " 'user',\n",
       " 'clown',\n",
       " 'prison',\n",
       " 'user',\n",
       " 'user',\n",
       " 'user',\n",
       " 'user',\n",
       " 'twitter',\n",
       " 'silence',\n",
       " 'alex',\n",
       " 'jones',\n",
       " 'retaliation',\n",
       " 'asking',\n",
       " 'twitter',\n",
       " 'jack',\n",
       " 'questions',\n",
       " 'user',\n",
       " 'user',\n",
       " 'user',\n",
       " 'user',\n",
       " 'url',\n",
       " 'user',\n",
       " 'thats',\n",
       " 'bebecause',\n",
       " 'old',\n",
       " 'man',\n",
       " 'user',\n",
       " 'user',\n",
       " 'user',\n",
       " 'obstructionists',\n",
       " 'anti-american',\n",
       " 'pharisees',\n",
       " 'ask',\n",
       " 'running',\n",
       " 'maga',\n",
       " 'user',\n",
       " 'user',\n",
       " 'youre',\n",
       " 'notyoure',\n",
       " '2',\n",
       " 'represent',\n",
       " 'alinskyite',\n",
       " 'orwellian',\n",
       " 'leftist',\n",
       " 'toolampfool',\n",
       " 'view',\n",
       " 'thingslike',\n",
       " '999',\n",
       " 'marxistsampantifa',\n",
       " 'similar',\n",
       " '2upsst',\n",
       " 'b4u',\n",
       " 'use',\n",
       " 'words',\n",
       " 'fascist',\n",
       " 'fascism',\n",
       " 'ahead',\n",
       " 'amp',\n",
       " 'read',\n",
       " 'dsouzas',\n",
       " 'book',\n",
       " 'big',\n",
       " 'lieright',\n",
       " 'u',\n",
       " 'know',\n",
       " 'squat',\n",
       " 'user',\n",
       " 'remember',\n",
       " 'centrist',\n",
       " 'antifa-haters',\n",
       " 'bring',\n",
       " 'condemn',\n",
       " 'things',\n",
       " 'user',\n",
       " 'mean',\n",
       " 'worked',\n",
       " 'gun',\n",
       " 'control',\n",
       " 'right',\n",
       " 'url',\n",
       " 'user',\n",
       " 'think',\n",
       " 'thing',\n",
       " 'wh',\n",
       " 'trumps',\n",
       " 'mind',\n",
       " 'april',\n",
       " 'ryan',\n",
       " 'needs',\n",
       " 'stop',\n",
       " 'flattering',\n",
       " 'important',\n",
       " 'thinks',\n",
       " 'user',\n",
       " 'principled',\n",
       " 'conservatives',\n",
       " 'hypocrickets',\n",
       " 'user',\n",
       " 'user',\n",
       " 'user',\n",
       " 'user',\n",
       " 'user',\n",
       " 'user',\n",
       " 'user',\n",
       " 'user',\n",
       " 'user',\n",
       " 'user',\n",
       " 'user',\n",
       " 'user',\n",
       " 'user',\n",
       " 'dont',\n",
       " 'forget',\n",
       " 'user',\n",
       " 'amp',\n",
       " 'democrat',\n",
       " 'backed',\n",
       " 'antifa',\n",
       " 'user',\n",
       " 'beautiful',\n",
       " 'person',\n",
       " 'teach',\n",
       " 'values',\n",
       " 'kids',\n",
       " 'teaching',\n",
       " 'royalty',\n",
       " 'going',\n",
       " 'heads',\n",
       " 'stay',\n",
       " 'real',\n",
       " 'user',\n",
       " 'bring',\n",
       " 'antifa',\n",
       " 'criminal',\n",
       " 'son',\n",
       " 'campaign',\n",
       " 'user',\n",
       " 'user',\n",
       " 'didnt',\n",
       " 'watch',\n",
       " ...]"
      ]
     },
     "execution_count": 97,
     "metadata": {},
     "output_type": "execute_result"
    }
   ],
   "source": [
    "text"
   ]
  },
  {
   "cell_type": "code",
   "execution_count": 98,
   "metadata": {},
   "outputs": [],
   "source": [
    "x = ' '.join(text[:2000])"
   ]
  },
  {
   "cell_type": "code",
   "execution_count": 99,
   "metadata": {},
   "outputs": [
    {
     "data": {
      "text/plain": [
       "160629"
      ]
     },
     "execution_count": 99,
     "metadata": {},
     "output_type": "execute_result"
    }
   ],
   "source": [
    "len(text)"
   ]
  },
  {
   "cell_type": "code",
   "execution_count": 100,
   "metadata": {},
   "outputs": [
    {
     "data": {
      "image/png": "[encoded data removed]",
      "text/plain": [
       "<Figure size 432x288 with 1 Axes>"
      ]
     },
     "metadata": {
      "needs_background": "light"
     },
     "output_type": "display_data"
    }
   ],
   "source": [
    "wc = WordCloud(width = 800, height=400).generate(x)\n",
    "plt.imshow(wc)\n",
    "plt.axis('off')\n",
    "plt.show()"
   ]
  },
  {
   "cell_type": "markdown",
   "metadata": {},
   "source": [
    "### Correção Ortografica"
   ]
  },
  {
   "cell_type": "code",
   "execution_count": 101,
   "metadata": {},
   "outputs": [],
   "source": [
    "from textblob import TextBlob"
   ]
  },
  {
   "cell_type": "code",
   "execution_count": 102,
   "metadata": {},
   "outputs": [],
   "source": [
    "x = 'Thanks forr waching this vidio carri'"
   ]
  },
  {
   "cell_type": "code",
   "execution_count": 103,
   "metadata": {},
   "outputs": [],
   "source": [
    "x = TextBlob(x).correct()"
   ]
  },
  {
   "cell_type": "code",
   "execution_count": 104,
   "metadata": {},
   "outputs": [
    {
     "data": {
      "text/plain": [
       "TextBlob(\"Thanks for watching this video carry\")"
      ]
     },
     "execution_count": 104,
     "metadata": {},
     "output_type": "execute_result"
    }
   ],
   "source": [
    "x"
   ]
  },
  {
   "cell_type": "markdown",
   "metadata": {},
   "source": [
    "### Tokenização"
   ]
  },
  {
   "cell_type": "code",
   "execution_count": 105,
   "metadata": {},
   "outputs": [],
   "source": [
    "x = 'thanks#watching this video. please like it'"
   ]
  },
  {
   "cell_type": "code",
   "execution_count": 106,
   "metadata": {},
   "outputs": [
    {
     "data": {
      "text/plain": [
       "WordList(['thanks', 'watching', 'this', 'video', 'please', 'like', 'it'])"
      ]
     },
     "execution_count": 106,
     "metadata": {},
     "output_type": "execute_result"
    }
   ],
   "source": [
    "TextBlob(x).words"
   ]
  },
  {
   "cell_type": "code",
   "execution_count": 107,
   "metadata": {},
   "outputs": [
    {
     "name": "stdout",
     "output_type": "stream",
     "text": [
      "thanks#watching\n",
      "this\n",
      "video\n",
      ".\n",
      "please\n",
      "like\n",
      "it\n"
     ]
    }
   ],
   "source": [
    "doc = nlp(x)\n",
    "for token in doc:\n",
    "    print(token)"
   ]
  },
  {
   "cell_type": "markdown",
   "metadata": {},
   "source": [
    "### Lematização"
   ]
  },
  {
   "cell_type": "code",
   "execution_count": 108,
   "metadata": {},
   "outputs": [],
   "source": [
    "x = 'runs run running ran'"
   ]
  },
  {
   "cell_type": "code",
   "execution_count": 109,
   "metadata": {},
   "outputs": [],
   "source": [
    "from textblob import Word"
   ]
  },
  {
   "cell_type": "code",
   "execution_count": 110,
   "metadata": {},
   "outputs": [
    {
     "name": "stdout",
     "output_type": "stream",
     "text": [
      "run\n",
      "run\n",
      "running\n",
      "ran\n"
     ]
    }
   ],
   "source": [
    "for token in x.split():\n",
    "    print(Word(token).lemmatize())"
   ]
  },
  {
   "cell_type": "code",
   "execution_count": 111,
   "metadata": {},
   "outputs": [
    {
     "name": "stdout",
     "output_type": "stream",
     "text": [
      "run\n",
      "run\n",
      "run\n",
      "run\n"
     ]
    }
   ],
   "source": [
    "doc = nlp(x)\n",
    "for token in doc:\n",
    "    print(token.lemma_)"
   ]
  },
  {
   "cell_type": "markdown",
   "metadata": {},
   "source": [
    "### Detecção de Entidades NER (usando SpaCy)"
   ]
  },
  {
   "cell_type": "code",
   "execution_count": 112,
   "metadata": {},
   "outputs": [],
   "source": [
    "x = \"Breaking News: Donald Trump, the presindent od the USA is looking to sign a deal to mine the moon\""
   ]
  },
  {
   "cell_type": "code",
   "execution_count": 113,
   "metadata": {},
   "outputs": [
    {
     "name": "stdout",
     "output_type": "stream",
     "text": [
      "Donald Trump - PERSON - People, including fictional\n",
      "USA - GPE - Countries, cities, states\n"
     ]
    }
   ],
   "source": [
    "doc = nlp(x)\n",
    "for ent in doc.ents:\n",
    "    print(ent.text + ' - ' + ent.label_ + ' - ' + str(spacy.explain(ent.label_)))"
   ]
  },
  {
   "cell_type": "code",
   "execution_count": 114,
   "metadata": {},
   "outputs": [],
   "source": [
    "from spacy import displacy"
   ]
  },
  {
   "cell_type": "code",
   "execution_count": 115,
   "metadata": {},
   "outputs": [
    {
     "data": {
      "text/html": [
       "<span class=\"tex2jax_ignore\"><div class=\"entities\" style=\"line-height: 2.5; direction: ltr\">Breaking News: \n",
       "<mark class=\"entity\" style=\"background: #aa9cfc; padding: 0.45em 0.6em; margin: 0 0.25em; line-height: 1; border-radius: 0.35em;\">\n",
       "    Donald Trump\n",
       "    <span style=\"font-size: 0.8em; font-weight: bold; line-height: 1; border-radius: 0.35em; text-transform: uppercase; vertical-align: middle; margin-left: 0.5rem\">PERSON</span>\n",
       "</mark>\n",
       ", the presindent od the \n",
       "<mark class=\"entity\" style=\"background: #feca74; padding: 0.45em 0.6em; margin: 0 0.25em; line-height: 1; border-radius: 0.35em;\">\n",
       "    USA\n",
       "    <span style=\"font-size: 0.8em; font-weight: bold; line-height: 1; border-radius: 0.35em; text-transform: uppercase; vertical-align: middle; margin-left: 0.5rem\">GPE</span>\n",
       "</mark>\n",
       " is looking to sign a deal to mine the moon</div></span>"
      ],
      "text/plain": [
       "<IPython.core.display.HTML object>"
      ]
     },
     "metadata": {},
     "output_type": "display_data"
    }
   ],
   "source": [
    "displacy.render(doc, style='ent')"
   ]
  },
  {
   "cell_type": "markdown",
   "metadata": {},
   "source": [
    "### Detectando Substantivos"
   ]
  },
  {
   "cell_type": "code",
   "execution_count": 116,
   "metadata": {},
   "outputs": [
    {
     "data": {
      "text/plain": [
       "'Breaking News: Donald Trump, the presindent od the USA is looking to sign a deal to mine the moon'"
      ]
     },
     "execution_count": 116,
     "metadata": {},
     "output_type": "execute_result"
    }
   ],
   "source": [
    "x"
   ]
  },
  {
   "cell_type": "code",
   "execution_count": 117,
   "metadata": {},
   "outputs": [
    {
     "name": "stdout",
     "output_type": "stream",
     "text": [
      "Breaking News\n",
      "Donald Trump\n",
      "the presindent\n",
      "the USA\n",
      "a deal\n",
      "the moon\n"
     ]
    }
   ],
   "source": [
    "for noun in doc.noun_chunks:\n",
    "    print(noun)"
   ]
  },
  {
   "cell_type": "markdown",
   "metadata": {},
   "source": [
    "### Tradução e detecção de linguagem"
   ]
  },
  {
   "cell_type": "code",
   "execution_count": 118,
   "metadata": {},
   "outputs": [],
   "source": [
    "tb = TextBlob(x)"
   ]
  },
  {
   "cell_type": "code",
   "execution_count": 119,
   "metadata": {},
   "outputs": [
    {
     "data": {
      "text/plain": [
       "'en'"
      ]
     },
     "execution_count": 119,
     "metadata": {},
     "output_type": "execute_result"
    }
   ],
   "source": [
    "tb.detect_language()"
   ]
  },
  {
   "cell_type": "code",
   "execution_count": 120,
   "metadata": {},
   "outputs": [
    {
     "data": {
      "text/plain": [
       "TextBlob(\"Notícias recentes: Donald Trump, o presidente dos EUA quer assinar um acordo para minar a lua\")"
      ]
     },
     "execution_count": 120,
     "metadata": {},
     "output_type": "execute_result"
    }
   ],
   "source": [
    "tb.translate(to='pt')"
   ]
  },
  {
   "cell_type": "markdown",
   "metadata": {},
   "source": [
    "### Classificando Sentimentos Texto"
   ]
  },
  {
   "cell_type": "code",
   "execution_count": 121,
   "metadata": {},
   "outputs": [],
   "source": [
    "from textblob.sentiments import NaiveBayesAnalyzer"
   ]
  },
  {
   "cell_type": "code",
   "execution_count": 122,
   "metadata": {},
   "outputs": [],
   "source": [
    "x = 'we all stands together fo fight with corona virus. we will win toghether '"
   ]
  },
  {
   "cell_type": "code",
   "execution_count": 123,
   "metadata": {},
   "outputs": [
    {
     "data": {
      "text/plain": [
       "'we all stands together fo fight with corona virus. we will win toghether '"
      ]
     },
     "execution_count": 123,
     "metadata": {},
     "output_type": "execute_result"
    }
   ],
   "source": [
    "x"
   ]
  },
  {
   "cell_type": "code",
   "execution_count": 124,
   "metadata": {},
   "outputs": [],
   "source": [
    "tb = TextBlob(x, analyzer=NaiveBayesAnalyzer())"
   ]
  },
  {
   "cell_type": "code",
   "execution_count": 125,
   "metadata": {},
   "outputs": [
    {
     "data": {
      "text/plain": [
       "Sentiment(classification='pos', p_pos=0.6127231835676454, p_neg=0.3872768164323548)"
      ]
     },
     "execution_count": 125,
     "metadata": {},
     "output_type": "execute_result"
    }
   ],
   "source": [
    "tb.sentiment"
   ]
  },
  {
   "cell_type": "code",
   "execution_count": 126,
   "metadata": {},
   "outputs": [],
   "source": [
    "x = 'we all are sufering from corona'"
   ]
  },
  {
   "cell_type": "code",
   "execution_count": 127,
   "metadata": {},
   "outputs": [],
   "source": [
    "tb = TextBlob(x, analyzer=NaiveBayesAnalyzer())"
   ]
  },
  {
   "cell_type": "code",
   "execution_count": 128,
   "metadata": {},
   "outputs": [
    {
     "data": {
      "text/plain": [
       "Sentiment(classification='pos', p_pos=0.75616044472398, p_neg=0.2438395552760203)"
      ]
     },
     "execution_count": 128,
     "metadata": {},
     "output_type": "execute_result"
    }
   ],
   "source": [
    "tb.sentiment"
   ]
  },
  {
   "cell_type": "markdown",
   "metadata": {},
   "source": [
    "### Processamento de Texto Avançado"
   ]
  },
  {
   "cell_type": "markdown",
   "metadata": {},
   "source": [
    "### N-Grams"
   ]
  },
  {
   "cell_type": "code",
   "execution_count": 129,
   "metadata": {},
   "outputs": [],
   "source": [
    "x = 'thanks for watching'"
   ]
  },
  {
   "cell_type": "code",
   "execution_count": 130,
   "metadata": {},
   "outputs": [],
   "source": [
    "tb = TextBlob(x)"
   ]
  },
  {
   "cell_type": "code",
   "execution_count": 131,
   "metadata": {},
   "outputs": [
    {
     "data": {
      "text/plain": [
       "[WordList(['thanks', 'for', 'watching'])]"
      ]
     },
     "execution_count": 131,
     "metadata": {},
     "output_type": "execute_result"
    }
   ],
   "source": [
    "#tb.ngrams(1)\n",
    "tb.ngrams(2)\n",
    "tb.ngrams(3)"
   ]
  },
  {
   "cell_type": "markdown",
   "metadata": {},
   "source": [
    "### Bag Of Words (BoW)"
   ]
  },
  {
   "cell_type": "code",
   "execution_count": 132,
   "metadata": {},
   "outputs": [],
   "source": [
    "x = ['this is first sentence', 'this is second','this is last']"
   ]
  },
  {
   "cell_type": "code",
   "execution_count": 133,
   "metadata": {},
   "outputs": [],
   "source": [
    "from sklearn.feature_extraction.text import CountVectorizer"
   ]
  },
  {
   "cell_type": "code",
   "execution_count": 134,
   "metadata": {},
   "outputs": [],
   "source": [
    "cv = CountVectorizer(ngram_range=(1,1))\n",
    "text_counts = cv.fit_transform(x)"
   ]
  },
  {
   "cell_type": "code",
   "execution_count": 135,
   "metadata": {},
   "outputs": [
    {
     "data": {
      "text/plain": [
       "array([[1, 1, 0, 0, 1, 1],\n",
       "       [0, 1, 0, 1, 0, 1],\n",
       "       [0, 1, 1, 0, 0, 1]], dtype=int64)"
      ]
     },
     "execution_count": 135,
     "metadata": {},
     "output_type": "execute_result"
    }
   ],
   "source": [
    "text_counts.toarray()"
   ]
  },
  {
   "cell_type": "code",
   "execution_count": 136,
   "metadata": {},
   "outputs": [
    {
     "data": {
      "text/plain": [
       "['first', 'is', 'last', 'second', 'sentence', 'this']"
      ]
     },
     "execution_count": 136,
     "metadata": {},
     "output_type": "execute_result"
    }
   ],
   "source": [
    "cv.get_feature_names()"
   ]
  },
  {
   "cell_type": "code",
   "execution_count": 137,
   "metadata": {},
   "outputs": [],
   "source": [
    "bow = pd.DataFrame(text_counts.toarray(), columns=cv.get_feature_names())"
   ]
  },
  {
   "cell_type": "code",
   "execution_count": 138,
   "metadata": {},
   "outputs": [
    {
     "data": {
      "text/html": [
       "<div>\n",
       "<style scoped>\n",
       "    .dataframe tbody tr th:only-of-type {\n",
       "        vertical-align: middle;\n",
       "    }\n",
       "\n",
       "    .dataframe tbody tr th {\n",
       "        vertical-align: top;\n",
       "    }\n",
       "\n",
       "    .dataframe thead th {\n",
       "        text-align: right;\n",
       "    }\n",
       "</style>\n",
       "<table border=\"1\" class=\"dataframe\">\n",
       "  <thead>\n",
       "    <tr style=\"text-align: right;\">\n",
       "      <th></th>\n",
       "      <th>first</th>\n",
       "      <th>is</th>\n",
       "      <th>last</th>\n",
       "      <th>second</th>\n",
       "      <th>sentence</th>\n",
       "      <th>this</th>\n",
       "    </tr>\n",
       "  </thead>\n",
       "  <tbody>\n",
       "    <tr>\n",
       "      <th>0</th>\n",
       "      <td>1</td>\n",
       "      <td>1</td>\n",
       "      <td>0</td>\n",
       "      <td>0</td>\n",
       "      <td>1</td>\n",
       "      <td>1</td>\n",
       "    </tr>\n",
       "    <tr>\n",
       "      <th>1</th>\n",
       "      <td>0</td>\n",
       "      <td>1</td>\n",
       "      <td>0</td>\n",
       "      <td>1</td>\n",
       "      <td>0</td>\n",
       "      <td>1</td>\n",
       "    </tr>\n",
       "    <tr>\n",
       "      <th>2</th>\n",
       "      <td>0</td>\n",
       "      <td>1</td>\n",
       "      <td>1</td>\n",
       "      <td>0</td>\n",
       "      <td>0</td>\n",
       "      <td>1</td>\n",
       "    </tr>\n",
       "  </tbody>\n",
       "</table>\n",
       "</div>"
      ],
      "text/plain": [
       "   first  is  last  second  sentence  this\n",
       "0      1   1     0       0         1     1\n",
       "1      0   1     0       1         0     1\n",
       "2      0   1     1       0         0     1"
      ]
     },
     "execution_count": 138,
     "metadata": {},
     "output_type": "execute_result"
    }
   ],
   "source": [
    "bow"
   ]
  },
  {
   "cell_type": "code",
   "execution_count": 139,
   "metadata": {},
   "outputs": [
    {
     "data": {
      "text/plain": [
       "['this is first sentence', 'this is second', 'this is last']"
      ]
     },
     "execution_count": 139,
     "metadata": {},
     "output_type": "execute_result"
    }
   ],
   "source": [
    "x"
   ]
  },
  {
   "cell_type": "markdown",
   "metadata": {},
   "source": [
    "### Frequencia dos Termos"
   ]
  },
  {
   "cell_type": "code",
   "execution_count": 140,
   "metadata": {},
   "outputs": [],
   "source": [
    "#A frequência de termo é simplesmente a razão entre a contagem de uma\n",
    "#palavra presente em um setença e o comprimento da frase"
   ]
  },
  {
   "cell_type": "code",
   "execution_count": 141,
   "metadata": {},
   "outputs": [
    {
     "data": {
      "text/plain": [
       "['this is first sentence', 'this is second', 'this is last']"
      ]
     },
     "execution_count": 141,
     "metadata": {},
     "output_type": "execute_result"
    }
   ],
   "source": [
    "x"
   ]
  },
  {
   "cell_type": "code",
   "execution_count": 142,
   "metadata": {},
   "outputs": [
    {
     "data": {
      "text/html": [
       "<div>\n",
       "<style scoped>\n",
       "    .dataframe tbody tr th:only-of-type {\n",
       "        vertical-align: middle;\n",
       "    }\n",
       "\n",
       "    .dataframe tbody tr th {\n",
       "        vertical-align: top;\n",
       "    }\n",
       "\n",
       "    .dataframe thead th {\n",
       "        text-align: right;\n",
       "    }\n",
       "</style>\n",
       "<table border=\"1\" class=\"dataframe\">\n",
       "  <thead>\n",
       "    <tr style=\"text-align: right;\">\n",
       "      <th></th>\n",
       "      <th>first</th>\n",
       "      <th>is</th>\n",
       "      <th>last</th>\n",
       "      <th>second</th>\n",
       "      <th>sentence</th>\n",
       "      <th>this</th>\n",
       "    </tr>\n",
       "  </thead>\n",
       "  <tbody>\n",
       "    <tr>\n",
       "      <th>0</th>\n",
       "      <td>1</td>\n",
       "      <td>1</td>\n",
       "      <td>0</td>\n",
       "      <td>0</td>\n",
       "      <td>1</td>\n",
       "      <td>1</td>\n",
       "    </tr>\n",
       "    <tr>\n",
       "      <th>1</th>\n",
       "      <td>0</td>\n",
       "      <td>1</td>\n",
       "      <td>0</td>\n",
       "      <td>1</td>\n",
       "      <td>0</td>\n",
       "      <td>1</td>\n",
       "    </tr>\n",
       "    <tr>\n",
       "      <th>2</th>\n",
       "      <td>0</td>\n",
       "      <td>1</td>\n",
       "      <td>1</td>\n",
       "      <td>0</td>\n",
       "      <td>0</td>\n",
       "      <td>1</td>\n",
       "    </tr>\n",
       "  </tbody>\n",
       "</table>\n",
       "</div>"
      ],
      "text/plain": [
       "   first  is  last  second  sentence  this\n",
       "0      1   1     0       0         1     1\n",
       "1      0   1     0       1         0     1\n",
       "2      0   1     1       0         0     1"
      ]
     },
     "execution_count": 142,
     "metadata": {},
     "output_type": "execute_result"
    }
   ],
   "source": [
    "bow"
   ]
  },
  {
   "cell_type": "code",
   "execution_count": 143,
   "metadata": {},
   "outputs": [
    {
     "data": {
      "text/plain": [
       "(3, 6)"
      ]
     },
     "execution_count": 143,
     "metadata": {},
     "output_type": "execute_result"
    }
   ],
   "source": [
    "bow.shape"
   ]
  },
  {
   "cell_type": "code",
   "execution_count": 144,
   "metadata": {},
   "outputs": [],
   "source": [
    "tf = bow.copy()"
   ]
  },
  {
   "cell_type": "code",
   "execution_count": 145,
   "metadata": {},
   "outputs": [
    {
     "data": {
      "text/html": [
       "<div>\n",
       "<style scoped>\n",
       "    .dataframe tbody tr th:only-of-type {\n",
       "        vertical-align: middle;\n",
       "    }\n",
       "\n",
       "    .dataframe tbody tr th {\n",
       "        vertical-align: top;\n",
       "    }\n",
       "\n",
       "    .dataframe thead th {\n",
       "        text-align: right;\n",
       "    }\n",
       "</style>\n",
       "<table border=\"1\" class=\"dataframe\">\n",
       "  <thead>\n",
       "    <tr style=\"text-align: right;\">\n",
       "      <th></th>\n",
       "      <th>first</th>\n",
       "      <th>is</th>\n",
       "      <th>last</th>\n",
       "      <th>second</th>\n",
       "      <th>sentence</th>\n",
       "      <th>this</th>\n",
       "    </tr>\n",
       "  </thead>\n",
       "  <tbody>\n",
       "    <tr>\n",
       "      <th>0</th>\n",
       "      <td>1</td>\n",
       "      <td>1</td>\n",
       "      <td>0</td>\n",
       "      <td>0</td>\n",
       "      <td>1</td>\n",
       "      <td>1</td>\n",
       "    </tr>\n",
       "    <tr>\n",
       "      <th>1</th>\n",
       "      <td>0</td>\n",
       "      <td>1</td>\n",
       "      <td>0</td>\n",
       "      <td>1</td>\n",
       "      <td>0</td>\n",
       "      <td>1</td>\n",
       "    </tr>\n",
       "    <tr>\n",
       "      <th>2</th>\n",
       "      <td>0</td>\n",
       "      <td>1</td>\n",
       "      <td>1</td>\n",
       "      <td>0</td>\n",
       "      <td>0</td>\n",
       "      <td>1</td>\n",
       "    </tr>\n",
       "  </tbody>\n",
       "</table>\n",
       "</div>"
      ],
      "text/plain": [
       "   first  is  last  second  sentence  this\n",
       "0      1   1     0       0         1     1\n",
       "1      0   1     0       1         0     1\n",
       "2      0   1     1       0         0     1"
      ]
     },
     "execution_count": 145,
     "metadata": {},
     "output_type": "execute_result"
    }
   ],
   "source": [
    "tf"
   ]
  },
  {
   "cell_type": "code",
   "execution_count": 146,
   "metadata": {},
   "outputs": [],
   "source": [
    "for index, row in enumerate(tf.iterrows()):\n",
    "    for col in row[1].index:\n",
    "        tf.loc[index,col] = tf.loc[index, col]/sum(row[1].values)"
   ]
  },
  {
   "cell_type": "code",
   "execution_count": 147,
   "metadata": {},
   "outputs": [
    {
     "data": {
      "text/html": [
       "<div>\n",
       "<style scoped>\n",
       "    .dataframe tbody tr th:only-of-type {\n",
       "        vertical-align: middle;\n",
       "    }\n",
       "\n",
       "    .dataframe tbody tr th {\n",
       "        vertical-align: top;\n",
       "    }\n",
       "\n",
       "    .dataframe thead th {\n",
       "        text-align: right;\n",
       "    }\n",
       "</style>\n",
       "<table border=\"1\" class=\"dataframe\">\n",
       "  <thead>\n",
       "    <tr style=\"text-align: right;\">\n",
       "      <th></th>\n",
       "      <th>first</th>\n",
       "      <th>is</th>\n",
       "      <th>last</th>\n",
       "      <th>second</th>\n",
       "      <th>sentence</th>\n",
       "      <th>this</th>\n",
       "    </tr>\n",
       "  </thead>\n",
       "  <tbody>\n",
       "    <tr>\n",
       "      <th>0</th>\n",
       "      <td>0.25</td>\n",
       "      <td>0.250000</td>\n",
       "      <td>0.000000</td>\n",
       "      <td>0.000000</td>\n",
       "      <td>0.25</td>\n",
       "      <td>0.250000</td>\n",
       "    </tr>\n",
       "    <tr>\n",
       "      <th>1</th>\n",
       "      <td>0.00</td>\n",
       "      <td>0.333333</td>\n",
       "      <td>0.000000</td>\n",
       "      <td>0.333333</td>\n",
       "      <td>0.00</td>\n",
       "      <td>0.333333</td>\n",
       "    </tr>\n",
       "    <tr>\n",
       "      <th>2</th>\n",
       "      <td>0.00</td>\n",
       "      <td>0.333333</td>\n",
       "      <td>0.333333</td>\n",
       "      <td>0.000000</td>\n",
       "      <td>0.00</td>\n",
       "      <td>0.333333</td>\n",
       "    </tr>\n",
       "  </tbody>\n",
       "</table>\n",
       "</div>"
      ],
      "text/plain": [
       "   first        is      last    second  sentence      this\n",
       "0   0.25  0.250000  0.000000  0.000000      0.25  0.250000\n",
       "1   0.00  0.333333  0.000000  0.333333      0.00  0.333333\n",
       "2   0.00  0.333333  0.333333  0.000000      0.00  0.333333"
      ]
     },
     "execution_count": 147,
     "metadata": {},
     "output_type": "execute_result"
    }
   ],
   "source": [
    "tf"
   ]
  },
  {
   "cell_type": "markdown",
   "metadata": {},
   "source": [
    "### Frequencia invesa do documento"
   ]
  },
  {
   "cell_type": "markdown",
   "metadata": {},
   "source": [
    "idf = log((1+N)/(n+1))+1 usando sklearn when smooth_idf = True"
   ]
  },
  {
   "cell_type": "markdown",
   "metadata": {},
   "source": [
    "#onde, \"N\" é o número total de linhas, \"n\" é o número de linhas em que a palavra estava presente."
   ]
  },
  {
   "cell_type": "code",
   "execution_count": 148,
   "metadata": {},
   "outputs": [],
   "source": [
    "import numpy as np"
   ]
  },
  {
   "cell_type": "code",
   "execution_count": 149,
   "metadata": {},
   "outputs": [],
   "source": [
    "x_df=pd.DataFrame(x, columns=['words'])"
   ]
  },
  {
   "cell_type": "code",
   "execution_count": 150,
   "metadata": {},
   "outputs": [
    {
     "data": {
      "text/html": [
       "<div>\n",
       "<style scoped>\n",
       "    .dataframe tbody tr th:only-of-type {\n",
       "        vertical-align: middle;\n",
       "    }\n",
       "\n",
       "    .dataframe tbody tr th {\n",
       "        vertical-align: top;\n",
       "    }\n",
       "\n",
       "    .dataframe thead th {\n",
       "        text-align: right;\n",
       "    }\n",
       "</style>\n",
       "<table border=\"1\" class=\"dataframe\">\n",
       "  <thead>\n",
       "    <tr style=\"text-align: right;\">\n",
       "      <th></th>\n",
       "      <th>words</th>\n",
       "    </tr>\n",
       "  </thead>\n",
       "  <tbody>\n",
       "    <tr>\n",
       "      <th>0</th>\n",
       "      <td>this is first sentence</td>\n",
       "    </tr>\n",
       "    <tr>\n",
       "      <th>1</th>\n",
       "      <td>this is second</td>\n",
       "    </tr>\n",
       "    <tr>\n",
       "      <th>2</th>\n",
       "      <td>this is last</td>\n",
       "    </tr>\n",
       "  </tbody>\n",
       "</table>\n",
       "</div>"
      ],
      "text/plain": [
       "                    words\n",
       "0  this is first sentence\n",
       "1          this is second\n",
       "2            this is last"
      ]
     },
     "execution_count": 150,
     "metadata": {},
     "output_type": "execute_result"
    }
   ],
   "source": [
    "x_df"
   ]
  },
  {
   "cell_type": "code",
   "execution_count": 151,
   "metadata": {},
   "outputs": [
    {
     "data": {
      "text/plain": [
       "3"
      ]
     },
     "execution_count": 151,
     "metadata": {},
     "output_type": "execute_result"
    }
   ],
   "source": [
    "N = bow.shape[0]\n",
    "N"
   ]
  },
  {
   "cell_type": "code",
   "execution_count": 152,
   "metadata": {},
   "outputs": [
    {
     "data": {
      "text/html": [
       "<div>\n",
       "<style scoped>\n",
       "    .dataframe tbody tr th:only-of-type {\n",
       "        vertical-align: middle;\n",
       "    }\n",
       "\n",
       "    .dataframe tbody tr th {\n",
       "        vertical-align: top;\n",
       "    }\n",
       "\n",
       "    .dataframe thead th {\n",
       "        text-align: right;\n",
       "    }\n",
       "</style>\n",
       "<table border=\"1\" class=\"dataframe\">\n",
       "  <thead>\n",
       "    <tr style=\"text-align: right;\">\n",
       "      <th></th>\n",
       "      <th>first</th>\n",
       "      <th>is</th>\n",
       "      <th>last</th>\n",
       "      <th>second</th>\n",
       "      <th>sentence</th>\n",
       "      <th>this</th>\n",
       "    </tr>\n",
       "  </thead>\n",
       "  <tbody>\n",
       "    <tr>\n",
       "      <th>0</th>\n",
       "      <td>True</td>\n",
       "      <td>True</td>\n",
       "      <td>False</td>\n",
       "      <td>False</td>\n",
       "      <td>True</td>\n",
       "      <td>True</td>\n",
       "    </tr>\n",
       "    <tr>\n",
       "      <th>1</th>\n",
       "      <td>False</td>\n",
       "      <td>True</td>\n",
       "      <td>False</td>\n",
       "      <td>True</td>\n",
       "      <td>False</td>\n",
       "      <td>True</td>\n",
       "    </tr>\n",
       "    <tr>\n",
       "      <th>2</th>\n",
       "      <td>False</td>\n",
       "      <td>True</td>\n",
       "      <td>True</td>\n",
       "      <td>False</td>\n",
       "      <td>False</td>\n",
       "      <td>True</td>\n",
       "    </tr>\n",
       "  </tbody>\n",
       "</table>\n",
       "</div>"
      ],
      "text/plain": [
       "   first    is   last  second  sentence  this\n",
       "0   True  True  False   False      True  True\n",
       "1  False  True  False    True     False  True\n",
       "2  False  True   True   False     False  True"
      ]
     },
     "execution_count": 152,
     "metadata": {},
     "output_type": "execute_result"
    }
   ],
   "source": [
    "bb = bow.astype('bool')\n",
    "bb"
   ]
  },
  {
   "cell_type": "code",
   "execution_count": 153,
   "metadata": {},
   "outputs": [
    {
     "data": {
      "text/plain": [
       "3"
      ]
     },
     "execution_count": 153,
     "metadata": {},
     "output_type": "execute_result"
    }
   ],
   "source": [
    "bb['is'].sum()"
   ]
  },
  {
   "cell_type": "code",
   "execution_count": 154,
   "metadata": {},
   "outputs": [
    {
     "data": {
      "text/plain": [
       "Index(['first', 'is', 'last', 'second', 'sentence', 'this'], dtype='object')"
      ]
     },
     "execution_count": 154,
     "metadata": {},
     "output_type": "execute_result"
    }
   ],
   "source": [
    "cols = bb.columns\n",
    "cols"
   ]
  },
  {
   "cell_type": "code",
   "execution_count": 155,
   "metadata": {},
   "outputs": [],
   "source": [
    "nz = []\n",
    "for col in cols:\n",
    "    nz.append(bb[col].sum())"
   ]
  },
  {
   "cell_type": "code",
   "execution_count": 156,
   "metadata": {},
   "outputs": [
    {
     "data": {
      "text/plain": [
       "[1, 3, 1, 1, 1, 3]"
      ]
     },
     "execution_count": 156,
     "metadata": {},
     "output_type": "execute_result"
    }
   ],
   "source": [
    "nz"
   ]
  },
  {
   "cell_type": "code",
   "execution_count": 157,
   "metadata": {},
   "outputs": [],
   "source": [
    "idf = []\n",
    "for index, col in enumerate(cols):\n",
    "    idf.append(np.log((N+1)/(nz[index]+1))+1)"
   ]
  },
  {
   "cell_type": "code",
   "execution_count": 158,
   "metadata": {},
   "outputs": [
    {
     "data": {
      "text/plain": [
       "[1.6931471805599454,\n",
       " 1.0,\n",
       " 1.6931471805599454,\n",
       " 1.6931471805599454,\n",
       " 1.6931471805599454,\n",
       " 1.0]"
      ]
     },
     "execution_count": 158,
     "metadata": {},
     "output_type": "execute_result"
    }
   ],
   "source": [
    "idf"
   ]
  },
  {
   "cell_type": "code",
   "execution_count": 159,
   "metadata": {},
   "outputs": [
    {
     "data": {
      "text/html": [
       "<div>\n",
       "<style scoped>\n",
       "    .dataframe tbody tr th:only-of-type {\n",
       "        vertical-align: middle;\n",
       "    }\n",
       "\n",
       "    .dataframe tbody tr th {\n",
       "        vertical-align: top;\n",
       "    }\n",
       "\n",
       "    .dataframe thead th {\n",
       "        text-align: right;\n",
       "    }\n",
       "</style>\n",
       "<table border=\"1\" class=\"dataframe\">\n",
       "  <thead>\n",
       "    <tr style=\"text-align: right;\">\n",
       "      <th></th>\n",
       "      <th>first</th>\n",
       "      <th>is</th>\n",
       "      <th>last</th>\n",
       "      <th>second</th>\n",
       "      <th>sentence</th>\n",
       "      <th>this</th>\n",
       "    </tr>\n",
       "  </thead>\n",
       "  <tbody>\n",
       "    <tr>\n",
       "      <th>0</th>\n",
       "      <td>1</td>\n",
       "      <td>1</td>\n",
       "      <td>0</td>\n",
       "      <td>0</td>\n",
       "      <td>1</td>\n",
       "      <td>1</td>\n",
       "    </tr>\n",
       "    <tr>\n",
       "      <th>1</th>\n",
       "      <td>0</td>\n",
       "      <td>1</td>\n",
       "      <td>0</td>\n",
       "      <td>1</td>\n",
       "      <td>0</td>\n",
       "      <td>1</td>\n",
       "    </tr>\n",
       "    <tr>\n",
       "      <th>2</th>\n",
       "      <td>0</td>\n",
       "      <td>1</td>\n",
       "      <td>1</td>\n",
       "      <td>0</td>\n",
       "      <td>0</td>\n",
       "      <td>1</td>\n",
       "    </tr>\n",
       "  </tbody>\n",
       "</table>\n",
       "</div>"
      ],
      "text/plain": [
       "   first  is  last  second  sentence  this\n",
       "0      1   1     0       0         1     1\n",
       "1      0   1     0       1         0     1\n",
       "2      0   1     1       0         0     1"
      ]
     },
     "execution_count": 159,
     "metadata": {},
     "output_type": "execute_result"
    }
   ],
   "source": [
    "bow"
   ]
  },
  {
   "cell_type": "markdown",
   "metadata": {},
   "source": [
    "### TFIDF"
   ]
  },
  {
   "cell_type": "code",
   "execution_count": 160,
   "metadata": {},
   "outputs": [],
   "source": [
    "from sklearn.feature_extraction.text import TfidfVectorizer"
   ]
  },
  {
   "cell_type": "code",
   "execution_count": 161,
   "metadata": {},
   "outputs": [],
   "source": [
    "tfidf = TfidfVectorizer()\n",
    "x_tfidf = tfidf.fit_transform(x_df['words'])"
   ]
  },
  {
   "cell_type": "code",
   "execution_count": 162,
   "metadata": {},
   "outputs": [
    {
     "data": {
      "text/plain": [
       "array([[0.6088451 , 0.35959372, 0.        , 0.        , 0.6088451 ,\n",
       "        0.35959372],\n",
       "       [0.        , 0.45329466, 0.        , 0.76749457, 0.        ,\n",
       "        0.45329466],\n",
       "       [0.        , 0.45329466, 0.76749457, 0.        , 0.        ,\n",
       "        0.45329466]])"
      ]
     },
     "execution_count": 162,
     "metadata": {},
     "output_type": "execute_result"
    }
   ],
   "source": [
    "x_tfidf.toarray()"
   ]
  },
  {
   "cell_type": "code",
   "execution_count": 163,
   "metadata": {},
   "outputs": [
    {
     "data": {
      "text/plain": [
       "array([1.69314718, 1.        , 1.69314718, 1.69314718, 1.69314718,\n",
       "       1.        ])"
      ]
     },
     "execution_count": 163,
     "metadata": {},
     "output_type": "execute_result"
    }
   ],
   "source": [
    "tfidf.idf_"
   ]
  },
  {
   "cell_type": "code",
   "execution_count": 164,
   "metadata": {},
   "outputs": [
    {
     "data": {
      "text/plain": [
       "[1.6931471805599454,\n",
       " 1.0,\n",
       " 1.6931471805599454,\n",
       " 1.6931471805599454,\n",
       " 1.6931471805599454,\n",
       " 1.0]"
      ]
     },
     "execution_count": 164,
     "metadata": {},
     "output_type": "execute_result"
    }
   ],
   "source": [
    "idf"
   ]
  },
  {
   "cell_type": "markdown",
   "metadata": {},
   "source": [
    "### Word Embeddings"
   ]
  },
  {
   "cell_type": "markdown",
   "metadata": {},
   "source": [
    "#### SpaCy Word2Vec"
   ]
  },
  {
   "cell_type": "code",
   "execution_count": 165,
   "metadata": {},
   "outputs": [],
   "source": [
    "#!python -m spacy download en_core_web_lg\n",
    "#!pip3 install -U spacy\n",
    "#spacy.load('en_core_web_lg')\n",
    "#nlp = spacy.load('en_core_web_lg')\n",
    "\n",
    "# import en_core_web_lg \n",
    "# nlp=spacy.load(en_core_web_lg)\n",
    "\n",
    "import en_core_web_lg\n",
    "nlp = en_core_web_lg.load()"
   ]
  },
  {
   "cell_type": "code",
   "execution_count": 166,
   "metadata": {},
   "outputs": [],
   "source": [
    "doc = nlp('thank you! dog cat lion dfasaa')"
   ]
  },
  {
   "cell_type": "code",
   "execution_count": 167,
   "metadata": {},
   "outputs": [
    {
     "name": "stdout",
     "output_type": "stream",
     "text": [
      "thank True\n",
      "you True\n",
      "! True\n",
      "dog True\n",
      "cat True\n",
      "lion True\n",
      "dfasaa False\n"
     ]
    }
   ],
   "source": [
    "for token in doc:\n",
    "    print(token.text, token.has_vector)"
   ]
  },
  {
   "cell_type": "code",
   "execution_count": 168,
   "metadata": {},
   "outputs": [
    {
     "data": {
      "text/plain": [
       "(300,)"
      ]
     },
     "execution_count": 168,
     "metadata": {},
     "output_type": "execute_result"
    }
   ],
   "source": [
    "token.vector.shape"
   ]
  },
  {
   "cell_type": "code",
   "execution_count": 169,
   "metadata": {},
   "outputs": [
    {
     "data": {
      "text/plain": [
       "(300,)"
      ]
     },
     "execution_count": 169,
     "metadata": {},
     "output_type": "execute_result"
    }
   ],
   "source": [
    "nlp('cat').vector.shape"
   ]
  },
  {
   "cell_type": "code",
   "execution_count": 170,
   "metadata": {},
   "outputs": [
    {
     "name": "stdout",
     "output_type": "stream",
     "text": [
      "thank thank 1.0\n",
      "thank you 0.5647585\n",
      "thank ! 0.52147406\n",
      "thank dog 0.2504265\n",
      "thank cat 0.20648485\n",
      "thank lion 0.13629764\n",
      "thank dfasaa 0.0\n",
      "you thank 0.5647585\n",
      "you you 1.0\n",
      "you ! 0.4390223\n",
      "you dog 0.36494097\n",
      "you cat 0.3080798\n",
      "you lion 0.20392051\n",
      "you dfasaa 0.0\n",
      "! thank 0.52147406\n",
      "! you 0.4390223\n",
      "! ! 1.0\n",
      "! dog 0.29852203\n",
      "! cat 0.29702348\n",
      "! lion 0.19601382\n",
      "! dfasaa 0.0\n",
      "dog thank 0.2504265\n",
      "dog you 0.36494097\n",
      "dog ! 0.29852203\n",
      "dog dog 1.0\n",
      "dog cat 0.80168545\n",
      "dog lion 0.47424486\n",
      "dog dfasaa 0.0\n",
      "cat thank 0.20648485\n",
      "cat you 0.3080798\n",
      "cat ! 0.29702348\n",
      "cat dog 0.80168545\n",
      "cat cat 1.0\n",
      "cat lion 0.52654374\n",
      "cat dfasaa 0.0\n",
      "lion thank 0.13629764\n",
      "lion you 0.20392051\n",
      "lion ! 0.19601382\n",
      "lion dog 0.47424486\n",
      "lion cat 0.52654374\n",
      "lion lion 1.0\n",
      "lion dfasaa 0.0\n",
      "dfasaa thank 0.0\n",
      "dfasaa you 0.0\n",
      "dfasaa ! 0.0\n",
      "dfasaa dog 0.0\n",
      "dfasaa cat 0.0\n",
      "dfasaa lion 0.0\n",
      "dfasaa dfasaa 1.0\n"
     ]
    },
    {
     "name": "stderr",
     "output_type": "stream",
     "text": [
      "C:\\ProgramData\\Anaconda3\\lib\\site-packages\\ipykernel_launcher.py:3: UserWarning: [W008] Evaluating Token.similarity based on empty vectors.\n",
      "  This is separate from the ipykernel package so we can avoid doing imports until\n"
     ]
    }
   ],
   "source": [
    "for token1 in doc:\n",
    "    for token2 in doc:\n",
    "        print(token1.text, token2.text, token1.similarity(token2))"
   ]
  },
  {
   "cell_type": "markdown",
   "metadata": {},
   "source": [
    "### Modelos de aprendizado de maquina para classificação de texto"
   ]
  },
  {
   "cell_type": "markdown",
   "metadata": {},
   "source": [
    "### Bow"
   ]
  },
  {
   "cell_type": "code",
   "execution_count": 171,
   "metadata": {},
   "outputs": [
    {
     "data": {
      "text/plain": [
       "(13240, 13)"
      ]
     },
     "execution_count": 171,
     "metadata": {},
     "output_type": "execute_result"
    }
   ],
   "source": [
    "df.shape"
   ]
  },
  {
   "cell_type": "code",
   "execution_count": 172,
   "metadata": {},
   "outputs": [
    {
     "data": {
      "text/html": [
       "<div>\n",
       "<style scoped>\n",
       "    .dataframe tbody tr th:only-of-type {\n",
       "        vertical-align: middle;\n",
       "    }\n",
       "\n",
       "    .dataframe tbody tr th {\n",
       "        vertical-align: top;\n",
       "    }\n",
       "\n",
       "    .dataframe thead th {\n",
       "        text-align: right;\n",
       "    }\n",
       "</style>\n",
       "<table border=\"1\" class=\"dataframe\">\n",
       "  <thead>\n",
       "    <tr style=\"text-align: right;\">\n",
       "      <th></th>\n",
       "      <th>twitts</th>\n",
       "      <th>sentiment</th>\n",
       "      <th>word_counts</th>\n",
       "      <th>char_counts</th>\n",
       "      <th>avg_word_len</th>\n",
       "      <th>stop_words_len</th>\n",
       "      <th>hashtags_count</th>\n",
       "      <th>mentions_count</th>\n",
       "      <th>numeric_count</th>\n",
       "      <th>upper_counts</th>\n",
       "      <th>emails</th>\n",
       "      <th>emails_count</th>\n",
       "      <th>urls_flag</th>\n",
       "    </tr>\n",
       "  </thead>\n",
       "  <tbody>\n",
       "    <tr>\n",
       "      <th>0</th>\n",
       "      <td>ask native americans</td>\n",
       "      <td>OFF</td>\n",
       "      <td>14</td>\n",
       "      <td>71</td>\n",
       "      <td>4.142857</td>\n",
       "      <td>8</td>\n",
       "      <td>0</td>\n",
       "      <td>1</td>\n",
       "      <td>0</td>\n",
       "      <td>1</td>\n",
       "      <td>[]</td>\n",
       "      <td>0</td>\n",
       "      <td>0</td>\n",
       "    </tr>\n",
       "    <tr>\n",
       "      <th>1</th>\n",
       "      <td>home youre drunk trump2020</td>\n",
       "      <td>OFF</td>\n",
       "      <td>11</td>\n",
       "      <td>67</td>\n",
       "      <td>5.181818</td>\n",
       "      <td>0</td>\n",
       "      <td>2</td>\n",
       "      <td>3</td>\n",
       "      <td>0</td>\n",
       "      <td>5</td>\n",
       "      <td>[]</td>\n",
       "      <td>0</td>\n",
       "      <td>0</td>\n",
       "    </tr>\n",
       "    <tr>\n",
       "      <th>2</th>\n",
       "      <td>amazon investigating chinese employees selling...</td>\n",
       "      <td>NOT</td>\n",
       "      <td>27</td>\n",
       "      <td>182</td>\n",
       "      <td>5.777778</td>\n",
       "      <td>8</td>\n",
       "      <td>5</td>\n",
       "      <td>0</td>\n",
       "      <td>0</td>\n",
       "      <td>5</td>\n",
       "      <td>[]</td>\n",
       "      <td>0</td>\n",
       "      <td>0</td>\n",
       "    </tr>\n",
       "    <tr>\n",
       "      <th>3</th>\n",
       "      <td>piece shit</td>\n",
       "      <td>OFF</td>\n",
       "      <td>11</td>\n",
       "      <td>65</td>\n",
       "      <td>5.000000</td>\n",
       "      <td>4</td>\n",
       "      <td>0</td>\n",
       "      <td>1</td>\n",
       "      <td>0</td>\n",
       "      <td>1</td>\n",
       "      <td>[]</td>\n",
       "      <td>0</td>\n",
       "      <td>0</td>\n",
       "    </tr>\n",
       "    <tr>\n",
       "      <th>4</th>\n",
       "      <td>obama wanted illegals red states</td>\n",
       "      <td>NOT</td>\n",
       "      <td>12</td>\n",
       "      <td>72</td>\n",
       "      <td>5.083333</td>\n",
       "      <td>3</td>\n",
       "      <td>0</td>\n",
       "      <td>2</td>\n",
       "      <td>0</td>\n",
       "      <td>2</td>\n",
       "      <td>[]</td>\n",
       "      <td>0</td>\n",
       "      <td>0</td>\n",
       "    </tr>\n",
       "    <tr>\n",
       "      <th>...</th>\n",
       "      <td>...</td>\n",
       "      <td>...</td>\n",
       "      <td>...</td>\n",
       "      <td>...</td>\n",
       "      <td>...</td>\n",
       "      <td>...</td>\n",
       "      <td>...</td>\n",
       "      <td>...</td>\n",
       "      <td>...</td>\n",
       "      <td>...</td>\n",
       "      <td>...</td>\n",
       "      <td>...</td>\n",
       "      <td>...</td>\n",
       "    </tr>\n",
       "    <tr>\n",
       "      <th>13235</th>\n",
       "      <td>strong vibes mans vibe millions murders - dang...</td>\n",
       "      <td>OFF</td>\n",
       "      <td>25</td>\n",
       "      <td>129</td>\n",
       "      <td>4.200000</td>\n",
       "      <td>11</td>\n",
       "      <td>0</td>\n",
       "      <td>1</td>\n",
       "      <td>0</td>\n",
       "      <td>3</td>\n",
       "      <td>[]</td>\n",
       "      <td>0</td>\n",
       "      <td>0</td>\n",
       "    </tr>\n",
       "    <tr>\n",
       "      <th>13236</th>\n",
       "      <td>shabby summer</td>\n",
       "      <td>NOT</td>\n",
       "      <td>12</td>\n",
       "      <td>62</td>\n",
       "      <td>3.916667</td>\n",
       "      <td>3</td>\n",
       "      <td>0</td>\n",
       "      <td>0</td>\n",
       "      <td>0</td>\n",
       "      <td>0</td>\n",
       "      <td>[]</td>\n",
       "      <td>0</td>\n",
       "      <td>0</td>\n",
       "    </tr>\n",
       "    <tr>\n",
       "      <th>13237</th>\n",
       "      <td>report garbage crap</td>\n",
       "      <td>OFF</td>\n",
       "      <td>11</td>\n",
       "      <td>57</td>\n",
       "      <td>4.181818</td>\n",
       "      <td>4</td>\n",
       "      <td>0</td>\n",
       "      <td>1</td>\n",
       "      <td>0</td>\n",
       "      <td>1</td>\n",
       "      <td>[]</td>\n",
       "      <td>0</td>\n",
       "      <td>0</td>\n",
       "    </tr>\n",
       "    <tr>\n",
       "      <th>13238</th>\n",
       "      <td>pussy</td>\n",
       "      <td>OFF</td>\n",
       "      <td>2</td>\n",
       "      <td>11</td>\n",
       "      <td>5.000000</td>\n",
       "      <td>0</td>\n",
       "      <td>0</td>\n",
       "      <td>1</td>\n",
       "      <td>0</td>\n",
       "      <td>1</td>\n",
       "      <td>[]</td>\n",
       "      <td>0</td>\n",
       "      <td>0</td>\n",
       "    </tr>\n",
       "    <tr>\n",
       "      <th>13239</th>\n",
       "      <td>vs justice humanrights freedomofexpression spa...</td>\n",
       "      <td>NOT</td>\n",
       "      <td>30</td>\n",
       "      <td>228</td>\n",
       "      <td>6.600000</td>\n",
       "      <td>3</td>\n",
       "      <td>9</td>\n",
       "      <td>16</td>\n",
       "      <td>0</td>\n",
       "      <td>17</td>\n",
       "      <td>[]</td>\n",
       "      <td>0</td>\n",
       "      <td>0</td>\n",
       "    </tr>\n",
       "  </tbody>\n",
       "</table>\n",
       "<p>13240 rows × 13 columns</p>\n",
       "</div>"
      ],
      "text/plain": [
       "                                                  twitts sentiment  \\\n",
       "0                                   ask native americans       OFF   \n",
       "1                             home youre drunk trump2020       OFF   \n",
       "2      amazon investigating chinese employees selling...       NOT   \n",
       "3                                             piece shit       OFF   \n",
       "4                       obama wanted illegals red states       NOT   \n",
       "...                                                  ...       ...   \n",
       "13235  strong vibes mans vibe millions murders - dang...       OFF   \n",
       "13236                                      shabby summer       NOT   \n",
       "13237                                report garbage crap       OFF   \n",
       "13238                                              pussy       OFF   \n",
       "13239  vs justice humanrights freedomofexpression spa...       NOT   \n",
       "\n",
       "       word_counts  char_counts  avg_word_len  stop_words_len  hashtags_count  \\\n",
       "0               14           71      4.142857               8               0   \n",
       "1               11           67      5.181818               0               2   \n",
       "2               27          182      5.777778               8               5   \n",
       "3               11           65      5.000000               4               0   \n",
       "4               12           72      5.083333               3               0   \n",
       "...            ...          ...           ...             ...             ...   \n",
       "13235           25          129      4.200000              11               0   \n",
       "13236           12           62      3.916667               3               0   \n",
       "13237           11           57      4.181818               4               0   \n",
       "13238            2           11      5.000000               0               0   \n",
       "13239           30          228      6.600000               3               9   \n",
       "\n",
       "       mentions_count  numeric_count  upper_counts emails  emails_count  \\\n",
       "0                   1              0             1     []             0   \n",
       "1                   3              0             5     []             0   \n",
       "2                   0              0             5     []             0   \n",
       "3                   1              0             1     []             0   \n",
       "4                   2              0             2     []             0   \n",
       "...               ...            ...           ...    ...           ...   \n",
       "13235               1              0             3     []             0   \n",
       "13236               0              0             0     []             0   \n",
       "13237               1              0             1     []             0   \n",
       "13238               1              0             1     []             0   \n",
       "13239              16              0            17     []             0   \n",
       "\n",
       "       urls_flag  \n",
       "0              0  \n",
       "1              0  \n",
       "2              0  \n",
       "3              0  \n",
       "4              0  \n",
       "...          ...  \n",
       "13235          0  \n",
       "13236          0  \n",
       "13237          0  \n",
       "13238          0  \n",
       "13239          0  \n",
       "\n",
       "[13240 rows x 13 columns]"
      ]
     },
     "execution_count": 172,
     "metadata": {},
     "output_type": "execute_result"
    }
   ],
   "source": [
    "df"
   ]
  },
  {
   "cell_type": "code",
   "execution_count": 173,
   "metadata": {},
   "outputs": [
    {
     "name": "stderr",
     "output_type": "stream",
     "text": [
      "C:\\ProgramData\\Anaconda3\\lib\\site-packages\\ipykernel_launcher.py:4: SettingWithCopyWarning: \n",
      "A value is trying to be set on a copy of a slice from a DataFrame.\n",
      "Try using .loc[row_indexer,col_indexer] = value instead\n",
      "\n",
      "See the caveats in the documentation: https://pandas.pydata.org/pandas-docs/stable/user_guide/indexing.html#returning-a-view-versus-a-copy\n",
      "  after removing the cwd from sys.path.\n",
      "C:\\ProgramData\\Anaconda3\\lib\\site-packages\\ipykernel_launcher.py:5: SettingWithCopyWarning: \n",
      "A value is trying to be set on a copy of a slice from a DataFrame.\n",
      "Try using .loc[row_indexer,col_indexer] = value instead\n",
      "\n",
      "See the caveats in the documentation: https://pandas.pydata.org/pandas-docs/stable/user_guide/indexing.html#returning-a-view-versus-a-copy\n",
      "  \"\"\"\n"
     ]
    },
    {
     "data": {
      "text/html": [
       "<div>\n",
       "<style scoped>\n",
       "    .dataframe tbody tr th:only-of-type {\n",
       "        vertical-align: middle;\n",
       "    }\n",
       "\n",
       "    .dataframe tbody tr th {\n",
       "        vertical-align: top;\n",
       "    }\n",
       "\n",
       "    .dataframe thead th {\n",
       "        text-align: right;\n",
       "    }\n",
       "</style>\n",
       "<table border=\"1\" class=\"dataframe\">\n",
       "  <thead>\n",
       "    <tr style=\"text-align: right;\">\n",
       "      <th></th>\n",
       "      <th>twitts</th>\n",
       "      <th>sentiment</th>\n",
       "      <th>word_counts</th>\n",
       "      <th>char_counts</th>\n",
       "      <th>avg_word_len</th>\n",
       "      <th>stop_words_len</th>\n",
       "      <th>hashtags_count</th>\n",
       "      <th>mentions_count</th>\n",
       "      <th>numeric_count</th>\n",
       "      <th>upper_counts</th>\n",
       "      <th>emails</th>\n",
       "      <th>emails_count</th>\n",
       "      <th>urls_flag</th>\n",
       "      <th>target</th>\n",
       "    </tr>\n",
       "  </thead>\n",
       "  <tbody>\n",
       "    <tr>\n",
       "      <th>2</th>\n",
       "      <td>amazon investigating chinese employees selling...</td>\n",
       "      <td>NOT</td>\n",
       "      <td>27</td>\n",
       "      <td>182</td>\n",
       "      <td>5.777778</td>\n",
       "      <td>8</td>\n",
       "      <td>5</td>\n",
       "      <td>0</td>\n",
       "      <td>0</td>\n",
       "      <td>5</td>\n",
       "      <td>[]</td>\n",
       "      <td>0</td>\n",
       "      <td>0</td>\n",
       "      <td>0</td>\n",
       "    </tr>\n",
       "    <tr>\n",
       "      <th>4</th>\n",
       "      <td>obama wanted illegals red states</td>\n",
       "      <td>NOT</td>\n",
       "      <td>12</td>\n",
       "      <td>72</td>\n",
       "      <td>5.083333</td>\n",
       "      <td>3</td>\n",
       "      <td>0</td>\n",
       "      <td>2</td>\n",
       "      <td>0</td>\n",
       "      <td>2</td>\n",
       "      <td>[]</td>\n",
       "      <td>0</td>\n",
       "      <td>0</td>\n",
       "      <td>0</td>\n",
       "    </tr>\n",
       "    <tr>\n",
       "      <th>8</th>\n",
       "      <td>buy</td>\n",
       "      <td>NOT</td>\n",
       "      <td>4</td>\n",
       "      <td>26</td>\n",
       "      <td>5.750000</td>\n",
       "      <td>1</td>\n",
       "      <td>0</td>\n",
       "      <td>1</td>\n",
       "      <td>0</td>\n",
       "      <td>1</td>\n",
       "      <td>[]</td>\n",
       "      <td>0</td>\n",
       "      <td>0</td>\n",
       "      <td>0</td>\n",
       "    </tr>\n",
       "    <tr>\n",
       "      <th>10</th>\n",
       "      <td>fault support</td>\n",
       "      <td>NOT</td>\n",
       "      <td>11</td>\n",
       "      <td>59</td>\n",
       "      <td>4.454545</td>\n",
       "      <td>3</td>\n",
       "      <td>0</td>\n",
       "      <td>3</td>\n",
       "      <td>0</td>\n",
       "      <td>3</td>\n",
       "      <td>[]</td>\n",
       "      <td>0</td>\n",
       "      <td>0</td>\n",
       "      <td>0</td>\n",
       "    </tr>\n",
       "    <tr>\n",
       "      <th>11</th>\n",
       "      <td>whats difference kavanaugh men admitted gropin...</td>\n",
       "      <td>NOT</td>\n",
       "      <td>40</td>\n",
       "      <td>279</td>\n",
       "      <td>5.825000</td>\n",
       "      <td>13</td>\n",
       "      <td>9</td>\n",
       "      <td>2</td>\n",
       "      <td>1</td>\n",
       "      <td>5</td>\n",
       "      <td>[]</td>\n",
       "      <td>0</td>\n",
       "      <td>0</td>\n",
       "      <td>0</td>\n",
       "    </tr>\n",
       "    <tr>\n",
       "      <th>...</th>\n",
       "      <td>...</td>\n",
       "      <td>...</td>\n",
       "      <td>...</td>\n",
       "      <td>...</td>\n",
       "      <td>...</td>\n",
       "      <td>...</td>\n",
       "      <td>...</td>\n",
       "      <td>...</td>\n",
       "      <td>...</td>\n",
       "      <td>...</td>\n",
       "      <td>...</td>\n",
       "      <td>...</td>\n",
       "      <td>...</td>\n",
       "      <td>...</td>\n",
       "    </tr>\n",
       "    <tr>\n",
       "      <th>13232</th>\n",
       "      <td>light tree</td>\n",
       "      <td>NOT</td>\n",
       "      <td>10</td>\n",
       "      <td>49</td>\n",
       "      <td>4.000000</td>\n",
       "      <td>5</td>\n",
       "      <td>0</td>\n",
       "      <td>1</td>\n",
       "      <td>0</td>\n",
       "      <td>1</td>\n",
       "      <td>[]</td>\n",
       "      <td>0</td>\n",
       "      <td>0</td>\n",
       "      <td>0</td>\n",
       "    </tr>\n",
       "    <tr>\n",
       "      <th>13233</th>\n",
       "      <td>mad tired</td>\n",
       "      <td>NOT</td>\n",
       "      <td>16</td>\n",
       "      <td>68</td>\n",
       "      <td>3.312500</td>\n",
       "      <td>9</td>\n",
       "      <td>0</td>\n",
       "      <td>1</td>\n",
       "      <td>0</td>\n",
       "      <td>2</td>\n",
       "      <td>[]</td>\n",
       "      <td>0</td>\n",
       "      <td>0</td>\n",
       "      <td>0</td>\n",
       "    </tr>\n",
       "    <tr>\n",
       "      <th>13234</th>\n",
       "      <td>retweet complete followed patriots</td>\n",
       "      <td>NOT</td>\n",
       "      <td>52</td>\n",
       "      <td>329</td>\n",
       "      <td>5.346154</td>\n",
       "      <td>1</td>\n",
       "      <td>0</td>\n",
       "      <td>46</td>\n",
       "      <td>0</td>\n",
       "      <td>46</td>\n",
       "      <td>[]</td>\n",
       "      <td>0</td>\n",
       "      <td>0</td>\n",
       "      <td>0</td>\n",
       "    </tr>\n",
       "    <tr>\n",
       "      <th>13236</th>\n",
       "      <td>shabby summer</td>\n",
       "      <td>NOT</td>\n",
       "      <td>12</td>\n",
       "      <td>62</td>\n",
       "      <td>3.916667</td>\n",
       "      <td>3</td>\n",
       "      <td>0</td>\n",
       "      <td>0</td>\n",
       "      <td>0</td>\n",
       "      <td>0</td>\n",
       "      <td>[]</td>\n",
       "      <td>0</td>\n",
       "      <td>0</td>\n",
       "      <td>0</td>\n",
       "    </tr>\n",
       "    <tr>\n",
       "      <th>13239</th>\n",
       "      <td>vs justice humanrights freedomofexpression spa...</td>\n",
       "      <td>NOT</td>\n",
       "      <td>30</td>\n",
       "      <td>228</td>\n",
       "      <td>6.600000</td>\n",
       "      <td>3</td>\n",
       "      <td>9</td>\n",
       "      <td>16</td>\n",
       "      <td>0</td>\n",
       "      <td>17</td>\n",
       "      <td>[]</td>\n",
       "      <td>0</td>\n",
       "      <td>0</td>\n",
       "      <td>0</td>\n",
       "    </tr>\n",
       "  </tbody>\n",
       "</table>\n",
       "<p>8840 rows × 14 columns</p>\n",
       "</div>"
      ],
      "text/plain": [
       "                                                  twitts sentiment  \\\n",
       "2      amazon investigating chinese employees selling...       NOT   \n",
       "4                       obama wanted illegals red states       NOT   \n",
       "8                                                    buy       NOT   \n",
       "10                                         fault support       NOT   \n",
       "11     whats difference kavanaugh men admitted gropin...       NOT   \n",
       "...                                                  ...       ...   \n",
       "13232                                         light tree       NOT   \n",
       "13233                                          mad tired       NOT   \n",
       "13234                 retweet complete followed patriots       NOT   \n",
       "13236                                      shabby summer       NOT   \n",
       "13239  vs justice humanrights freedomofexpression spa...       NOT   \n",
       "\n",
       "       word_counts  char_counts  avg_word_len  stop_words_len  hashtags_count  \\\n",
       "2               27          182      5.777778               8               5   \n",
       "4               12           72      5.083333               3               0   \n",
       "8                4           26      5.750000               1               0   \n",
       "10              11           59      4.454545               3               0   \n",
       "11              40          279      5.825000              13               9   \n",
       "...            ...          ...           ...             ...             ...   \n",
       "13232           10           49      4.000000               5               0   \n",
       "13233           16           68      3.312500               9               0   \n",
       "13234           52          329      5.346154               1               0   \n",
       "13236           12           62      3.916667               3               0   \n",
       "13239           30          228      6.600000               3               9   \n",
       "\n",
       "       mentions_count  numeric_count  upper_counts emails  emails_count  \\\n",
       "2                   0              0             5     []             0   \n",
       "4                   2              0             2     []             0   \n",
       "8                   1              0             1     []             0   \n",
       "10                  3              0             3     []             0   \n",
       "11                  2              1             5     []             0   \n",
       "...               ...            ...           ...    ...           ...   \n",
       "13232               1              0             1     []             0   \n",
       "13233               1              0             2     []             0   \n",
       "13234              46              0            46     []             0   \n",
       "13236               0              0             0     []             0   \n",
       "13239              16              0            17     []             0   \n",
       "\n",
       "       urls_flag  target  \n",
       "2              0       0  \n",
       "4              0       0  \n",
       "8              0       0  \n",
       "10             0       0  \n",
       "11             0       0  \n",
       "...          ...     ...  \n",
       "13232          0       0  \n",
       "13233          0       0  \n",
       "13234          0       0  \n",
       "13236          0       0  \n",
       "13239          0       0  \n",
       "\n",
       "[8840 rows x 14 columns]"
      ]
     },
     "execution_count": 173,
     "metadata": {},
     "output_type": "execute_result"
    }
   ],
   "source": [
    "df_off = df[df['sentiment']=='OFF']\n",
    "df_not = df[df['sentiment']=='NOT']\n",
    "\n",
    "df_not['target']=0\n",
    "df_off['target']=1\n",
    "\n",
    "#df0 = df[df['sentiment']==0].sample(200)\n",
    "#df4 = df[df['sentiment']==1].sample(2000)\n",
    "\n",
    "df_not"
   ]
  },
  {
   "cell_type": "code",
   "execution_count": 174,
   "metadata": {},
   "outputs": [
    {
     "data": {
      "text/html": [
       "<div>\n",
       "<style scoped>\n",
       "    .dataframe tbody tr th:only-of-type {\n",
       "        vertical-align: middle;\n",
       "    }\n",
       "\n",
       "    .dataframe tbody tr th {\n",
       "        vertical-align: top;\n",
       "    }\n",
       "\n",
       "    .dataframe thead th {\n",
       "        text-align: right;\n",
       "    }\n",
       "</style>\n",
       "<table border=\"1\" class=\"dataframe\">\n",
       "  <thead>\n",
       "    <tr style=\"text-align: right;\">\n",
       "      <th></th>\n",
       "      <th>twitts</th>\n",
       "      <th>sentiment</th>\n",
       "      <th>word_counts</th>\n",
       "      <th>char_counts</th>\n",
       "      <th>avg_word_len</th>\n",
       "      <th>stop_words_len</th>\n",
       "      <th>hashtags_count</th>\n",
       "      <th>mentions_count</th>\n",
       "      <th>numeric_count</th>\n",
       "      <th>upper_counts</th>\n",
       "      <th>emails</th>\n",
       "      <th>emails_count</th>\n",
       "      <th>urls_flag</th>\n",
       "      <th>target</th>\n",
       "    </tr>\n",
       "  </thead>\n",
       "  <tbody>\n",
       "    <tr>\n",
       "      <th>0</th>\n",
       "      <td>ask native americans</td>\n",
       "      <td>OFF</td>\n",
       "      <td>14</td>\n",
       "      <td>71</td>\n",
       "      <td>4.142857</td>\n",
       "      <td>8</td>\n",
       "      <td>0</td>\n",
       "      <td>1</td>\n",
       "      <td>0</td>\n",
       "      <td>1</td>\n",
       "      <td>[]</td>\n",
       "      <td>0</td>\n",
       "      <td>0</td>\n",
       "      <td>1</td>\n",
       "    </tr>\n",
       "    <tr>\n",
       "      <th>1</th>\n",
       "      <td>home youre drunk trump2020</td>\n",
       "      <td>OFF</td>\n",
       "      <td>11</td>\n",
       "      <td>67</td>\n",
       "      <td>5.181818</td>\n",
       "      <td>0</td>\n",
       "      <td>2</td>\n",
       "      <td>3</td>\n",
       "      <td>0</td>\n",
       "      <td>5</td>\n",
       "      <td>[]</td>\n",
       "      <td>0</td>\n",
       "      <td>0</td>\n",
       "      <td>1</td>\n",
       "    </tr>\n",
       "    <tr>\n",
       "      <th>3</th>\n",
       "      <td>piece shit</td>\n",
       "      <td>OFF</td>\n",
       "      <td>11</td>\n",
       "      <td>65</td>\n",
       "      <td>5.000000</td>\n",
       "      <td>4</td>\n",
       "      <td>0</td>\n",
       "      <td>1</td>\n",
       "      <td>0</td>\n",
       "      <td>1</td>\n",
       "      <td>[]</td>\n",
       "      <td>0</td>\n",
       "      <td>0</td>\n",
       "      <td>1</td>\n",
       "    </tr>\n",
       "    <tr>\n",
       "      <th>5</th>\n",
       "      <td></td>\n",
       "      <td>OFF</td>\n",
       "      <td>6</td>\n",
       "      <td>33</td>\n",
       "      <td>4.666667</td>\n",
       "      <td>2</td>\n",
       "      <td>0</td>\n",
       "      <td>1</td>\n",
       "      <td>0</td>\n",
       "      <td>1</td>\n",
       "      <td>[]</td>\n",
       "      <td>0</td>\n",
       "      <td>0</td>\n",
       "      <td>1</td>\n",
       "    </tr>\n",
       "    <tr>\n",
       "      <th>6</th>\n",
       "      <td>oh tough shit</td>\n",
       "      <td>OFF</td>\n",
       "      <td>6</td>\n",
       "      <td>32</td>\n",
       "      <td>4.500000</td>\n",
       "      <td>0</td>\n",
       "      <td>0</td>\n",
       "      <td>2</td>\n",
       "      <td>0</td>\n",
       "      <td>2</td>\n",
       "      <td>[]</td>\n",
       "      <td>0</td>\n",
       "      <td>0</td>\n",
       "      <td>1</td>\n",
       "    </tr>\n",
       "    <tr>\n",
       "      <th>...</th>\n",
       "      <td>...</td>\n",
       "      <td>...</td>\n",
       "      <td>...</td>\n",
       "      <td>...</td>\n",
       "      <td>...</td>\n",
       "      <td>...</td>\n",
       "      <td>...</td>\n",
       "      <td>...</td>\n",
       "      <td>...</td>\n",
       "      <td>...</td>\n",
       "      <td>...</td>\n",
       "      <td>...</td>\n",
       "      <td>...</td>\n",
       "      <td>...</td>\n",
       "    </tr>\n",
       "    <tr>\n",
       "      <th>13223</th>\n",
       "      <td>advocating human rights terrorists human kill ...</td>\n",
       "      <td>OFF</td>\n",
       "      <td>48</td>\n",
       "      <td>275</td>\n",
       "      <td>4.750000</td>\n",
       "      <td>19</td>\n",
       "      <td>0</td>\n",
       "      <td>1</td>\n",
       "      <td>0</td>\n",
       "      <td>3</td>\n",
       "      <td>[]</td>\n",
       "      <td>0</td>\n",
       "      <td>0</td>\n",
       "      <td>1</td>\n",
       "    </tr>\n",
       "    <tr>\n",
       "      <th>13227</th>\n",
       "      <td>liars twins vigorously defend</td>\n",
       "      <td>OFF</td>\n",
       "      <td>12</td>\n",
       "      <td>74</td>\n",
       "      <td>5.250000</td>\n",
       "      <td>2</td>\n",
       "      <td>0</td>\n",
       "      <td>4</td>\n",
       "      <td>0</td>\n",
       "      <td>4</td>\n",
       "      <td>[]</td>\n",
       "      <td>0</td>\n",
       "      <td>0</td>\n",
       "      <td>1</td>\n",
       "    </tr>\n",
       "    <tr>\n",
       "      <th>13235</th>\n",
       "      <td>strong vibes mans vibe millions murders - dang...</td>\n",
       "      <td>OFF</td>\n",
       "      <td>25</td>\n",
       "      <td>129</td>\n",
       "      <td>4.200000</td>\n",
       "      <td>11</td>\n",
       "      <td>0</td>\n",
       "      <td>1</td>\n",
       "      <td>0</td>\n",
       "      <td>3</td>\n",
       "      <td>[]</td>\n",
       "      <td>0</td>\n",
       "      <td>0</td>\n",
       "      <td>1</td>\n",
       "    </tr>\n",
       "    <tr>\n",
       "      <th>13237</th>\n",
       "      <td>report garbage crap</td>\n",
       "      <td>OFF</td>\n",
       "      <td>11</td>\n",
       "      <td>57</td>\n",
       "      <td>4.181818</td>\n",
       "      <td>4</td>\n",
       "      <td>0</td>\n",
       "      <td>1</td>\n",
       "      <td>0</td>\n",
       "      <td>1</td>\n",
       "      <td>[]</td>\n",
       "      <td>0</td>\n",
       "      <td>0</td>\n",
       "      <td>1</td>\n",
       "    </tr>\n",
       "    <tr>\n",
       "      <th>13238</th>\n",
       "      <td>pussy</td>\n",
       "      <td>OFF</td>\n",
       "      <td>2</td>\n",
       "      <td>11</td>\n",
       "      <td>5.000000</td>\n",
       "      <td>0</td>\n",
       "      <td>0</td>\n",
       "      <td>1</td>\n",
       "      <td>0</td>\n",
       "      <td>1</td>\n",
       "      <td>[]</td>\n",
       "      <td>0</td>\n",
       "      <td>0</td>\n",
       "      <td>1</td>\n",
       "    </tr>\n",
       "  </tbody>\n",
       "</table>\n",
       "<p>4400 rows × 14 columns</p>\n",
       "</div>"
      ],
      "text/plain": [
       "                                                  twitts sentiment  \\\n",
       "0                                   ask native americans       OFF   \n",
       "1                             home youre drunk trump2020       OFF   \n",
       "3                                             piece shit       OFF   \n",
       "5                                                              OFF   \n",
       "6                                          oh tough shit       OFF   \n",
       "...                                                  ...       ...   \n",
       "13223  advocating human rights terrorists human kill ...       OFF   \n",
       "13227                      liars twins vigorously defend       OFF   \n",
       "13235  strong vibes mans vibe millions murders - dang...       OFF   \n",
       "13237                                report garbage crap       OFF   \n",
       "13238                                              pussy       OFF   \n",
       "\n",
       "       word_counts  char_counts  avg_word_len  stop_words_len  hashtags_count  \\\n",
       "0               14           71      4.142857               8               0   \n",
       "1               11           67      5.181818               0               2   \n",
       "3               11           65      5.000000               4               0   \n",
       "5                6           33      4.666667               2               0   \n",
       "6                6           32      4.500000               0               0   \n",
       "...            ...          ...           ...             ...             ...   \n",
       "13223           48          275      4.750000              19               0   \n",
       "13227           12           74      5.250000               2               0   \n",
       "13235           25          129      4.200000              11               0   \n",
       "13237           11           57      4.181818               4               0   \n",
       "13238            2           11      5.000000               0               0   \n",
       "\n",
       "       mentions_count  numeric_count  upper_counts emails  emails_count  \\\n",
       "0                   1              0             1     []             0   \n",
       "1                   3              0             5     []             0   \n",
       "3                   1              0             1     []             0   \n",
       "5                   1              0             1     []             0   \n",
       "6                   2              0             2     []             0   \n",
       "...               ...            ...           ...    ...           ...   \n",
       "13223               1              0             3     []             0   \n",
       "13227               4              0             4     []             0   \n",
       "13235               1              0             3     []             0   \n",
       "13237               1              0             1     []             0   \n",
       "13238               1              0             1     []             0   \n",
       "\n",
       "       urls_flag  target  \n",
       "0              0       1  \n",
       "1              0       1  \n",
       "3              0       1  \n",
       "5              0       1  \n",
       "6              0       1  \n",
       "...          ...     ...  \n",
       "13223          0       1  \n",
       "13227          0       1  \n",
       "13235          0       1  \n",
       "13237          0       1  \n",
       "13238          0       1  \n",
       "\n",
       "[4400 rows x 14 columns]"
      ]
     },
     "execution_count": 174,
     "metadata": {},
     "output_type": "execute_result"
    }
   ],
   "source": [
    "df_off"
   ]
  },
  {
   "cell_type": "code",
   "execution_count": 175,
   "metadata": {},
   "outputs": [],
   "source": [
    "dfr = df_not.append(df_off)"
   ]
  },
  {
   "cell_type": "code",
   "execution_count": 176,
   "metadata": {},
   "outputs": [
    {
     "data": {
      "text/plain": [
       "(13240, 14)"
      ]
     },
     "execution_count": 176,
     "metadata": {},
     "output_type": "execute_result"
    }
   ],
   "source": [
    "dfr.shape"
   ]
  },
  {
   "cell_type": "code",
   "execution_count": 177,
   "metadata": {},
   "outputs": [],
   "source": [
    "dfr_feat = dfr.drop(labels=['twitts', 'sentiment','emails'], axis=1).reset_index(drop=True)"
   ]
  },
  {
   "cell_type": "code",
   "execution_count": 178,
   "metadata": {},
   "outputs": [
    {
     "data": {
      "text/plain": [
       "0        0\n",
       "1        0\n",
       "2        0\n",
       "3        0\n",
       "4        0\n",
       "        ..\n",
       "13235    1\n",
       "13236    1\n",
       "13237    1\n",
       "13238    1\n",
       "13239    1\n",
       "Name: target, Length: 13240, dtype: int64"
      ]
     },
     "execution_count": 178,
     "metadata": {},
     "output_type": "execute_result"
    }
   ],
   "source": [
    "dfr_feat['target']"
   ]
  },
  {
   "cell_type": "code",
   "execution_count": 179,
   "metadata": {},
   "outputs": [],
   "source": [
    "y = dfr['target']"
   ]
  },
  {
   "cell_type": "code",
   "execution_count": 180,
   "metadata": {},
   "outputs": [
    {
     "data": {
      "text/plain": [
       "2        0\n",
       "4        0\n",
       "8        0\n",
       "10       0\n",
       "11       0\n",
       "        ..\n",
       "13223    1\n",
       "13227    1\n",
       "13235    1\n",
       "13237    1\n",
       "13238    1\n",
       "Name: target, Length: 13240, dtype: int64"
      ]
     },
     "execution_count": 180,
     "metadata": {},
     "output_type": "execute_result"
    }
   ],
   "source": [
    "y"
   ]
  },
  {
   "cell_type": "code",
   "execution_count": 181,
   "metadata": {},
   "outputs": [],
   "source": [
    "from sklearn.feature_extraction.text import CountVectorizer"
   ]
  },
  {
   "cell_type": "code",
   "execution_count": 182,
   "metadata": {},
   "outputs": [],
   "source": [
    "cv = CountVectorizer()\n",
    "text_counts = cv.fit_transform(dfr['twitts'])"
   ]
  },
  {
   "cell_type": "code",
   "execution_count": 183,
   "metadata": {},
   "outputs": [
    {
     "data": {
      "text/plain": [
       "(13240, 8654)"
      ]
     },
     "execution_count": 183,
     "metadata": {},
     "output_type": "execute_result"
    }
   ],
   "source": [
    "text_counts\n",
    "text_counts.toarray().shape\n",
    "#mais de 8 mil colunas, apos a vetorização"
   ]
  },
  {
   "cell_type": "code",
   "execution_count": 184,
   "metadata": {},
   "outputs": [],
   "source": [
    "dfr_bow = pd.DataFrame(text_counts.toarray(),columns=cv.get_feature_names())"
   ]
  },
  {
   "cell_type": "code",
   "execution_count": 185,
   "metadata": {},
   "outputs": [
    {
     "data": {
      "text/html": [
       "<div>\n",
       "<style scoped>\n",
       "    .dataframe tbody tr th:only-of-type {\n",
       "        vertical-align: middle;\n",
       "    }\n",
       "\n",
       "    .dataframe tbody tr th {\n",
       "        vertical-align: top;\n",
       "    }\n",
       "\n",
       "    .dataframe thead th {\n",
       "        text-align: right;\n",
       "    }\n",
       "</style>\n",
       "<table border=\"1\" class=\"dataframe\">\n",
       "  <thead>\n",
       "    <tr style=\"text-align: right;\">\n",
       "      <th></th>\n",
       "      <th>005</th>\n",
       "      <th>08</th>\n",
       "      <th>09</th>\n",
       "      <th>090818</th>\n",
       "      <th>10</th>\n",
       "      <th>100</th>\n",
       "      <th>1000</th>\n",
       "      <th>100s</th>\n",
       "      <th>101</th>\n",
       "      <th>10th</th>\n",
       "      <th>...</th>\n",
       "      <th>zealand</th>\n",
       "      <th>zealots</th>\n",
       "      <th>zero</th>\n",
       "      <th>zim</th>\n",
       "      <th>zimmerman</th>\n",
       "      <th>zionists</th>\n",
       "      <th>zombie</th>\n",
       "      <th>zone</th>\n",
       "      <th>zones</th>\n",
       "      <th>zuckerberg</th>\n",
       "    </tr>\n",
       "  </thead>\n",
       "  <tbody>\n",
       "    <tr>\n",
       "      <th>0</th>\n",
       "      <td>0</td>\n",
       "      <td>0</td>\n",
       "      <td>0</td>\n",
       "      <td>0</td>\n",
       "      <td>0</td>\n",
       "      <td>0</td>\n",
       "      <td>0</td>\n",
       "      <td>0</td>\n",
       "      <td>0</td>\n",
       "      <td>0</td>\n",
       "      <td>...</td>\n",
       "      <td>0</td>\n",
       "      <td>0</td>\n",
       "      <td>0</td>\n",
       "      <td>0</td>\n",
       "      <td>0</td>\n",
       "      <td>0</td>\n",
       "      <td>0</td>\n",
       "      <td>0</td>\n",
       "      <td>0</td>\n",
       "      <td>0</td>\n",
       "    </tr>\n",
       "    <tr>\n",
       "      <th>1</th>\n",
       "      <td>0</td>\n",
       "      <td>0</td>\n",
       "      <td>0</td>\n",
       "      <td>0</td>\n",
       "      <td>0</td>\n",
       "      <td>0</td>\n",
       "      <td>0</td>\n",
       "      <td>0</td>\n",
       "      <td>0</td>\n",
       "      <td>0</td>\n",
       "      <td>...</td>\n",
       "      <td>0</td>\n",
       "      <td>0</td>\n",
       "      <td>0</td>\n",
       "      <td>0</td>\n",
       "      <td>0</td>\n",
       "      <td>0</td>\n",
       "      <td>0</td>\n",
       "      <td>0</td>\n",
       "      <td>0</td>\n",
       "      <td>0</td>\n",
       "    </tr>\n",
       "    <tr>\n",
       "      <th>2</th>\n",
       "      <td>0</td>\n",
       "      <td>0</td>\n",
       "      <td>0</td>\n",
       "      <td>0</td>\n",
       "      <td>0</td>\n",
       "      <td>0</td>\n",
       "      <td>0</td>\n",
       "      <td>0</td>\n",
       "      <td>0</td>\n",
       "      <td>0</td>\n",
       "      <td>...</td>\n",
       "      <td>0</td>\n",
       "      <td>0</td>\n",
       "      <td>0</td>\n",
       "      <td>0</td>\n",
       "      <td>0</td>\n",
       "      <td>0</td>\n",
       "      <td>0</td>\n",
       "      <td>0</td>\n",
       "      <td>0</td>\n",
       "      <td>0</td>\n",
       "    </tr>\n",
       "    <tr>\n",
       "      <th>3</th>\n",
       "      <td>0</td>\n",
       "      <td>0</td>\n",
       "      <td>0</td>\n",
       "      <td>0</td>\n",
       "      <td>0</td>\n",
       "      <td>0</td>\n",
       "      <td>0</td>\n",
       "      <td>0</td>\n",
       "      <td>0</td>\n",
       "      <td>0</td>\n",
       "      <td>...</td>\n",
       "      <td>0</td>\n",
       "      <td>0</td>\n",
       "      <td>0</td>\n",
       "      <td>0</td>\n",
       "      <td>0</td>\n",
       "      <td>0</td>\n",
       "      <td>0</td>\n",
       "      <td>0</td>\n",
       "      <td>0</td>\n",
       "      <td>0</td>\n",
       "    </tr>\n",
       "    <tr>\n",
       "      <th>4</th>\n",
       "      <td>0</td>\n",
       "      <td>0</td>\n",
       "      <td>0</td>\n",
       "      <td>0</td>\n",
       "      <td>0</td>\n",
       "      <td>0</td>\n",
       "      <td>0</td>\n",
       "      <td>0</td>\n",
       "      <td>0</td>\n",
       "      <td>0</td>\n",
       "      <td>...</td>\n",
       "      <td>0</td>\n",
       "      <td>0</td>\n",
       "      <td>0</td>\n",
       "      <td>0</td>\n",
       "      <td>0</td>\n",
       "      <td>0</td>\n",
       "      <td>0</td>\n",
       "      <td>0</td>\n",
       "      <td>0</td>\n",
       "      <td>0</td>\n",
       "    </tr>\n",
       "    <tr>\n",
       "      <th>...</th>\n",
       "      <td>...</td>\n",
       "      <td>...</td>\n",
       "      <td>...</td>\n",
       "      <td>...</td>\n",
       "      <td>...</td>\n",
       "      <td>...</td>\n",
       "      <td>...</td>\n",
       "      <td>...</td>\n",
       "      <td>...</td>\n",
       "      <td>...</td>\n",
       "      <td>...</td>\n",
       "      <td>...</td>\n",
       "      <td>...</td>\n",
       "      <td>...</td>\n",
       "      <td>...</td>\n",
       "      <td>...</td>\n",
       "      <td>...</td>\n",
       "      <td>...</td>\n",
       "      <td>...</td>\n",
       "      <td>...</td>\n",
       "      <td>...</td>\n",
       "    </tr>\n",
       "    <tr>\n",
       "      <th>13235</th>\n",
       "      <td>0</td>\n",
       "      <td>0</td>\n",
       "      <td>0</td>\n",
       "      <td>0</td>\n",
       "      <td>0</td>\n",
       "      <td>0</td>\n",
       "      <td>0</td>\n",
       "      <td>0</td>\n",
       "      <td>0</td>\n",
       "      <td>0</td>\n",
       "      <td>...</td>\n",
       "      <td>0</td>\n",
       "      <td>0</td>\n",
       "      <td>0</td>\n",
       "      <td>0</td>\n",
       "      <td>0</td>\n",
       "      <td>0</td>\n",
       "      <td>0</td>\n",
       "      <td>0</td>\n",
       "      <td>0</td>\n",
       "      <td>0</td>\n",
       "    </tr>\n",
       "    <tr>\n",
       "      <th>13236</th>\n",
       "      <td>0</td>\n",
       "      <td>0</td>\n",
       "      <td>0</td>\n",
       "      <td>0</td>\n",
       "      <td>0</td>\n",
       "      <td>0</td>\n",
       "      <td>0</td>\n",
       "      <td>0</td>\n",
       "      <td>0</td>\n",
       "      <td>0</td>\n",
       "      <td>...</td>\n",
       "      <td>0</td>\n",
       "      <td>0</td>\n",
       "      <td>0</td>\n",
       "      <td>0</td>\n",
       "      <td>0</td>\n",
       "      <td>0</td>\n",
       "      <td>0</td>\n",
       "      <td>0</td>\n",
       "      <td>0</td>\n",
       "      <td>0</td>\n",
       "    </tr>\n",
       "    <tr>\n",
       "      <th>13237</th>\n",
       "      <td>0</td>\n",
       "      <td>0</td>\n",
       "      <td>0</td>\n",
       "      <td>0</td>\n",
       "      <td>0</td>\n",
       "      <td>0</td>\n",
       "      <td>0</td>\n",
       "      <td>0</td>\n",
       "      <td>0</td>\n",
       "      <td>0</td>\n",
       "      <td>...</td>\n",
       "      <td>0</td>\n",
       "      <td>0</td>\n",
       "      <td>0</td>\n",
       "      <td>0</td>\n",
       "      <td>0</td>\n",
       "      <td>0</td>\n",
       "      <td>0</td>\n",
       "      <td>0</td>\n",
       "      <td>0</td>\n",
       "      <td>0</td>\n",
       "    </tr>\n",
       "    <tr>\n",
       "      <th>13238</th>\n",
       "      <td>0</td>\n",
       "      <td>0</td>\n",
       "      <td>0</td>\n",
       "      <td>0</td>\n",
       "      <td>0</td>\n",
       "      <td>0</td>\n",
       "      <td>0</td>\n",
       "      <td>0</td>\n",
       "      <td>0</td>\n",
       "      <td>0</td>\n",
       "      <td>...</td>\n",
       "      <td>0</td>\n",
       "      <td>0</td>\n",
       "      <td>0</td>\n",
       "      <td>0</td>\n",
       "      <td>0</td>\n",
       "      <td>0</td>\n",
       "      <td>0</td>\n",
       "      <td>0</td>\n",
       "      <td>0</td>\n",
       "      <td>0</td>\n",
       "    </tr>\n",
       "    <tr>\n",
       "      <th>13239</th>\n",
       "      <td>0</td>\n",
       "      <td>0</td>\n",
       "      <td>0</td>\n",
       "      <td>0</td>\n",
       "      <td>0</td>\n",
       "      <td>0</td>\n",
       "      <td>0</td>\n",
       "      <td>0</td>\n",
       "      <td>0</td>\n",
       "      <td>0</td>\n",
       "      <td>...</td>\n",
       "      <td>0</td>\n",
       "      <td>0</td>\n",
       "      <td>0</td>\n",
       "      <td>0</td>\n",
       "      <td>0</td>\n",
       "      <td>0</td>\n",
       "      <td>0</td>\n",
       "      <td>0</td>\n",
       "      <td>0</td>\n",
       "      <td>0</td>\n",
       "    </tr>\n",
       "  </tbody>\n",
       "</table>\n",
       "<p>13240 rows × 8654 columns</p>\n",
       "</div>"
      ],
      "text/plain": [
       "       005  08  09  090818  10  100  1000  100s  101  10th  ...  zealand  \\\n",
       "0        0   0   0       0   0    0     0     0    0     0  ...        0   \n",
       "1        0   0   0       0   0    0     0     0    0     0  ...        0   \n",
       "2        0   0   0       0   0    0     0     0    0     0  ...        0   \n",
       "3        0   0   0       0   0    0     0     0    0     0  ...        0   \n",
       "4        0   0   0       0   0    0     0     0    0     0  ...        0   \n",
       "...    ...  ..  ..     ...  ..  ...   ...   ...  ...   ...  ...      ...   \n",
       "13235    0   0   0       0   0    0     0     0    0     0  ...        0   \n",
       "13236    0   0   0       0   0    0     0     0    0     0  ...        0   \n",
       "13237    0   0   0       0   0    0     0     0    0     0  ...        0   \n",
       "13238    0   0   0       0   0    0     0     0    0     0  ...        0   \n",
       "13239    0   0   0       0   0    0     0     0    0     0  ...        0   \n",
       "\n",
       "       zealots  zero  zim  zimmerman  zionists  zombie  zone  zones  \\\n",
       "0            0     0    0          0         0       0     0      0   \n",
       "1            0     0    0          0         0       0     0      0   \n",
       "2            0     0    0          0         0       0     0      0   \n",
       "3            0     0    0          0         0       0     0      0   \n",
       "4            0     0    0          0         0       0     0      0   \n",
       "...        ...   ...  ...        ...       ...     ...   ...    ...   \n",
       "13235        0     0    0          0         0       0     0      0   \n",
       "13236        0     0    0          0         0       0     0      0   \n",
       "13237        0     0    0          0         0       0     0      0   \n",
       "13238        0     0    0          0         0       0     0      0   \n",
       "13239        0     0    0          0         0       0     0      0   \n",
       "\n",
       "       zuckerberg  \n",
       "0               0  \n",
       "1               0  \n",
       "2               0  \n",
       "3               0  \n",
       "4               0  \n",
       "...           ...  \n",
       "13235           0  \n",
       "13236           0  \n",
       "13237           0  \n",
       "13238           0  \n",
       "13239           0  \n",
       "\n",
       "[13240 rows x 8654 columns]"
      ]
     },
     "execution_count": 185,
     "metadata": {},
     "output_type": "execute_result"
    }
   ],
   "source": [
    "dfr_bow"
   ]
  },
  {
   "cell_type": "markdown",
   "metadata": {},
   "source": [
    "###  Algoritimos de Machine Learning"
   ]
  },
  {
   "cell_type": "code",
   "execution_count": 186,
   "metadata": {},
   "outputs": [],
   "source": [
    "from sklearn.linear_model import SGDClassifier\n",
    "from sklearn.linear_model import LogisticRegression\n",
    "from sklearn.linear_model import LogisticRegressionCV\n",
    "from sklearn.svm import LinearSVC\n",
    "from sklearn.ensemble import RandomForestClassifier\n",
    "from sklearn.model_selection import train_test_split\n",
    "from sklearn.metrics import confusion_matrix, accuracy_score\n",
    "from sklearn.preprocessing import MinMaxScaler\n",
    "from sklearn.tree import DecisionTreeClassifier\n",
    "from sklearn.neighbors import KNeighborsClassifier\n",
    "from sklearn.gaussian_process import GaussianProcessClassifier\n",
    "from sklearn.gaussian_process.kernels import RBF\n",
    "from sklearn.tree import DecisionTreeClassifier\n",
    "from sklearn.ensemble import RandomForestClassifier, AdaBoostClassifier\n",
    "from sklearn.naive_bayes import GaussianNB\n",
    "from sklearn.discriminant_analysis import QuadraticDiscriminantAnalysis\n",
    "from sklearn.neural_network import MLPClassifier\n",
    "from sklearn.svm import SVC\n",
    "from sklearn.datasets import make_moons, make_circles, make_classification\n",
    "from sklearn.preprocessing import StandardScaler\n",
    "from matplotlib.colors import ListedColormap"
   ]
  },
  {
   "cell_type": "code",
   "execution_count": 187,
   "metadata": {},
   "outputs": [],
   "source": [
    "sgd = SGDClassifier(n_jobs=-1, random_state=42, max_iter=200)\n",
    "lgr = LogisticRegression(random_state=42, max_iter=200)\n",
    "lgrcv = LogisticRegressionCV(cv = 2, random_state=42, max_iter=1000)\n",
    "svm = LinearSVC(random_state=42, max_iter=200)\n",
    "rfc = RandomForestClassifier(random_state=42, n_jobs=-1, n_estimators=200)\n",
    "dtc = DecisionTreeClassifier(max_depth=5)\n",
    "knn = KNeighborsClassifier(3)\n",
    "gpc = GaussianProcessClassifier(1.0 * RBF(1.0))\n",
    "mlp = MLPClassifier(alpha=1, max_iter=1000)\n",
    "ada = AdaBoostClassifier()\n",
    "gau = GaussianNB()\n",
    "qda = QuadraticDiscriminantAnalysis()"
   ]
  },
  {
   "cell_type": "code",
   "execution_count": 188,
   "metadata": {},
   "outputs": [],
   "source": [
    "clf = {'SGDClassifier':sgd,\n",
    "       'LogisticRegression':lgr,\n",
    "       'LogisticRegressionCV':lgrcv,\n",
    "       'LinearSVC': svm,\n",
    "       'RandomForestClassifier':rfc,\n",
    "       'DecisionTreeClassifier': dtc,\n",
    "       'KNeighborsClassifier':knn,\n",
    "       'GaussianProcessClassifier':gpc,\n",
    "       'MLPClassifier':mlp,\n",
    "       'AdaBoostClassifier':ada,\n",
    "       'GaussianNB':gau,\n",
    "       'QuadraticDiscriminantAnalysis':qda\n",
    "      }"
   ]
  },
  {
   "cell_type": "code",
   "execution_count": 189,
   "metadata": {},
   "outputs": [
    {
     "data": {
      "text/plain": [
       "dict_keys(['SGDClassifier', 'LogisticRegression', 'LogisticRegressionCV', 'LinearSVC', 'RandomForestClassifier', 'DecisionTreeClassifier', 'KNeighborsClassifier', 'GaussianProcessClassifier', 'MLPClassifier', 'AdaBoostClassifier', 'GaussianNB', 'QuadraticDiscriminantAnalysis'])"
      ]
     },
     "execution_count": 189,
     "metadata": {},
     "output_type": "execute_result"
    }
   ],
   "source": [
    "clf.keys()"
   ]
  },
  {
   "cell_type": "code",
   "execution_count": 190,
   "metadata": {},
   "outputs": [],
   "source": [
    "def classify(X,y):\n",
    "    scaler = MinMaxScaler(feature_range=(0,1))\n",
    "    X = scaler.fit_transform(X)\n",
    "    X_train, x_test, y_train, y_test = train_test_split(X,y,test_size=0.2, random_state=42, stratify =y)\n",
    "    for key in clf.keys():\n",
    "        clf[key].fit(X_train, y_train)\n",
    "        y_pred = clf[key].predict(x_test)\n",
    "        ac = accuracy_score(y_test, y_pred)\n",
    "        print(key,'---->',ac)"
   ]
  },
  {
   "cell_type": "code",
   "execution_count": 191,
   "metadata": {},
   "outputs": [
    {
     "name": "stdout",
     "output_type": "stream",
     "text": [
      "SGDClassifier ----> 0.7488670694864048\n",
      "LogisticRegression ----> 0.7598187311178247\n",
      "LogisticRegressionCV ----> 0.7533987915407855\n"
     ]
    },
    {
     "name": "stderr",
     "output_type": "stream",
     "text": [
      "C:\\ProgramData\\Anaconda3\\lib\\site-packages\\sklearn\\svm\\_base.py:977: ConvergenceWarning: Liblinear failed to converge, increase the number of iterations.\n",
      "  \"the number of iterations.\", ConvergenceWarning)\n"
     ]
    },
    {
     "name": "stdout",
     "output_type": "stream",
     "text": [
      "LinearSVC ----> 0.7341389728096677\n",
      "RandomForestClassifier ----> 0.7620845921450151\n",
      "DecisionTreeClassifier ----> 0.7137462235649547\n",
      "KNeighborsClassifier ----> 0.7050604229607251\n",
      "GaussianProcessClassifier ----> 0.7613293051359517\n",
      "MLPClassifier ----> 0.7488670694864048\n",
      "AdaBoostClassifier ----> 0.7711480362537765\n",
      "GaussianNB ----> 0.4811178247734139\n"
     ]
    },
    {
     "name": "stderr",
     "output_type": "stream",
     "text": [
      "C:\\ProgramData\\Anaconda3\\lib\\site-packages\\sklearn\\discriminant_analysis.py:715: UserWarning: Variables are collinear\n",
      "  warnings.warn(\"Variables are collinear\")\n"
     ]
    },
    {
     "name": "stdout",
     "output_type": "stream",
     "text": [
      "QuadraticDiscriminantAnalysis ----> 0.4316465256797583\n",
      "Wall time: 3h 22min 44s\n"
     ]
    }
   ],
   "source": [
    "%%time\n",
    "classify(dfr_bow,y)"
   ]
  },
  {
   "cell_type": "markdown",
   "metadata": {},
   "source": [
    "#### Features Manuais"
   ]
  },
  {
   "cell_type": "code",
   "execution_count": 192,
   "metadata": {},
   "outputs": [
    {
     "data": {
      "text/html": [
       "<div>\n",
       "<style scoped>\n",
       "    .dataframe tbody tr th:only-of-type {\n",
       "        vertical-align: middle;\n",
       "    }\n",
       "\n",
       "    .dataframe tbody tr th {\n",
       "        vertical-align: top;\n",
       "    }\n",
       "\n",
       "    .dataframe thead th {\n",
       "        text-align: right;\n",
       "    }\n",
       "</style>\n",
       "<table border=\"1\" class=\"dataframe\">\n",
       "  <thead>\n",
       "    <tr style=\"text-align: right;\">\n",
       "      <th></th>\n",
       "      <th>word_counts</th>\n",
       "      <th>char_counts</th>\n",
       "      <th>avg_word_len</th>\n",
       "      <th>stop_words_len</th>\n",
       "      <th>hashtags_count</th>\n",
       "      <th>mentions_count</th>\n",
       "      <th>numeric_count</th>\n",
       "      <th>upper_counts</th>\n",
       "      <th>emails_count</th>\n",
       "      <th>urls_flag</th>\n",
       "      <th>target</th>\n",
       "    </tr>\n",
       "  </thead>\n",
       "  <tbody>\n",
       "    <tr>\n",
       "      <th>0</th>\n",
       "      <td>27</td>\n",
       "      <td>182</td>\n",
       "      <td>5.777778</td>\n",
       "      <td>8</td>\n",
       "      <td>5</td>\n",
       "      <td>0</td>\n",
       "      <td>0</td>\n",
       "      <td>5</td>\n",
       "      <td>0</td>\n",
       "      <td>0</td>\n",
       "      <td>0</td>\n",
       "    </tr>\n",
       "    <tr>\n",
       "      <th>1</th>\n",
       "      <td>12</td>\n",
       "      <td>72</td>\n",
       "      <td>5.083333</td>\n",
       "      <td>3</td>\n",
       "      <td>0</td>\n",
       "      <td>2</td>\n",
       "      <td>0</td>\n",
       "      <td>2</td>\n",
       "      <td>0</td>\n",
       "      <td>0</td>\n",
       "      <td>0</td>\n",
       "    </tr>\n",
       "  </tbody>\n",
       "</table>\n",
       "</div>"
      ],
      "text/plain": [
       "   word_counts  char_counts  avg_word_len  stop_words_len  hashtags_count  \\\n",
       "0           27          182      5.777778               8               5   \n",
       "1           12           72      5.083333               3               0   \n",
       "\n",
       "   mentions_count  numeric_count  upper_counts  emails_count  urls_flag  \\\n",
       "0               0              0             5             0          0   \n",
       "1               2              0             2             0          0   \n",
       "\n",
       "   target  \n",
       "0       0  \n",
       "1       0  "
      ]
     },
     "execution_count": 192,
     "metadata": {},
     "output_type": "execute_result"
    }
   ],
   "source": [
    "dfr_feat.head(2)"
   ]
  },
  {
   "cell_type": "code",
   "execution_count": 193,
   "metadata": {},
   "outputs": [
    {
     "name": "stdout",
     "output_type": "stream",
     "text": [
      "SGDClassifier ----> 1.0\n",
      "LogisticRegression ----> 1.0\n",
      "LogisticRegressionCV ----> 1.0\n",
      "LinearSVC ----> 1.0\n",
      "RandomForestClassifier ----> 1.0\n",
      "DecisionTreeClassifier ----> 1.0\n",
      "KNeighborsClassifier ----> 1.0\n",
      "GaussianProcessClassifier ----> 1.0\n",
      "MLPClassifier ----> 1.0\n",
      "AdaBoostClassifier ----> 1.0\n",
      "GaussianNB ----> 1.0\n"
     ]
    },
    {
     "name": "stderr",
     "output_type": "stream",
     "text": [
      "C:\\ProgramData\\Anaconda3\\lib\\site-packages\\sklearn\\discriminant_analysis.py:715: UserWarning: Variables are collinear\n",
      "  warnings.warn(\"Variables are collinear\")\n"
     ]
    },
    {
     "name": "stdout",
     "output_type": "stream",
     "text": [
      "QuadraticDiscriminantAnalysis ----> 0.6676737160120846\n",
      "Wall time: 1h 20min 1s\n"
     ]
    },
    {
     "name": "stderr",
     "output_type": "stream",
     "text": [
      "C:\\ProgramData\\Anaconda3\\lib\\site-packages\\sklearn\\discriminant_analysis.py:740: RuntimeWarning: divide by zero encountered in power\n",
      "  X2 = np.dot(Xm, R * (S ** (-0.5)))\n",
      "C:\\ProgramData\\Anaconda3\\lib\\site-packages\\sklearn\\discriminant_analysis.py:740: RuntimeWarning: invalid value encountered in multiply\n",
      "  X2 = np.dot(Xm, R * (S ** (-0.5)))\n",
      "C:\\ProgramData\\Anaconda3\\lib\\site-packages\\sklearn\\discriminant_analysis.py:743: RuntimeWarning: divide by zero encountered in log\n",
      "  u = np.asarray([np.sum(np.log(s)) for s in self.scalings_])\n"
     ]
    }
   ],
   "source": [
    "%%time\n",
    "classify(dfr_feat,y)"
   ]
  },
  {
   "cell_type": "markdown",
   "metadata": {},
   "source": [
    "#### Manual + Bow"
   ]
  },
  {
   "cell_type": "code",
   "execution_count": 194,
   "metadata": {},
   "outputs": [],
   "source": [
    "#X  = dfr_feat.join (dfr_bow)\n",
    "X  = dfr_feat.join (dfr_bow, lsuffix = 'abbv') "
   ]
  },
  {
   "cell_type": "code",
   "execution_count": 195,
   "metadata": {},
   "outputs": [
    {
     "name": "stdout",
     "output_type": "stream",
     "text": [
      "SGDClassifier ----> 1.0\n",
      "LogisticRegression ----> 1.0\n",
      "LogisticRegressionCV ----> 1.0\n",
      "LinearSVC ----> 1.0\n",
      "RandomForestClassifier ----> 1.0\n",
      "DecisionTreeClassifier ----> 1.0\n",
      "KNeighborsClassifier ----> 0.9954682779456193\n",
      "GaussianProcessClassifier ----> 1.0\n",
      "MLPClassifier ----> 1.0\n",
      "AdaBoostClassifier ----> 1.0\n",
      "GaussianNB ----> 0.9165407854984894\n"
     ]
    },
    {
     "name": "stderr",
     "output_type": "stream",
     "text": [
      "C:\\ProgramData\\Anaconda3\\lib\\site-packages\\sklearn\\discriminant_analysis.py:715: UserWarning: Variables are collinear\n",
      "  warnings.warn(\"Variables are collinear\")\n"
     ]
    },
    {
     "name": "stdout",
     "output_type": "stream",
     "text": [
      "QuadraticDiscriminantAnalysis ----> 0.9901812688821753\n",
      "Wall time: 5h 5min 4s\n"
     ]
    }
   ],
   "source": [
    "%%time\n",
    "classify(X,y)"
   ]
  },
  {
   "cell_type": "markdown",
   "metadata": {},
   "source": [
    "#### TFIDF"
   ]
  },
  {
   "cell_type": "code",
   "execution_count": 196,
   "metadata": {},
   "outputs": [],
   "source": [
    "from sklearn.feature_extraction.text import TfidfVectorizer"
   ]
  },
  {
   "cell_type": "code",
   "execution_count": 197,
   "metadata": {},
   "outputs": [
    {
     "data": {
      "text/plain": [
       "(13240, 14)"
      ]
     },
     "execution_count": 197,
     "metadata": {},
     "output_type": "execute_result"
    }
   ],
   "source": [
    "dfr.shape"
   ]
  },
  {
   "cell_type": "code",
   "execution_count": 198,
   "metadata": {},
   "outputs": [],
   "source": [
    "tfidf = TfidfVectorizer()\n",
    "X = tfidf.fit_transform(dfr['twitts'])"
   ]
  },
  {
   "cell_type": "code",
   "execution_count": null,
   "metadata": {},
   "outputs": [
    {
     "name": "stdout",
     "output_type": "stream",
     "text": [
      "SGDClassifier ----> 0.7462235649546828\n",
      "LogisticRegression ----> 0.7537764350453172\n",
      "LogisticRegressionCV ----> 0.7424471299093656\n",
      "LinearSVC ----> 0.720166163141994\n",
      "RandomForestClassifier ----> 0.773036253776435\n",
      "DecisionTreeClassifier ----> 0.7129909365558912\n",
      "KNeighborsClassifier ----> 0.677870090634441\n"
     ]
    }
   ],
   "source": [
    "%%time\n",
    "classify(pd.DataFrame(X.toarray()),y)"
   ]
  },
  {
   "cell_type": "markdown",
   "metadata": {},
   "source": [
    "### Word2Vec"
   ]
  },
  {
   "cell_type": "code",
   "execution_count": null,
   "metadata": {},
   "outputs": [],
   "source": [
    "def get_vec(x):\n",
    "    doc = nlp(x)\n",
    "    return doc.vector.reshape(1,-1)"
   ]
  },
  {
   "cell_type": "code",
   "execution_count": null,
   "metadata": {},
   "outputs": [],
   "source": [
    "%%time\n",
    "dfr['vec'] = dfr['twitts'].apply(lambda x:get_vec(x))"
   ]
  },
  {
   "cell_type": "code",
   "execution_count": null,
   "metadata": {},
   "outputs": [],
   "source": [
    "X = np.concatenate(dfr['vec'].to_numpy(), axis=0)"
   ]
  },
  {
   "cell_type": "code",
   "execution_count": null,
   "metadata": {},
   "outputs": [],
   "source": [
    "X.shape"
   ]
  },
  {
   "cell_type": "code",
   "execution_count": null,
   "metadata": {},
   "outputs": [],
   "source": [
    "%%time\n",
    "classify(pd.DataFrame(X),y)"
   ]
  },
  {
   "cell_type": "code",
   "execution_count": null,
   "metadata": {},
   "outputs": [],
   "source": [
    "def predict_w2v(x):\n",
    "    for key in clf.keys():\n",
    "        y_pred = clf[key].predict(get_vec(x))\n",
    "        print(key,\"--->\", y_pred)"
   ]
  },
  {
   "cell_type": "code",
   "execution_count": null,
   "metadata": {},
   "outputs": [],
   "source": [
    "predict_w2v('hi thanks for watching this video. please like')"
   ]
  },
  {
   "cell_type": "code",
   "execution_count": null,
   "metadata": {},
   "outputs": [],
   "source": [
    "predict_w2v('please let me know if you wan more video')"
   ]
  },
  {
   "cell_type": "code",
   "execution_count": null,
   "metadata": {},
   "outputs": [],
   "source": [
    "predict_w2v('we stand together, we will win together')"
   ]
  },
  {
   "cell_type": "code",
   "execution_count": null,
   "metadata": {},
   "outputs": [],
   "source": [
    "predict_w2v('congratulation, i am looking good, congrats')"
   ]
  },
  {
   "cell_type": "code",
   "execution_count": null,
   "metadata": {},
   "outputs": [],
   "source": []
  },
  {
   "cell_type": "code",
   "execution_count": null,
   "metadata": {},
   "outputs": [],
   "source": [
    "#Avaliando o Dataset A\n",
    "#%%time\n",
    "df_taska = pd.read_csv('testset-levela.tsv', sep='\\t')\n",
    "df_taska['resultado']= df_taska['tweet'].apply(lambda x:predict_w2v(x))\n"
   ]
  },
  {
   "cell_type": "code",
   "execution_count": null,
   "metadata": {},
   "outputs": [],
   "source": [
    "#Avaliando o Dataset B\n",
    "#%%time\n",
    "df_taskb = pd.read_csv('testset-levelb.tsv', sep='\\t')\n",
    "df_taskb['resultado']= df_taskb['tweet'].apply(lambda x:predict_w2v(x))\n"
   ]
  },
  {
   "cell_type": "code",
   "execution_count": null,
   "metadata": {},
   "outputs": [],
   "source": []
  }
 ],
 "metadata": {
  "kernelspec": {
   "display_name": "Python 3",
   "language": "python",
   "name": "python3"
  },
  "language_info": {
   "codemirror_mode": {
    "name": "ipython",
    "version": 3
   },
   "file_extension": ".py",
   "mimetype": "text/x-python",
   "name": "python",
   "nbconvert_exporter": "python",
   "pygments_lexer": "ipython3",
   "version": "3.8.3"
  }
 },
 "nbformat": 4,
 "nbformat_minor": 4
}
