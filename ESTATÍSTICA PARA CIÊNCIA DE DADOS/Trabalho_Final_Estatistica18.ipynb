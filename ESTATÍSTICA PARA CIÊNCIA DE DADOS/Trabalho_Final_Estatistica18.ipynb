{
 "cells": [
  {
   "cell_type": "markdown",
   "metadata": {},
   "source": [
    "# Universidade de Fortaleza\n",
    "PPGIA – Introdução a estatística aplicada a ciência dos dados\n",
    "\n",
    "Elaborado por Prof. Elizabeth S. Furtado em colaboração prof. Furlan Duarte\n",
    "\n",
    "Alunos:\n",
    "*   Marcus Vinicius Barbosa Nunes de Miranda 2016706\n",
    "\n",
    "*   Agenor Bezerra Nunes Junior 2016402\n",
    "\n",
    "*   Ricardo Gleidson de Vasconcelos 2016409\n",
    "\n"
   ]
  },
  {
   "cell_type": "markdown",
   "metadata": {},
   "source": [
    "Trabalho Final de estatística (5 ptos)"
   ]
  },
  {
   "cell_type": "markdown",
   "metadata": {},
   "source": [
    "Objetivos: Aplicar os conhecimentos em estatística."
   ]
  },
  {
   "cell_type": "markdown",
   "metadata": {},
   "source": [
    "Dada uma matriz n x n esférica:\n",
    "\n",
    "Esférica: o indivíduo, digamos na borda direita pode ainda se deslocar para a direita,\n",
    "surgindo na borda esquerda da matriz. O mesmo acontece para as outras bordas;"
   ]
  },
  {
   "cell_type": "markdown",
   "metadata": {},
   "source": [
    "# 1. Alimentá-la inicialmente com os seguintes indivíduos:\n",
    "\n",
    "    1.1. Um infectado, cuja posição é aleatória;\n",
    "    1.2. Um número randômico de assintomáticos, cujas posições são aleatórias;\n",
    "    1.3. Um número randômico de sintomáticos, cujas posições são aleatórias;"
   ]
  },
  {
   "cell_type": "code",
   "execution_count": 601,
   "metadata": {},
   "outputs": [],
   "source": [
    "# IMPORTANDO AS BIBLIOTECAS\n",
    "import numpy as np\n",
    "import pandas as pd\n",
    "import matplotlib.pyplot as plt\n",
    "import random\n",
    "from time import time\n",
    "import scipy.stats as stats\n",
    "from scipy.stats import normaltest\n",
    "from scipy.stats import shapiro\n",
    "from scipy.stats import chi2_contingency\n",
    "from scipy.stats import chi2\n",
    "from scipy.stats import chisquare\n",
    "SEED = 45\n",
    "np.random.seed(SEED)\n",
    "%matplotlib inline"
   ]
  },
  {
   "cell_type": "markdown",
   "metadata": {},
   "source": [
    "2. A forma de desenvolvimento:\n",
    "\n",
    "    2.1. A rede evolui em passos, cada passo significa a mudança de todos os indivíduos\n",
    "    infectados de posição. Antes disso, ele realiza todas as tarefas de infecção sobre os\n",
    "    outros indivíduos;\n",
    "    \n",
    "\n",
    "3. A mobilidade;\n",
    "\n",
    "    3.1. Somente os indivíduos infectados caminham ou mudam de posição no passo. Os\n",
    "    outros indivíduos permanecem estáticos;\n",
    "    \n",
    "    3.2. Apenas indivíduos infectados circulam na rede\n",
    "    \n",
    "    \n",
    "4. O indivíduo infectado deverá infectar os seus vizinhos diretos (não diagonais) em dois\n",
    "    casos, desenvolvidos separadamente:\n",
    "    \n",
    "    4.1. Apenas com 30% de chance;\n",
    "    \n",
    "    4.2. Com 100% de chance;\n",
    "    \n",
    "    \n",
    "5. A infecção:\n",
    "\n",
    "    5.1. O infectado adquiri a propriedade de infectar;\n",
    "    \n",
    "    5.2. O infectante infecta os seus vizinhos, considerando as regras do item 4;\n",
    "    \n",
    "    5.2.1. O indivíduo assintomático apresenta uma infecção do tipo 1;\n",
    "    \n",
    "    5.2.2. Os indivíduos sintomáticos apresentam uma infecção tipo 2:\n",
    "    \n",
    "    5.2.3. O programa deve escolher quem é sintomático com chance de 20%.\n",
    "    \n",
    "    \n",
    "6. A cura:\n",
    "\n",
    "    6.1. A cura dos infectados ocorre após 10 atualizações;\n",
    "    \n",
    "    \n",
    "7. A morte:\n",
    "\n",
    "    7.1. A morte pode ocorrer para os indivíduos do tipo 2, do início da infecção até a 10 atualização com 2% de chance;\n",
    "    \n",
    "8. Para cada um dos casos do item 4, verifique com quantos passos sua rede atinge 100%\n",
    "de infectados e com 50% deste valor colha os seguintes dados:\n",
    "\n",
    "    8.1. Número de assintomáticos;\n",
    "\n",
    "    8.2. Número de sintomáticos;\n",
    "\n",
    "    8.3. Número de infectados tipos 1 e tipo 2;\n",
    "\n",
    "    8.4. Número de curados;\n",
    "\n",
    "    8.5. Número de mortos;\n",
    "    "
   ]
  },
  {
   "cell_type": "code",
   "execution_count": 602,
   "metadata": {},
   "outputs": [],
   "source": [
    "# PARÂMETROS E VARIÁVEIS DO ALGORITMO \n",
    "\n",
    "# Quantidade de linhas e colunas da matriz\n",
    "n = 100 \n",
    "\n",
    "# Chance de infecção (30% ou 100%)\n",
    "chance_infeccao = 30 \n",
    "\n",
    "# Chance de obito para os indivíduos infectados do tipo 2 (2%)\n",
    "chance_obito = 2 \n",
    "\n",
    "# Indentifica os indivíduos sadios\n",
    "flag_sadio = 0 \n",
    "\n",
    "# Indentifica os indivíduos infectados do tipo 1 (assintomático)\n",
    "flag_infectado_1 = 1 \n",
    "\n",
    "# Indentifica os indivíduos infectados do tipo 2 (sintomáticos)\n",
    "flag_infectado_2 = 2 \n",
    "\n",
    "# Indentifica os indivíduos curados\n",
    "flag_curado = 3 \n",
    "\n",
    "# Indentifica os indivíduos que morreram\n",
    "flag_obito = 4 \n",
    "\n",
    "# Identifica o limite de tempo para a cura de um indivíduo\n",
    "lapso_temporal_cura = 10 \n",
    "\n",
    "# Quantidade de indivíduos sadios\n",
    "qtde_sadio = n*n - 1 \n",
    "\n",
    "# Quantidade de indivíduos infectados do tipo 1 (assintomático)\n",
    "qtde_infectado_1 = 0 \n",
    "\n",
    "# Quantidade de indivíduos infectados do tipo 2 (sintomáticos)\n",
    "qtde_infectado_2 = 0 \n",
    "\n",
    "# Quantidade de indivíduos curados\n",
    "qtde_curado = 0 \n",
    "\n",
    "# Quantidade de indivíduos que morreram\n",
    "qtde_obito = 0 \n",
    "\n",
    "# Quantidade de indivíduos assintomático que foram curados\n",
    "qtde_curado_1 = 0\n",
    "\n",
    "# Quantidade de indivíduos sintomático que foram curados\n",
    "qtde_curado_2 = 0 "
   ]
  },
  {
   "cell_type": "code",
   "execution_count": 603,
   "metadata": {},
   "outputs": [
    {
     "name": "stdout",
     "output_type": "stream",
     "text": [
      "Criando a Matriz sem informação\n",
      "[[0 0 0 ... 0 0 0]\n",
      " [0 0 0 ... 0 0 0]\n",
      " [0 0 0 ... 0 0 0]\n",
      " ...\n",
      " [0 0 0 ... 0 0 0]\n",
      " [0 0 0 ... 0 0 0]\n",
      " [0 0 0 ... 0 0 0]]\n",
      "********************************\n",
      "******** MATRIZ INICIAL ********\n",
      "********************************\n",
      " [[0 0 0 ... 0 0 0]\n",
      " [0 0 0 ... 0 0 0]\n",
      " [0 0 0 ... 0 0 0]\n",
      " ...\n",
      " [0 0 0 ... 0 0 0]\n",
      " [0 0 0 ... 0 0 0]\n",
      " [0 0 0 ... 0 0 0]]\n",
      "\n",
      "Quantitativo de indivíduos no passo 0 :\n",
      "  Sadios:  9999\n",
      "  Infectados (Tipo 1):  0\n",
      "  Infectados (Tipo 2):  1\n",
      "  Curados:  0 ( 0 / 0 )\n",
      "  Obitos:  0\n",
      "Total:  10000 \n",
      "\n"
     ]
    }
   ],
   "source": [
    "# CRIANDO A MATRIZ (N X N)\n",
    "matriz = np.random.randint(1, size=(n, n), dtype=np.int32)\n",
    "print('Criando a Matriz sem informação')\n",
    "print(matriz)\n",
    "\n",
    "# INSERINDO UM ELEMENTO INFECTADO EM UMA POSIÇÃO ALEATÓRIA\n",
    "num_linha_infectado = np.random.randint(0, n)\n",
    "num_coluna_infectado = np.random.randint(0, n)\n",
    "\n",
    "lista_infectado = [] #[[linha, coluna], lapso, tipo]\n",
    "\n",
    "if np.random.randint(1, 101) <= 20:\n",
    "    matriz[num_linha_infectado, num_coluna_infectado] = flag_infectado_2\n",
    "    lista_infectado.append([[num_linha_infectado, num_coluna_infectado], 0, flag_infectado_2])\n",
    "    qtde_infectado_2 += 1\n",
    "else:\n",
    "    matriz[num_linha_infectado, num_coluna_infectado] = flag_infectado_1\n",
    "    lista_infectado.append([[num_linha_infectado, num_coluna_infectado], 0, flag_infectado_1])\n",
    "    qtde_infectado_1 += 1\n",
    "\n",
    "print('********************************')\n",
    "print('******** MATRIZ INICIAL ********')\n",
    "print('********************************\\n', matriz)\n",
    "\n",
    "def imprime_quantidades(passo: int):\n",
    "    print('\\nQuantitativo de indivíduos no passo', passo, ':')\n",
    "    print('  Sadios: ', qtde_sadio)\n",
    "    print('  Infectados (Tipo 1): ', qtde_infectado_1)\n",
    "    print('  Infectados (Tipo 2): ', qtde_infectado_2)\n",
    "    print('  Curados: ', qtde_curado, '(',qtde_curado_1, '/', qtde_curado_2, ')')\n",
    "    print('  Obitos: ', qtde_obito)\n",
    "    print('Total: ', qtde_sadio + qtde_infectado_1 + qtde_infectado_2 + qtde_curado + qtde_obito, '\\n')\n",
    "    \n",
    "imprime_quantidades(0)"
   ]
  },
  {
   "cell_type": "markdown",
   "metadata": {},
   "source": [
    "# Definindo as funções de manipulação da rede"
   ]
  },
  {
   "cell_type": "code",
   "execution_count": 604,
   "metadata": {},
   "outputs": [],
   "source": [
    "# CALCULA O PRÓXIMA MOVIMENTO DE UM INDIVIDUO NA MATRIZ (ESFÉRICA)\n",
    "def busca_proxima_posicao(linha: int, coluna: int, direcao: int):\n",
    "    if direcao == 0:\n",
    "        if coluna == 0:\n",
    "            coluna = n - 1\n",
    "        else:\n",
    "            coluna = coluna - 1\n",
    "    elif direcao == 1:\n",
    "        if linha == 0:\n",
    "            linha = n - 1\n",
    "        else:\n",
    "            linha = linha - 1\n",
    "    elif direcao == 2:\n",
    "        if coluna == n - 1:\n",
    "            coluna = 0\n",
    "        else:\n",
    "            coluna = coluna + 1\n",
    "    else:\n",
    "        if linha == n - 1:\n",
    "            linha = 0\n",
    "        else:\n",
    "            linha = linha + 1\n",
    "    return [linha, coluna]\n",
    "\n",
    "# ATUALIZA A LISTA DE INFECTADOS\n",
    "def insere_lista_infectado(linha: int, coluna: int, tipo: int):\n",
    "    global qtde_sadio\n",
    "    global qtde_infectado_1\n",
    "    global qtde_infectado_2\n",
    "    flag_ja_existe = False\n",
    "    for infectado in lista_infectado:\n",
    "        l, c = infectado[0][0], infectado[0][1]\n",
    "        if l == linha and c == coluna:\n",
    "            flag_ja_existe = True\n",
    "    if not flag_ja_existe:\n",
    "        lista_infectado.append([[linha, coluna], 0, tipo])\n",
    "        qtde_sadio -= 1\n",
    "        if tipo == flag_infectado_2:\n",
    "             qtde_infectado_2 += 1\n",
    "        else:\n",
    "            qtde_infectado_1 += 1\n",
    "\n",
    "#  ATUALIZA O LAPSO TEMPORAL DOS INFECTADOS\n",
    "def atualiza_lapso_temporal_infectado():\n",
    "    for infectado in lista_infectado:\n",
    "        infectado[1] += 1\n",
    "        \n",
    "# DETERMINA A CURA DOS INFECTADOS QUE ATINGIRAM O LAPSO TEMPORAL DA CURA\n",
    "def determina_cura():\n",
    "    global qtde_curado\n",
    "    global qtde_infectado_1\n",
    "    global qtde_infectado_2\n",
    "    global qtde_curado_1\n",
    "    global qtde_curado_2\n",
    "    lista_infectado_aux = lista_infectado.copy()\n",
    "    for infectado in lista_infectado_aux:\n",
    "        if infectado[1] >= lapso_temporal_cura:\n",
    "            #print('Indivíduo curado: ', infectado)\n",
    "            linha, coluna, tipo = infectado[0][0], infectado[0][1], infectado[2]\n",
    "            matriz[linha, coluna] = flag_curado\n",
    "            lista_infectado.remove(infectado)\n",
    "            qtde_curado += 1\n",
    "            if tipo == flag_infectado_2:\n",
    "                qtde_infectado_2 -= 1\n",
    "                qtde_curado_2 += 1\n",
    "            else:\n",
    "                qtde_infectado_1 -= 1\n",
    "                qtde_curado_1 += 1\n",
    "\n",
    "# VERIFICA A OCORRÊNCIA DE OBITO PARA OS INDIVÍDUOS INFECTADOS DO TIPO 2\n",
    "def verifica_obito():\n",
    "    global qtde_obito\n",
    "    global qtde_infectado_2\n",
    "    lista_infectado_aux = lista_infectado.copy()\n",
    "    for infectado in lista_infectado_aux:\n",
    "        linha, coluna, tipo = infectado[0][0], infectado[0][1], infectado[2]\n",
    "        if tipo == flag_infectado_2 and chance_obito >= np.random.randint(1, 101):\n",
    "            #print('Decretado obito de: ', infectado)\n",
    "            matriz[linha, coluna] = flag_obito\n",
    "            lista_infectado.remove(infectado)\n",
    "            qtde_obito += 1\n",
    "            qtde_infectado_2 -= 1\n",
    "\n",
    "# PERCORRE A LISTA DE INFECTADOS REALIZANDO OS PRÓXIMOS MOVIMENTOS\n",
    "def realiza_movimento():\n",
    "    lista_infectado_aux = lista_infectado.copy()\n",
    "    for infectado in lista_infectado_aux:\n",
    "        if chance_infeccao >= np.random.randint(1, 101) or chance_infeccao == 100:\n",
    "            #0-Esquerda\n",
    "            linha, coluna = busca_proxima_posicao(infectado[0][0], infectado[0][1], 0) \n",
    "            if matriz[linha, coluna] == flag_sadio:\n",
    "                if np.random.randint(1, 101) > 20:\n",
    "                    matriz[linha, coluna] = flag_infectado_1\n",
    "                    insere_lista_infectado(linha, coluna, flag_infectado_1)\n",
    "                else:\n",
    "                    matriz[linha, coluna] = flag_infectado_2\n",
    "                    insere_lista_infectado(linha, coluna, flag_infectado_2)\n",
    "            #1-Acima\n",
    "            linha, coluna = busca_proxima_posicao(infectado[0][0], infectado[0][1], 1) \n",
    "            if matriz[linha, coluna] == flag_sadio:\n",
    "                if np.random.randint(1, 101) > 20:\n",
    "                    matriz[linha, coluna] = flag_infectado_1\n",
    "                    insere_lista_infectado(linha, coluna, flag_infectado_1)\n",
    "                else:\n",
    "                    matriz[linha, coluna] = flag_infectado_2\n",
    "                    insere_lista_infectado(linha, coluna, flag_infectado_2)\n",
    "            #2-Direita\n",
    "            linha, coluna = busca_proxima_posicao(infectado[0][0], infectado[0][1], 2) \n",
    "            if matriz[linha, coluna] == flag_sadio:\n",
    "                if np.random.randint(1, 101) > 20:\n",
    "                    matriz[linha, coluna] = flag_infectado_1\n",
    "                    insere_lista_infectado(linha, coluna, flag_infectado_1)\n",
    "                else:\n",
    "                    matriz[linha, coluna] = flag_infectado_2\n",
    "                    insere_lista_infectado(linha, coluna, flag_infectado_2)\n",
    "            #3-Abaixo    \n",
    "            linha, coluna = busca_proxima_posicao(infectado[0][0], infectado[0][1], 3) \n",
    "            if matriz[linha, coluna] == flag_sadio:\n",
    "                if np.random.randint(1, 101) > 20:\n",
    "                    matriz[linha, coluna] = flag_infectado_1\n",
    "                    insere_lista_infectado(linha, coluna, flag_infectado_1)\n",
    "                else:\n",
    "                    matriz[linha, coluna] = flag_infectado_2\n",
    "                    insere_lista_infectado(linha, coluna, flag_infectado_2)\n",
    "                "
   ]
  },
  {
   "cell_type": "markdown",
   "metadata": {},
   "source": [
    "# Executando o contágio da rede"
   ]
  },
  {
   "cell_type": "code",
   "execution_count": 605,
   "metadata": {},
   "outputs": [
    {
     "name": "stdout",
     "output_type": "stream",
     "text": [
      "50% dos indivíduos infectados no passo: 91\n",
      "\n",
      "Quantitativo de indivíduos no passo 91 :\n",
      "  Sadios:  4982\n",
      "  Infectados (Tipo 1):  818\n",
      "  Infectados (Tipo 2):  191\n",
      "  Curados:  3861 ( 3212 / 649 )\n",
      "  Obitos:  148\n",
      "Total:  10000 \n",
      "\n"
     ]
    },
    {
     "data": {
      "image/png": "[encoded data removed]",
      "text/plain": [
       "<Figure size 720x720 with 1 Axes>"
      ]
     },
     "metadata": {
      "needs_background": "light"
     },
     "output_type": "display_data"
    },
    {
     "name": "stdout",
     "output_type": "stream",
     "text": [
      "Tempo de simulação da rede: 2.814232349395752\n",
      "\n",
      "Quantitativo de indivíduos no passo 170 :\n",
      "  Sadios:  1\n",
      "  Infectados (Tipo 1):  0\n",
      "  Infectados (Tipo 2):  0\n",
      "  Curados:  9673 ( 8045 / 1628 )\n",
      "  Obitos:  326\n",
      "Total:  10000 \n",
      "\n",
      "******************************\n",
      "******** MATRIZ FINAL ********\n",
      "******************************\n",
      " [[4 3 3 ... 3 3 3]\n",
      " [3 3 3 ... 3 3 3]\n",
      " [3 3 3 ... 3 3 3]\n",
      " ...\n",
      " [3 3 3 ... 3 3 3]\n",
      " [3 3 3 ... 3 4 3]\n",
      " [3 3 3 ... 3 3 3]]\n"
     ]
    }
   ],
   "source": [
    "num_passo = 0\n",
    "df = pd.DataFrame(columns=[])\n",
    "flag_chegou_metade = False\n",
    "start = time()\n",
    "while len(lista_infectado) > 0:\n",
    "    realiza_movimento()\n",
    "    num_passo = num_passo + 1\n",
    "    atualiza_lapso_temporal_infectado()\n",
    "    if num_passo >= lapso_temporal_cura:\n",
    "        determina_cura()\n",
    "    verifica_obito()\n",
    "    if (qtde_infectado_1 + qtde_infectado_2 + qtde_curado + qtde_obito) >= qtde_sadio and not flag_chegou_metade:\n",
    "        print('50% dos indivíduos infectados no passo:', num_passo)\n",
    "        imprime_quantidades(num_passo)\n",
    "        flag_chegou_metade = True\n",
    "        fig, ax = plt.subplots(figsize=(10,10))\n",
    "        mapa_de_cor = plt.cm.viridis\n",
    "        ax.imshow(matriz, cmap=mapa_de_cor)\n",
    "        plt.show()\n",
    "    df[num_passo] = [qtde_sadio, qtde_infectado_1, qtde_infectado_2, qtde_curado, qtde_curado_1, qtde_curado_2, qtde_obito]\n",
    "    \n",
    "end = time()\n",
    "print('Tempo de simulação da rede:', end - start)\n",
    "\n",
    "if (qtde_sadio) == 0:\n",
    "    print('\\n100% dos indivíduos foram infectados no passo <<', num_passo, '>>')\n",
    "imprime_quantidades(num_passo)\n",
    "print('******************************')\n",
    "print('******** MATRIZ FINAL ********')\n",
    "print('******************************\\n', matriz)\n",
    "\n",
    "df = df.T\n",
    "df.columns = ['sadio', 'infectado_1', 'infectado_2', 'curado', 'curado_1', 'curado_2', 'obito']"
   ]
  },
  {
   "cell_type": "markdown",
   "metadata": {},
   "source": [
    "# Visualizando os resultados"
   ]
  },
  {
   "cell_type": "code",
   "execution_count": 606,
   "metadata": {},
   "outputs": [
    {
     "data": {
      "image/png": "[encoded data removed]",
      "text/plain": [
       "<Figure size 1152x648 with 1 Axes>"
      ]
     },
     "metadata": {
      "needs_background": "light"
     },
     "output_type": "display_data"
    }
   ],
   "source": [
    "plt.figure(figsize=(16,9))\n",
    "plt.bar(df.index, df['infectado_2'], label='Infectado (Tipo 2)')\n",
    "plt.bar(df.index, df['infectado_1'], label='Infectado (Tipo 1)', bottom=df['infectado_2'])\n",
    "plt.bar(df.index, df['sadio'], label='Sadio', bottom=df['infectado_1'] + df['infectado_2'])\n",
    "plt.bar(df.index, df['curado'], label='Curado', bottom=df['infectado_1'] + df['infectado_2'] + df['sadio'])\n",
    "plt.bar(df.index, df['obito'], label='Óbito', bottom=df['infectado_1'] + df['infectado_2'] + df['sadio'] + df['curado'])\n",
    "plt.title('Evolução da infecção na rede')\n",
    "plt.xlabel('Lapso temporal')\n",
    "plt.ylabel('Quantidade de Indivíduos')\n",
    "plt.legend()\n",
    "plt.show()"
   ]
  },
  {
   "cell_type": "code",
   "execution_count": 607,
   "metadata": {},
   "outputs": [
    {
     "data": {
      "image/png": "[encoded data removed]",
      "text/plain": [
       "<Figure size 1152x648 with 1 Axes>"
      ]
     },
     "metadata": {
      "needs_background": "light"
     },
     "output_type": "display_data"
    }
   ],
   "source": [
    "plt.figure(figsize=(16,9))\n",
    "plt.bar(df.index, df['infectado_1'], alpha = 0.5, label='Infectado (Tipo 1)', bottom=df['infectado_2'])\n",
    "plt.bar(df.index, df['infectado_2'], alpha = 0.5, label='Infectado (Tipo 2)')\n",
    "plt.title('Evolução dos indivíduos infectados (tipos 1  e 2)')\n",
    "plt.xlabel('Lapso temporal')\n",
    "plt.ylabel('Quantidade de Indivíduos')\n",
    "plt.legend()\n",
    "plt.show()"
   ]
  },
  {
   "cell_type": "code",
   "execution_count": 608,
   "metadata": {},
   "outputs": [
    {
     "data": {
      "image/png": "[encoded data removed]",
      "text/plain": [
       "<Figure size 1008x576 with 1 Axes>"
      ]
     },
     "metadata": {
      "needs_background": "light"
     },
     "output_type": "display_data"
    }
   ],
   "source": [
    "plt.figure(figsize=(14,8))\n",
    "plt.bar(df.index, df['obito'], label='Obito')\n",
    "plt.bar(df.index, df['infectado_2'], alpha = 0.5, label='Infectado (Tipo 2)')\n",
    "plt.title('Evolução dos indivíduos Infectados (Tipo 2) x Óbitos')\n",
    "plt.xlabel('Lapso temporal')\n",
    "plt.ylabel('Quantidade de Indivíduos')\n",
    "plt.legend()\n",
    "plt.show()"
   ]
  },
  {
   "cell_type": "code",
   "execution_count": 609,
   "metadata": {},
   "outputs": [
    {
     "data": {
      "image/png": "[encoded data removed]",
      "text/plain": [
       "<Figure size 1152x648 with 1 Axes>"
      ]
     },
     "metadata": {
      "needs_background": "light"
     },
     "output_type": "display_data"
    }
   ],
   "source": [
    "plt.figure(figsize=(16,9))\n",
    "plt.bar(df.index, df['sadio'], alpha = 0.5, label='Sadio')\n",
    "plt.bar(df.index, df['curado'], alpha = 0.5, label='Curado')\n",
    "plt.title('Evolução dos indivíduos Sadios x Curados')\n",
    "plt.xlabel('Lapso temporal')\n",
    "plt.ylabel('Quantidade de Indivíduos')\n",
    "plt.legend()\n",
    "plt.show()"
   ]
  },
  {
   "cell_type": "code",
   "execution_count": 610,
   "metadata": {},
   "outputs": [
    {
     "data": {
      "image/png": "[encoded data removed]",
      "text/plain": [
       "<Figure size 1080x360 with 5 Axes>"
      ]
     },
     "metadata": {
      "needs_background": "light"
     },
     "output_type": "display_data"
    }
   ],
   "source": [
    "fig, axs = plt.subplots(1, 5, figsize=(15,5))\n",
    "\n",
    "axs[0].boxplot(df['sadio'], patch_artist=True)\n",
    "axs[0].set_title('Sadio')\n",
    "\n",
    "axs[1].boxplot(df['infectado_1'], patch_artist=True)\n",
    "axs[1].set_title('Infectado (Tipo 1)')\n",
    "\n",
    "axs[2].boxplot(df['infectado_2'], patch_artist=True)\n",
    "axs[2].set_title('Infectado (Tipo 2)')\n",
    "\n",
    "axs[3].boxplot(df['curado'], patch_artist=True)\n",
    "axs[3].set_title('Curado')\n",
    "\n",
    "axs[4].boxplot(df['obito'], patch_artist=True)\n",
    "axs[4].set_title('Obito')\n",
    "\n",
    "plt.show()"
   ]
  },
  {
   "cell_type": "markdown",
   "metadata": {},
   "source": [
    "# 9. Os valores gerados no item 8, para cada caso do item 4, devem analisados estatisticamente e:"
   ]
  },
  {
   "cell_type": "markdown",
   "metadata": {},
   "source": [
    "9.1. Realize a estatística descritiva;"
   ]
  },
  {
   "cell_type": "code",
   "execution_count": 611,
   "metadata": {},
   "outputs": [
    {
     "data": {
      "text/html": [
       "<div>\n",
       "<style scoped>\n",
       "    .dataframe tbody tr th:only-of-type {\n",
       "        vertical-align: middle;\n",
       "    }\n",
       "\n",
       "    .dataframe tbody tr th {\n",
       "        vertical-align: top;\n",
       "    }\n",
       "\n",
       "    .dataframe thead th {\n",
       "        text-align: right;\n",
       "    }\n",
       "</style>\n",
       "<table border=\"1\" class=\"dataframe\">\n",
       "  <thead>\n",
       "    <tr style=\"text-align: right;\">\n",
       "      <th></th>\n",
       "      <th>sadio</th>\n",
       "      <th>infectado_1</th>\n",
       "      <th>infectado_2</th>\n",
       "      <th>curado</th>\n",
       "      <th>curado_1</th>\n",
       "      <th>curado_2</th>\n",
       "      <th>obito</th>\n",
       "    </tr>\n",
       "  </thead>\n",
       "  <tbody>\n",
       "    <tr>\n",
       "      <th>1</th>\n",
       "      <td>9999</td>\n",
       "      <td>0</td>\n",
       "      <td>1</td>\n",
       "      <td>0</td>\n",
       "      <td>0</td>\n",
       "      <td>0</td>\n",
       "      <td>0</td>\n",
       "    </tr>\n",
       "    <tr>\n",
       "      <th>2</th>\n",
       "      <td>9999</td>\n",
       "      <td>0</td>\n",
       "      <td>1</td>\n",
       "      <td>0</td>\n",
       "      <td>0</td>\n",
       "      <td>0</td>\n",
       "      <td>0</td>\n",
       "    </tr>\n",
       "    <tr>\n",
       "      <th>3</th>\n",
       "      <td>9999</td>\n",
       "      <td>0</td>\n",
       "      <td>1</td>\n",
       "      <td>0</td>\n",
       "      <td>0</td>\n",
       "      <td>0</td>\n",
       "      <td>0</td>\n",
       "    </tr>\n",
       "    <tr>\n",
       "      <th>4</th>\n",
       "      <td>9995</td>\n",
       "      <td>3</td>\n",
       "      <td>2</td>\n",
       "      <td>0</td>\n",
       "      <td>0</td>\n",
       "      <td>0</td>\n",
       "      <td>0</td>\n",
       "    </tr>\n",
       "    <tr>\n",
       "      <th>5</th>\n",
       "      <td>9990</td>\n",
       "      <td>5</td>\n",
       "      <td>5</td>\n",
       "      <td>0</td>\n",
       "      <td>0</td>\n",
       "      <td>0</td>\n",
       "      <td>0</td>\n",
       "    </tr>\n",
       "    <tr>\n",
       "      <th>...</th>\n",
       "      <td>...</td>\n",
       "      <td>...</td>\n",
       "      <td>...</td>\n",
       "      <td>...</td>\n",
       "      <td>...</td>\n",
       "      <td>...</td>\n",
       "      <td>...</td>\n",
       "    </tr>\n",
       "    <tr>\n",
       "      <th>166</th>\n",
       "      <td>1</td>\n",
       "      <td>9</td>\n",
       "      <td>2</td>\n",
       "      <td>9662</td>\n",
       "      <td>8036</td>\n",
       "      <td>1626</td>\n",
       "      <td>326</td>\n",
       "    </tr>\n",
       "    <tr>\n",
       "      <th>167</th>\n",
       "      <td>1</td>\n",
       "      <td>4</td>\n",
       "      <td>2</td>\n",
       "      <td>9667</td>\n",
       "      <td>8041</td>\n",
       "      <td>1626</td>\n",
       "      <td>326</td>\n",
       "    </tr>\n",
       "    <tr>\n",
       "      <th>168</th>\n",
       "      <td>1</td>\n",
       "      <td>3</td>\n",
       "      <td>2</td>\n",
       "      <td>9668</td>\n",
       "      <td>8042</td>\n",
       "      <td>1626</td>\n",
       "      <td>326</td>\n",
       "    </tr>\n",
       "    <tr>\n",
       "      <th>169</th>\n",
       "      <td>1</td>\n",
       "      <td>1</td>\n",
       "      <td>1</td>\n",
       "      <td>9671</td>\n",
       "      <td>8044</td>\n",
       "      <td>1627</td>\n",
       "      <td>326</td>\n",
       "    </tr>\n",
       "    <tr>\n",
       "      <th>170</th>\n",
       "      <td>1</td>\n",
       "      <td>0</td>\n",
       "      <td>0</td>\n",
       "      <td>9673</td>\n",
       "      <td>8045</td>\n",
       "      <td>1628</td>\n",
       "      <td>326</td>\n",
       "    </tr>\n",
       "  </tbody>\n",
       "</table>\n",
       "<p>170 rows × 7 columns</p>\n",
       "</div>"
      ],
      "text/plain": [
       "     sadio  infectado_1  infectado_2  curado  curado_1  curado_2  obito\n",
       "1     9999            0            1       0         0         0      0\n",
       "2     9999            0            1       0         0         0      0\n",
       "3     9999            0            1       0         0         0      0\n",
       "4     9995            3            2       0         0         0      0\n",
       "5     9990            5            5       0         0         0      0\n",
       "..     ...          ...          ...     ...       ...       ...    ...\n",
       "166      1            9            2    9662      8036      1626    326\n",
       "167      1            4            2    9667      8041      1626    326\n",
       "168      1            3            2    9668      8042      1626    326\n",
       "169      1            1            1    9671      8044      1627    326\n",
       "170      1            0            0    9673      8045      1628    326\n",
       "\n",
       "[170 rows x 7 columns]"
      ]
     },
     "execution_count": 611,
     "metadata": {},
     "output_type": "execute_result"
    }
   ],
   "source": [
    "df"
   ]
  },
  {
   "cell_type": "code",
   "execution_count": 612,
   "metadata": {},
   "outputs": [
    {
     "data": {
      "text/html": [
       "<div>\n",
       "<style scoped>\n",
       "    .dataframe tbody tr th:only-of-type {\n",
       "        vertical-align: middle;\n",
       "    }\n",
       "\n",
       "    .dataframe tbody tr th {\n",
       "        vertical-align: top;\n",
       "    }\n",
       "\n",
       "    .dataframe thead th {\n",
       "        text-align: right;\n",
       "    }\n",
       "</style>\n",
       "<table border=\"1\" class=\"dataframe\">\n",
       "  <thead>\n",
       "    <tr style=\"text-align: right;\">\n",
       "      <th></th>\n",
       "      <th>sadio</th>\n",
       "      <th>infectado_1</th>\n",
       "      <th>infectado_2</th>\n",
       "      <th>curado</th>\n",
       "      <th>curado_1</th>\n",
       "      <th>curado_2</th>\n",
       "      <th>obito</th>\n",
       "    </tr>\n",
       "  </thead>\n",
       "  <tbody>\n",
       "    <tr>\n",
       "      <th>count</th>\n",
       "      <td>170.000000</td>\n",
       "      <td>170.000000</td>\n",
       "      <td>170.000000</td>\n",
       "      <td>170.000000</td>\n",
       "      <td>170.000000</td>\n",
       "      <td>170.000000</td>\n",
       "      <td>170.000000</td>\n",
       "    </tr>\n",
       "    <tr>\n",
       "      <th>mean</th>\n",
       "      <td>5119.247059</td>\n",
       "      <td>425.911765</td>\n",
       "      <td>93.847059</td>\n",
       "      <td>4208.011765</td>\n",
       "      <td>3497.747059</td>\n",
       "      <td>710.264706</td>\n",
       "      <td>152.982353</td>\n",
       "    </tr>\n",
       "    <tr>\n",
       "      <th>std</th>\n",
       "      <td>3809.257485</td>\n",
       "      <td>309.332931</td>\n",
       "      <td>65.792215</td>\n",
       "      <td>3632.611048</td>\n",
       "      <td>3025.172621</td>\n",
       "      <td>607.481546</td>\n",
       "      <td>124.082883</td>\n",
       "    </tr>\n",
       "    <tr>\n",
       "      <th>min</th>\n",
       "      <td>1.000000</td>\n",
       "      <td>0.000000</td>\n",
       "      <td>0.000000</td>\n",
       "      <td>0.000000</td>\n",
       "      <td>0.000000</td>\n",
       "      <td>0.000000</td>\n",
       "      <td>0.000000</td>\n",
       "    </tr>\n",
       "    <tr>\n",
       "      <th>25%</th>\n",
       "      <td>861.000000</td>\n",
       "      <td>149.000000</td>\n",
       "      <td>37.250000</td>\n",
       "      <td>630.500000</td>\n",
       "      <td>518.500000</td>\n",
       "      <td>112.000000</td>\n",
       "      <td>33.250000</td>\n",
       "    </tr>\n",
       "    <tr>\n",
       "      <th>50%</th>\n",
       "      <td>5617.000000</td>\n",
       "      <td>350.500000</td>\n",
       "      <td>79.000000</td>\n",
       "      <td>3367.000000</td>\n",
       "      <td>2796.500000</td>\n",
       "      <td>570.500000</td>\n",
       "      <td>129.000000</td>\n",
       "    </tr>\n",
       "    <tr>\n",
       "      <th>75%</th>\n",
       "      <td>8930.000000</td>\n",
       "      <td>682.000000</td>\n",
       "      <td>157.250000</td>\n",
       "      <td>8159.500000</td>\n",
       "      <td>6803.750000</td>\n",
       "      <td>1355.750000</td>\n",
       "      <td>291.000000</td>\n",
       "    </tr>\n",
       "    <tr>\n",
       "      <th>max</th>\n",
       "      <td>9999.000000</td>\n",
       "      <td>993.000000</td>\n",
       "      <td>215.000000</td>\n",
       "      <td>9673.000000</td>\n",
       "      <td>8045.000000</td>\n",
       "      <td>1628.000000</td>\n",
       "      <td>326.000000</td>\n",
       "    </tr>\n",
       "  </tbody>\n",
       "</table>\n",
       "</div>"
      ],
      "text/plain": [
       "             sadio  infectado_1  infectado_2       curado     curado_1  \\\n",
       "count   170.000000   170.000000   170.000000   170.000000   170.000000   \n",
       "mean   5119.247059   425.911765    93.847059  4208.011765  3497.747059   \n",
       "std    3809.257485   309.332931    65.792215  3632.611048  3025.172621   \n",
       "min       1.000000     0.000000     0.000000     0.000000     0.000000   \n",
       "25%     861.000000   149.000000    37.250000   630.500000   518.500000   \n",
       "50%    5617.000000   350.500000    79.000000  3367.000000  2796.500000   \n",
       "75%    8930.000000   682.000000   157.250000  8159.500000  6803.750000   \n",
       "max    9999.000000   993.000000   215.000000  9673.000000  8045.000000   \n",
       "\n",
       "          curado_2       obito  \n",
       "count   170.000000  170.000000  \n",
       "mean    710.264706  152.982353  \n",
       "std     607.481546  124.082883  \n",
       "min       0.000000    0.000000  \n",
       "25%     112.000000   33.250000  \n",
       "50%     570.500000  129.000000  \n",
       "75%    1355.750000  291.000000  \n",
       "max    1628.000000  326.000000  "
      ]
     },
     "execution_count": 612,
     "metadata": {},
     "output_type": "execute_result"
    }
   ],
   "source": [
    "df.describe()"
   ]
  },
  {
   "cell_type": "code",
   "execution_count": 613,
   "metadata": {},
   "outputs": [
    {
     "data": {
      "text/plain": [
       "sadio          1.451044e+07\n",
       "infectado_1    9.568686e+04\n",
       "infectado_2    4.328616e+03\n",
       "curado         1.319586e+07\n",
       "curado_1       9.151669e+06\n",
       "curado_2       3.690338e+05\n",
       "obito          1.539656e+04\n",
       "dtype: float64"
      ]
     },
     "execution_count": 613,
     "metadata": {},
     "output_type": "execute_result"
    }
   ],
   "source": [
    "df.var()"
   ]
  },
  {
   "cell_type": "code",
   "execution_count": 614,
   "metadata": {},
   "outputs": [
    {
     "data": {
      "text/plain": [
       "sadio          3809.257485\n",
       "infectado_1     309.332931\n",
       "infectado_2      65.792215\n",
       "curado         3632.611048\n",
       "curado_1       3025.172621\n",
       "curado_2        607.481546\n",
       "obito           124.082883\n",
       "dtype: float64"
      ]
     },
     "execution_count": 614,
     "metadata": {},
     "output_type": "execute_result"
    }
   ],
   "source": [
    "df.std()"
   ]
  },
  {
   "cell_type": "code",
   "execution_count": 615,
   "metadata": {},
   "outputs": [
    {
     "name": "stdout",
     "output_type": "stream",
     "text": [
      "                sadio  infectado_1  infectado_2    curado  curado_1  curado_2  \\\n",
      "sadio        1.000000    -0.191061    -0.179503 -0.994976 -0.994953 -0.995024   \n",
      "infectado_1 -0.191061     1.000000     0.989500  0.091867  0.091624  0.093071   \n",
      "infectado_2 -0.179503     0.989500     1.000000  0.080857  0.080775  0.081258   \n",
      "curado      -0.994976     0.091867     0.080857  1.000000  0.999998  0.999941   \n",
      "curado_1    -0.994953     0.091624     0.080775  0.999998  1.000000  0.999915   \n",
      "curado_2    -0.995024     0.093071     0.081258  0.999941  0.999915  1.000000   \n",
      "obito       -0.999205     0.158353     0.146458  0.997500  0.997490  0.997475   \n",
      "\n",
      "                obito  \n",
      "sadio       -0.999205  \n",
      "infectado_1  0.158353  \n",
      "infectado_2  0.146458  \n",
      "curado       0.997500  \n",
      "curado_1     0.997490  \n",
      "curado_2     0.997475  \n",
      "obito        1.000000  \n"
     ]
    }
   ],
   "source": [
    "print(df.corr())"
   ]
  },
  {
   "cell_type": "code",
   "execution_count": 616,
   "metadata": {},
   "outputs": [
    {
     "name": "stdout",
     "output_type": "stream",
     "text": [
      "                    sadio    infectado_1   infectado_2        curado  \\\n",
      "sadio        1.451044e+07 -225132.575705 -44986.849565 -1.376804e+07   \n",
      "infectado_1 -2.251326e+05   95686.861991  20138.010094  1.032297e+05   \n",
      "infectado_2 -4.498685e+04   20138.010094   4328.615524  1.932459e+04   \n",
      "curado      -1.376804e+07  103229.657849  19324.587609  1.319586e+07   \n",
      "curado_1    -1.146550e+07   85740.391751  16076.884163  1.098925e+07   \n",
      "curado_2    -2.302538e+06   17489.266098   3247.703446  2.206614e+06   \n",
      "obito       -4.722881e+05    6078.045771   1195.636338  4.496178e+05   \n",
      "\n",
      "                 curado_1      curado_2          obito  \n",
      "sadio       -1.146550e+07 -2.302538e+06 -472288.066620  \n",
      "infectado_1  8.574039e+04  1.748927e+04    6078.045771  \n",
      "infectado_2  1.607688e+04  3.247703e+03    1195.636338  \n",
      "curado       1.098925e+07  2.206614e+06  449617.822694  \n",
      "curado_1     9.151669e+06  1.837580e+06  374430.125687  \n",
      "curado_2     1.837580e+06  3.690338e+05   75187.697007  \n",
      "obito        3.744301e+05  7.518770e+04   15396.561817  \n"
     ]
    }
   ],
   "source": [
    "print(df.cov())"
   ]
  },
  {
   "cell_type": "code",
   "execution_count": 617,
   "metadata": {},
   "outputs": [
    {
     "data": {
      "image/png": "[encoded data removed]",
      "text/plain": [
       "<Figure size 2880x1440 with 9 Axes>"
      ]
     },
     "metadata": {
      "needs_background": "light"
     },
     "output_type": "display_data"
    }
   ],
   "source": [
    "g=df.hist(bins=50, figsize=(40,20)) # Histograms"
   ]
  },
  {
   "cell_type": "code",
   "execution_count": 618,
   "metadata": {},
   "outputs": [
    {
     "data": {
      "text/plain": [
       "<matplotlib.axes._subplots.AxesSubplot at 0x1f8909dd8c8>"
      ]
     },
     "execution_count": 618,
     "metadata": {},
     "output_type": "execute_result"
    },
    {
     "data": {
      "image/png": "[encoded data removed]",
      "text/plain": [
       "<Figure size 864x576 with 2 Axes>"
      ]
     },
     "metadata": {
      "needs_background": "light"
     },
     "output_type": "display_data"
    }
   ],
   "source": [
    "import seaborn as sns\n",
    "corr = df.corr()\n",
    "plt.figure(figsize = (12,8))\n",
    "sns.heatmap(corr, \n",
    "        xticklabels=corr.columns,\n",
    "        yticklabels=corr.columns)"
   ]
  },
  {
   "cell_type": "markdown",
   "metadata": {},
   "source": [
    "9.2. Verificar se o experimento se ajusta a uma distribuição normal."
   ]
  },
  {
   "cell_type": "markdown",
   "metadata": {},
   "source": [
    "9.2.1 - Analise Gráfica"
   ]
  },
  {
   "cell_type": "code",
   "execution_count": 619,
   "metadata": {},
   "outputs": [
    {
     "data": {
      "image/png": "[encoded data removed]",
      "text/plain": [
       "<Figure size 432x288 with 1 Axes>"
      ]
     },
     "metadata": {
      "needs_background": "light"
     },
     "output_type": "display_data"
    }
   ],
   "source": [
    "from statsmodels.graphics.gofplots import qqplot\n",
    "from matplotlib import pyplot\n",
    "qqplot((df['sadio']), line='s')\n",
    "pyplot.show()\n"
   ]
  },
  {
   "cell_type": "code",
   "execution_count": 620,
   "metadata": {},
   "outputs": [
    {
     "data": {
      "image/png": "[encoded data removed]",
      "text/plain": [
       "<Figure size 432x288 with 1 Axes>"
      ]
     },
     "metadata": {
      "needs_background": "light"
     },
     "output_type": "display_data"
    }
   ],
   "source": [
    "from statsmodels.graphics.gofplots import qqplot\n",
    "from matplotlib import pyplot\n",
    "qqplot((df['infectado_1']), line='s')\n",
    "pyplot.show()"
   ]
  },
  {
   "cell_type": "code",
   "execution_count": 621,
   "metadata": {},
   "outputs": [
    {
     "data": {
      "image/png": "[encoded data removed]",
      "text/plain": [
       "<Figure size 432x288 with 1 Axes>"
      ]
     },
     "metadata": {
      "needs_background": "light"
     },
     "output_type": "display_data"
    }
   ],
   "source": [
    "from statsmodels.graphics.gofplots import qqplot\n",
    "from matplotlib import pyplot\n",
    "qqplot((df['infectado_2']), line='s')\n",
    "pyplot.show()\n"
   ]
  },
  {
   "cell_type": "code",
   "execution_count": 622,
   "metadata": {},
   "outputs": [
    {
     "data": {
      "image/png": "[encoded data removed]",
      "text/plain": [
       "<Figure size 432x288 with 1 Axes>"
      ]
     },
     "metadata": {
      "needs_background": "light"
     },
     "output_type": "display_data"
    }
   ],
   "source": [
    "from statsmodels.graphics.gofplots import qqplot\n",
    "from matplotlib import pyplot\n",
    "qqplot((df['curado']), line='s')\n",
    "pyplot.show()"
   ]
  },
  {
   "cell_type": "code",
   "execution_count": 623,
   "metadata": {},
   "outputs": [
    {
     "data": {
      "image/png": "[encoded data removed]",
      "text/plain": [
       "<Figure size 432x288 with 1 Axes>"
      ]
     },
     "metadata": {
      "needs_background": "light"
     },
     "output_type": "display_data"
    }
   ],
   "source": [
    "from statsmodels.graphics.gofplots import qqplot\n",
    "from matplotlib import pyplot\n",
    "qqplot((df['curado_1']), line='s')\n",
    "pyplot.show()"
   ]
  },
  {
   "cell_type": "code",
   "execution_count": 624,
   "metadata": {},
   "outputs": [
    {
     "data": {
      "image/png": "[encoded data removed]",
      "text/plain": [
       "<Figure size 432x288 with 1 Axes>"
      ]
     },
     "metadata": {
      "needs_background": "light"
     },
     "output_type": "display_data"
    }
   ],
   "source": [
    "from statsmodels.graphics.gofplots import qqplot\n",
    "from matplotlib import pyplot\n",
    "qqplot((df['curado_2']), line='s')\n",
    "pyplot.show()"
   ]
  },
  {
   "cell_type": "code",
   "execution_count": 625,
   "metadata": {},
   "outputs": [
    {
     "data": {
      "image/png": "[encoded data removed]",
      "text/plain": [
       "<Figure size 432x288 with 1 Axes>"
      ]
     },
     "metadata": {
      "needs_background": "light"
     },
     "output_type": "display_data"
    }
   ],
   "source": [
    "from statsmodels.graphics.gofplots import qqplot\n",
    "from matplotlib import pyplot\n",
    "qqplot((df['obito']), line='s')\n",
    "pyplot.show()\n"
   ]
  },
  {
   "cell_type": "markdown",
   "metadata": {},
   "source": [
    "9.2.2 - Teste de Shapiro Wilk"
   ]
  },
  {
   "cell_type": "markdown",
   "metadata": {},
   "source": [
    "Definindo a significância do teste ($\\alpha$)"
   ]
  },
  {
   "cell_type": "code",
   "execution_count": 626,
   "metadata": {},
   "outputs": [],
   "source": [
    "significancia = 0.05 "
   ]
  },
  {
   "cell_type": "markdown",
   "metadata": {},
   "source": [
    "O teste de *Shapiro* verifica a hipótese nula $H_0$ de que a amostra é proveniente de uma distribuição normal.\n",
    "\n",
    "<font color='red'>Critério do valor $p$</font>\n",
    "\n",
    "> Rejeitar $H_0$ se o valor $p\\leq 0,05$"
   ]
  },
  {
   "cell_type": "markdown",
   "metadata": {},
   "source": [
    "Verificando se o experimento se ajusta a uma distribuição normal para os sadios"
   ]
  },
  {
   "cell_type": "code",
   "execution_count": 627,
   "metadata": {},
   "outputs": [
    {
     "data": {
      "text/plain": [
       "1      9999\n",
       "2      9999\n",
       "3      9999\n",
       "4      9995\n",
       "5      9990\n",
       "       ... \n",
       "166       1\n",
       "167       1\n",
       "168       1\n",
       "169       1\n",
       "170       1\n",
       "Name: sadio, Length: 170, dtype: int64"
      ]
     },
     "execution_count": 627,
     "metadata": {},
     "output_type": "execute_result"
    }
   ],
   "source": [
    "df['sadio']"
   ]
  },
  {
   "cell_type": "code",
   "execution_count": 628,
   "metadata": {},
   "outputs": [
    {
     "name": "stdout",
     "output_type": "stream",
     "text": [
      "Valor da estatística: 0.8637535572052002\n",
      "Valor de p: 0.000000\n",
      "A hipótese H0 deve ser rejeitada para os \"sadios\".\n"
     ]
    }
   ],
   "source": [
    "stat_test, p_valor = shapiro(df['sadio'])\n",
    "print('Valor da estatística:', stat_test)\n",
    "print('Valor de p:', '%f' % p_valor)\n",
    "\n",
    "if p_valor <= significancia:\n",
    "    print('A hipótese H0 deve ser rejeitada para os \"sadios\".')\n",
    "else:\n",
    "    print('Não é possível rejeitar a hipótese H0 para os \"sadios\".')\n"
   ]
  },
  {
   "cell_type": "markdown",
   "metadata": {},
   "source": [
    "Verificando se o experimento se ajusta a uma distribuição normal para os Infectados Tipo 1"
   ]
  },
  {
   "cell_type": "code",
   "execution_count": 629,
   "metadata": {},
   "outputs": [
    {
     "name": "stdout",
     "output_type": "stream",
     "text": [
      "Valor da estatística: 0.9293953776359558\n",
      "Valor de p: 0.000000\n",
      "A hipótese H0 deve ser rejeitada para os \"Infectados (Tipo 1)\".\n"
     ]
    }
   ],
   "source": [
    "stat_test, p_valor = shapiro(df['infectado_1'])\n",
    "print('Valor da estatística:', stat_test)\n",
    "print('Valor de p:', '%f' % p_valor)\n",
    "\n",
    "if p_valor <= significancia:\n",
    "    print('A hipótese H0 deve ser rejeitada para os \"Infectados (Tipo 1)\".')\n",
    "else:\n",
    "    print('Não é possível rejeitar a hipótese H0 para os \"Infectados (Tipo 1)\".')\n"
   ]
  },
  {
   "cell_type": "markdown",
   "metadata": {},
   "source": [
    "Verificando se o experimento se ajusta a uma distribuição normal para os Infectados Tipo 2"
   ]
  },
  {
   "cell_type": "code",
   "execution_count": 630,
   "metadata": {},
   "outputs": [
    {
     "data": {
      "text/plain": [
       "1      1\n",
       "2      1\n",
       "3      1\n",
       "4      2\n",
       "5      5\n",
       "      ..\n",
       "166    2\n",
       "167    2\n",
       "168    2\n",
       "169    1\n",
       "170    0\n",
       "Name: infectado_2, Length: 170, dtype: int64"
      ]
     },
     "execution_count": 630,
     "metadata": {},
     "output_type": "execute_result"
    }
   ],
   "source": [
    "df['infectado_2']"
   ]
  },
  {
   "cell_type": "code",
   "execution_count": 631,
   "metadata": {},
   "outputs": [
    {
     "name": "stdout",
     "output_type": "stream",
     "text": [
      "Valor da estatística: 0.9296845197677612\n",
      "Valor de p: 0.000000\n",
      "A hipótese H0 deve ser rejeitada para os \"Infectados (Tipo 2)\".\n"
     ]
    }
   ],
   "source": [
    "stat_test, p_valor = shapiro(df['infectado_2'])\n",
    "print('Valor da estatística:', stat_test)\n",
    "print('Valor de p:', '%f' % p_valor)\n",
    "\n",
    "if p_valor <= significancia:\n",
    "    print('A hipótese H0 deve ser rejeitada para os \"Infectados (Tipo 2)\".')\n",
    "else:\n",
    "    print('Não é possível rejeitar a hipótese H0 para os \"Infectados (Tipo 2)\".')\n"
   ]
  },
  {
   "cell_type": "markdown",
   "metadata": {},
   "source": [
    "Verificando se o experimento se ajusta a uma distribuição normal para os curados"
   ]
  },
  {
   "cell_type": "code",
   "execution_count": 632,
   "metadata": {},
   "outputs": [
    {
     "name": "stdout",
     "output_type": "stream",
     "text": [
      "Valor da estatística: 0.8615397214889526\n",
      "Valor de p: 0.000000\n",
      "A hipótese H0 deve ser rejeitada para os \"curados\".\n"
     ]
    }
   ],
   "source": [
    "stat_test, p_valor = shapiro(df['curado'])\n",
    "print('Valor da estatística:', stat_test)\n",
    "print('Valor de p:', '%f' % p_valor)\n",
    "\n",
    "if p_valor <= significancia:\n",
    "    print('A hipótese H0 deve ser rejeitada para os \"curados\".')\n",
    "else:\n",
    "    print('Não é possível rejeitar a hipótese H0 para os \"curados\".')"
   ]
  },
  {
   "cell_type": "markdown",
   "metadata": {},
   "source": [
    "Verificando se o experimento se ajusta a uma distribuição normal para os mortos"
   ]
  },
  {
   "cell_type": "code",
   "execution_count": 633,
   "metadata": {},
   "outputs": [
    {
     "name": "stdout",
     "output_type": "stream",
     "text": [
      "Valor da estatística: 0.8628259301185608\n",
      "Valor de p: 0.000000\n",
      "A hipótese H0 deve ser rejeitada para os \"mortos\".\n"
     ]
    }
   ],
   "source": [
    "stat_test, p_valor = shapiro(df['obito'])\n",
    "print('Valor da estatística:', stat_test)\n",
    "print('Valor de p:', '%f' % p_valor)\n",
    "\n",
    "if p_valor <= significancia:\n",
    "    print('A hipótese H0 deve ser rejeitada para os \"mortos\".')\n",
    "else:\n",
    "    print('Não é possível rejeitar a hipótese H0 para os \"mortos\".')"
   ]
  },
  {
   "cell_type": "markdown",
   "metadata": {},
   "source": [
    "9.2.3 - Teste de Kolmogorov-Smirnov"
   ]
  },
  {
   "cell_type": "code",
   "execution_count": 634,
   "metadata": {},
   "outputs": [
    {
     "name": "stdout",
     "output_type": "stream",
     "text": [
      "KstestResult(statistic=0.9398265725566052, pvalue=6.307683049218565e-208)\n",
      "KstestResult(statistic=0.9692383372624875, pvalue=1.8310368198644203e-257)\n",
      "KstestResult(statistic=0.9478381033459384, pvalue=1.782813246143953e-218)\n",
      "KstestResult(statistic=0.9294114780543105, pvalue=3.85677524329398e-196)\n",
      "KstestResult(statistic=0.8823212699346374, pvalue=2.582850766232783e-158)\n"
     ]
    }
   ],
   "source": [
    "from scipy.stats import kstest\n",
    "import numpy as np\n",
    "\n",
    "a = df[\"sadio\"]\n",
    "test_stat_a = kstest(a, 'norm')\n",
    "b = df[\"infectado_1\"]\n",
    "test_stat_b = kstest(b, 'norm')\n",
    "c = df[\"infectado_2\"]\n",
    "test_stat_c = kstest(c, 'norm')\n",
    "d = df[\"curado\"]\n",
    "test_stat_d = kstest(d, 'norm')\n",
    "e = df[\"obito\"]\n",
    "test_stat_e = kstest(e, 'norm')\n",
    "print(test_stat_a)\n",
    "print(test_stat_b)\n",
    "print(test_stat_c)\n",
    "print(test_stat_d)\n",
    "print(test_stat_e)\n",
    "\n",
    "# Se a estatística K-S é pequena ou o valor p é alto, então não podemos rejeitar a hipótese \n",
    "# de que as distribuições das duas amostras são as mesmas.\n",
    "# Não é possível rejeitar, não significa que confirmamos."
   ]
  },
  {
   "cell_type": "markdown",
   "metadata": {},
   "source": [
    "9.3. Verifique com quantos passos sua rede atinge 100% de infectados:        "
   ]
  },
  {
   "cell_type": "code",
   "execution_count": 635,
   "metadata": {},
   "outputs": [],
   "source": [
    "if (qtde_sadio) == 0:\n",
    "    print('\\n100% dos indivíduos foram infectados no passo <<', num_passo, '>>')"
   ]
  },
  {
   "cell_type": "markdown",
   "metadata": {},
   "source": [
    "9.3.1. Com base nestes dados, verifique com 95% de confiança, qual o número de cada indivíduo no passo n/2+1;"
   ]
  },
  {
   "cell_type": "code",
   "execution_count": 636,
   "metadata": {},
   "outputs": [
    {
     "name": "stdout",
     "output_type": "stream",
     "text": [
      "Total de Passos:                   : 170\n",
      "Numero de indivíduos no passo n/2+1 : 86\n",
      "******************** INTERVALO DE CONFIANÇA ********************\n",
      "Indivíduos Sadios:              (5940.025534894132, 11152.230279059357)\n",
      "Indivíduos Infectados (Tipo 1): (-108.20700519905523, 782.9977028734738)\n",
      "Indivíduos Infectados (Tipo 2): (-19.540988785613678, 170.2851748321253)\n",
      "Indivíduos Curados:             (-1007.6145681677971, 3005.963405377099)\n",
      "Indivíduos Mortos:              (-35.780915783658045, 119.64138089993712)\n"
     ]
    }
   ],
   "source": [
    "passo_n_2 = len(df)//2+1\n",
    "print('Total de Passos:                   :', len(df))\n",
    "print('Numero de indivíduos no passo n/2+1 :', passo_n_2)\n",
    "df_passo = df.iloc[0:passo_n_2]\n",
    "\n",
    "media = df_passo['sadio'].mean(axis=0)                                                                                      \n",
    "desvio_padrao = np.std(df_passo['sadio'])                                          \n",
    "conf_int_s = stats.norm.interval(0.95, loc=media, scale=desvio_padrao) \n",
    "#print(desvio_padrao/media*100)\n",
    "#print(media)\n",
    "\n",
    "media = df_passo['infectado_1'].mean(axis=0)                                                                                      \n",
    "desvio_padrao = np.std(df_passo['infectado_1'])                                          \n",
    "conf_int_i1 = stats.norm.interval(0.95, loc=media, scale=desvio_padrao) \n",
    "#print(desvio_padrao/media*100)\n",
    "#print(media)\n",
    "\n",
    "media = df_passo['infectado_2'].mean(axis=0)                                                                                      \n",
    "desvio_padrao = np.std(df_passo['infectado_2'])                                          \n",
    "conf_int_i2 = stats.norm.interval(0.95, loc=media, scale=desvio_padrao) \n",
    "#print('inf2',desvio_padrao)\n",
    "#print(media)\n",
    "\n",
    "media = df_passo['curado'].mean(axis=0)                                                                                      \n",
    "desvio_padrao = np.std(df_passo['curado'])                                          \n",
    "conf_int_c = stats.norm.interval(0.95, loc=media, scale=desvio_padrao) \n",
    "#print(desvio_padrao/media*100)\n",
    "#print(media)\n",
    "\n",
    "media = df_passo['obito'].mean(axis=0)                                                                                      \n",
    "desvio_padrao = np.std(df_passo['obito'])                                          \n",
    "conf_int_o = stats.norm.interval(0.95, loc=media, scale=desvio_padrao)\n",
    "#print(desvio_padrao/media*100)\n",
    "#print(media)\n",
    "\n",
    "print('******************** INTERVALO DE CONFIANÇA ********************')\n",
    "print('Indivíduos Sadios:             ', conf_int_s)\n",
    "print('Indivíduos Infectados (Tipo 1):', conf_int_i1)\n",
    "print('Indivíduos Infectados (Tipo 2):', conf_int_i2)\n",
    "print('Indivíduos Curados:            ', conf_int_c)\n",
    "print('Indivíduos Mortos:             ', conf_int_o)\n"
   ]
  },
  {
   "cell_type": "code",
   "execution_count": 637,
   "metadata": {},
   "outputs": [
    {
     "data": {
      "text/plain": [
       "sadio          5432\n",
       "infectado_1     769\n",
       "infectado_2     170\n",
       "curado         3493\n",
       "curado_1       2901\n",
       "curado_2        592\n",
       "obito           136\n",
       "Name: 87, dtype: int64"
      ]
     },
     "execution_count": 637,
     "metadata": {},
     "output_type": "execute_result"
    }
   ],
   "source": [
    "#Vericar se os dados estão dentro do intervalo\n",
    "df.iloc[passo_n_2]"
   ]
  },
  {
   "cell_type": "markdown",
   "metadata": {},
   "source": [
    "9.3.2. Verifique a independência das contaminações entre assintomáticos e sintomáticos através de CHI-Square, com base na seguinte relação: são esperados 18% de doentes e 80% de assintomáticos e 2% de mortos;"
   ]
  },
  {
   "cell_type": "markdown",
   "metadata": {},
   "source": [
    "### Verificação da independência das contaminações\n",
    "O teste do $\\chi^2$ testa a hipótese nula de não haver diferença entre as frequências observadas de um determinado evento e as frequências que são realmente esperadas para este evento.\n",
    "\n",
    "<font color='red'>Critério do valor $p$</font>\n",
    "\n",
    "> ##### Rejeitar $H_0$ se o valor $p\\leq\\alpha$"
   ]
  },
  {
   "cell_type": "code",
   "execution_count": 638,
   "metadata": {},
   "outputs": [
    {
     "name": "stdout",
     "output_type": "stream",
     "text": [
      "Valor da estatística: 0.005387799070707504\n",
      "Valor de p: 0.9973097257558787\n",
      "Com um nível de confiança de 95%, concluímos não ser possível rejeitar a hipótese H0.\n"
     ]
    }
   ],
   "source": [
    "doente = df['infectado_2'].iloc[passo_n_2-1] + df['curado_2'].iloc[passo_n_2-1]\n",
    "assintomatico = df['infectado_1'].iloc[passo_n_2-1] + df['curado_1'].iloc[passo_n_2-1]\n",
    "morto = df['obito'].iloc[passo_n_2-1]\n",
    "\n",
    "F_Observada = [doente/(doente + assintomatico + morto),  assintomatico/(doente + assintomatico + morto), \n",
    "               morto/(doente + assintomatico + morto)]\n",
    "F_Esperada = [0.18, 0.8, 0.02]\n",
    "\n",
    "chi_2, p_valor = chisquare(f_obs=F_Observada, f_exp=F_Esperada)\n",
    "\n",
    "print('Valor da estatística:', chi_2)\n",
    "print('Valor de p:', p_valor)\n",
    "\n",
    "if p_valor <= significancia:\n",
    "    print('Com um nível de confiança de 95%, rejeitamos a hipótese nula (H0) e concluímos que as frequências observadas e esperadas são discrepantes.')\n",
    "else:\n",
    "    print('Com um nível de confiança de 95%, concluímos não ser possível rejeitar a hipótese H0.')"
   ]
  }
 ],
 "metadata": {
  "kernelspec": {
   "display_name": "Python 3",
   "language": "python",
   "name": "python3"
  },
  "language_info": {
   "codemirror_mode": {
    "name": "ipython",
    "version": 3
   },
   "file_extension": ".py",
   "mimetype": "text/x-python",
   "name": "python",
   "nbconvert_exporter": "python",
   "pygments_lexer": "ipython3",
   "version": "3.8.3"
  }
 },
 "nbformat": 4,
 "nbformat_minor": 4
}
